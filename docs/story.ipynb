{
 "cells": [
  {
   "attachments": {},
   "cell_type": "markdown",
   "metadata": {},
   "source": [
    "\n",
    "# CO2-uitstoot van auto's in de Europese Unie: Tussen afname en de noodzaak tot verdere reductie \n"
   ]
  },
  {
   "attachments": {},
   "cell_type": "markdown",
   "metadata": {},
   "source": [
    "\n",
    "## Introductie\n",
    "\n",
    "De toenemende CO2-uitstoot door auto’s vormt een dringende uitdaging op het gebied van milieu en klimaatverandering. Wereldwijd heeft de transportsector een aanzienlijk aandeel in de totale uitstoot van broeikasgassen, waarbij auto’s een substantieel deel voor hun rekening nemen. Om een duidelijker beeld te krijgen van welke automerken of modellen hogere of lagere uitstoot hebben, en om mensen in staat te stellen milieubewustere beslissingen te nemen, gaan we in deze data story dieper in op de monitoring van de CO2-uitstoot van personenauto's in de Europese Unie.\n",
    "\n",
    "Onze data story maakt gebruik van datasets uit de jaren 2015 tot en met 2021. Deze datasets bevatten uitgebreide informatie over de CO2-uitstoot van auto’s. We hebben ervoor gekozen om het jaar 2015 als startpunt te nemen voor onze analyse, omdat dit het jaar was waarin het klimaatakkoord van Parijs werd ondertekend. In artikel 4.4 van dit internationale akkoord wordt namelijk aangegeven dat alle deelnemende landen zich verbinden aan het bereiken van een zogenaamde ‘gedeelde inspanning’ om de uitstoot van broeikasgassen aanzienlijk te verminderen. Door middel van dit artikel zouden we de data dus kunnen analyseren en uitzoeken of het akkoord inderdaad heeft gezorgd voor een vermindering.\n",
    "\n",
    "Verder zullen we in deze data story de data vanuit twee tegenstellende perspectieven interpreteren. Aan de ene kant hebben we het perspectief dat CO2-emissies in het wegverkeer van 2015 tot en met 2021 zijn afgenomen, waardoor het geen significant probleem meer vormt. Daarentegen hebben we het perspectief dat de CO2-emissies niet zijn afgenomen in de afgelopen jaren, waardoor het noodzakelijk is om deze te verminderen.\n",
    "\n",
    "Om deze perspectieven te onderzoeken en te onderbouwen, zullen we gebruikmaken van visuele representaties. Onder andere zullen grafieken en diagrammen ons helpen om patronen, trends en verschillen in emissieniveaus te ontdekken. Deze visuele presentaties stellen ons in staat om in één oogopslag te illustreren welke veranderingen in emissies tussen 2015 en 2021 hebben plaatsgevonden.\n",
    "\n",
    "Door gebruik te maken van de beschikbare gegevens en deze te visualiseren, streven we ernaar om een helder beeld te bieden van de CO2-uitstoot van auto’s."
   ]
  },
  {
   "cell_type": "code",
   "execution_count": 5,
   "metadata": {
    "tags": [
     "hide-cell"
    ]
   },
   "outputs": [],
   "source": [
    "# Import packages\n",
    "import plotly.express as px\n",
    "import plotly.graph_objects as go\n",
    "import pandas as pd\n",
    "from plotly.subplots import make_subplots\n",
    "import numpy as np\n",
    "import random\n"
   ]
  },
  {
   "cell_type": "code",
   "execution_count": 3,
   "metadata": {
    "tags": [
     "hide-cell"
    ]
   },
   "outputs": [],
   "source": [
    "# Retrieve csv files for visualisations\n",
    "country_emission = pd.read_csv(\"country_emission.csv\")\n",
    "country_emission_reduction = pd.read_csv(\"country_emission_reduction.csv\")\n",
    "ft_mean_emission = pd.read_csv(\"ft_mean_emission.csv\")\n",
    "eu_emission = pd.read_csv(\"eu_emission.csv\")\n",
    "car_emission = pd.read_csv(\"car_emission.csv\")\n",
    "\n",
    "# total_emission = pd.read_csv(\"total_emission.csv\")\n",
    "# df_counts = pd.read_csv(\"fuel_type_distribution.csv\")\n",
    "# total_emission_per_ft = pd.read_csv(\"total_emission_per_ft.csv\")\n"
   ]
  },
  {
   "attachments": {},
   "cell_type": "markdown",
   "metadata": {},
   "source": [
    "\n",
    "## Dataset and preprocessing\n",
    "\n",
    "Voor onze data story hebben wij gebruik gemaakt van de CO2 Cars Emission Datasets van het Europees Mileauagentschap (EEA). Dit zijn 7 datasets die de jaren 2015-2021 vertegenwoordigen en deze bevatten gegevens over de CO2-uitstoot van personenauto's in Europa. In de datasets is informatie te vinden over de uitstoot van meerdere Europese landen en over diverse overige aspecten, waaronder het merk en het model van de auto, het jaar van registratie, het brandstoftype, de CO2-uitstoot in gram per kilometer en andere technische specificaties.\n",
    "\n",
    "Om onze dataset voor te bereiden op verdere analyse, hebben we een reeks preprocessing-stappen toegepast. Ons doel was om de data schoon te maken, te filteren en te transformeren, zodat het geschikt zou zijn voor onze specifieke behoeften. Ten eerste hebben we de zeven afzonderlijke datasets samengevoegd. Door deze datasets samen te voegen, konden we een meer omvattend beeld krijgen van de CO2-uitstoot van personenauto’s over een periode van zeven jaar waardoor het later makkelijker zou zijn om de visualisaties te creëren. Daarna hebben we onze dataset gefilterd op basis van de kolommen die we nodig hadden voor onze visualisaties en ook de rijen met ontbrekende waarden helemaal verwijderd. Om ervoor te zorgen dat de brandstoftypen consistent waren, hebben we een transformatie toegepast. We hebben de slashes in de brandstoftypen bijvoorbeeld vervangen door streepjes en alle tekst naar kleine letters geconverteerd. Bovendien hebben we een nieuwe kolom toegevoegd aan de dataset, namelijk het jaartal. De originele datasets bevatten deze kolom natuurlijk niet aangezien ze gericht zijn op jaarlijkse uitstoot, maar omdat wij deze datasets hebben samengevoegd was het relevant om het toe te voegen. Vervolgens hebben we alle kolomnamen hernoemd omdat de zeven datasets verschillende namen gebruikten voor dezelfde kolommen. In de ene dataset werd de kolom bijvoorbeeld 'Country' genoemd, terwijl in een andere dataset 'Member state' werd gebruikt. Ten slotte hebben we de rijen met 'Hydrogen' als brandstoftype uitgefilterd.\n",
    "\n",
    "Door deze preprocessing-stappen toe te passen, hebben we een schone, gefilterde en getransformeerde dataset verkregen, die klaar was voor verdere analyse."
   ]
  },
  {
   "cell_type": "code",
   "execution_count": 31,
   "metadata": {
    "tags": [
     "hide-input"
    ]
   },
   "outputs": [
    {
     "data": {
      "application/vnd.plotly.v1+json": {
       "config": {
        "plotlyServerURL": "https://plot.ly"
       },
       "data": [
        {
         "alignmentgroup": "True",
         "error_y": {
          "array": [
           47.05923961065241,
           27.40896271789013,
           41.87692102920178,
           30.64955980059362,
           36.59204639126933,
           40.29940206288685,
           25.03622838669907,
           27.92021276537111,
           26.798571357043983,
           37.20531753746905,
           27.845792614387552,
           37.63886266412658,
           18.582751792380307,
           24.246063281685444,
           38.868325191376655,
           25.15539443212598,
           71.62486631788036,
           22.784068361293183,
           30.22821470167189,
           37.19180144197188,
           32.44601826492974,
           27.181730655037374,
           35.71982970987877,
           28.39003025639796,
           33.97187051313528,
           28.79587943283152,
           51.485500679024,
           31.48792537232694,
           31.074187194267
          ]
         },
         "hovertemplate": "year=2018<br>Landcode=%{x}<br>CO2 emissie in WLTP (g/km)=%{y}<extra></extra>",
         "legendgroup": "",
         "marker": {
          "color": "#636efa",
          "pattern": {
           "shape": ""
          }
         },
         "name": "",
         "offsetgroup": "",
         "orientation": "v",
         "showlegend": false,
         "textposition": "auto",
         "type": "bar",
         "x": [
          "AT",
          "BE",
          "BG",
          "CY",
          "CZ",
          "DE",
          "DK",
          "EE",
          "ES",
          "FI",
          "FR",
          "GB",
          "GR",
          "HR",
          "HU",
          "IE",
          "IS",
          "IT",
          "LT",
          "LU",
          "LV",
          "MT",
          "NL",
          "PL",
          "PT",
          "RO",
          "SE",
          "SI",
          "SK"
         ],
         "xaxis": "x4",
         "y": [
          145.97298675952007,
          146.95719560033842,
          149.52277076157674,
          143.8083650190114,
          159.2967664825403,
          154.97948656429944,
          139.2747979044513,
          157.7042364843503,
          146.4050046339203,
          140.1038063510065,
          138.37030933261073,
          151.31942289771496,
          136.29233778186838,
          141.0443488333609,
          150.81177041559172,
          137.71141104294475,
          120.5,
          144.60303040993438,
          156.35886622204785,
          160.8915465523958,
          154.30614805520702,
          127.41767068273091,
          139.3681407123416,
          157.805782075085,
          133.01407038325345,
          147.49235665170198,
          147.50464235903567,
          145.227010336958,
          157.9495190018097
         ],
         "yaxis": "y4"
        },
        {
         "alignmentgroup": "True",
         "error_y": {
          "array": [
           58.69478285896872,
           49.60546679123067,
           43.36520715659196,
           32.805484129746894,
           36.43747942403248,
           66.04342933196926,
           55.83593646618063,
           38.86553864269759,
           35.64685223976808,
           54.25932379154046,
           45.58793854151139,
           31.169042904127647,
           31.643348862275072,
           43.34913146018842,
           44.14594079153123,
           74.78737732065704,
           36.21426783418872,
           41.619449835031126,
           65.66027844466107,
           41.09710541490741,
           46.51373515666396,
           57.49248752775551,
           50.11562516618507,
           34.89620850337809,
           47.43389675854546,
           42.68587716234525,
           66.64912612402213,
           35.51449555548698,
           35.277839903246495
          ]
         },
         "hovertemplate": "year=2019<br>Landcode=%{x}<br>CO2 emissie in WLTP (g/km)=%{y}<extra></extra>",
         "legendgroup": "",
         "marker": {
          "color": "#636efa",
          "pattern": {
           "shape": ""
          }
         },
         "name": "",
         "offsetgroup": "",
         "orientation": "v",
         "showlegend": false,
         "textposition": "auto",
         "type": "bar",
         "x": [
          "AT",
          "BE",
          "BG",
          "CY",
          "CZ",
          "DE",
          "DK",
          "EE",
          "ES",
          "FI",
          "FR",
          "GR",
          "HR",
          "HU",
          "IE",
          "IS",
          "IT",
          "LT",
          "LU",
          "LV",
          "MT",
          "NL",
          "NO",
          "PL",
          "PT",
          "RO",
          "SE",
          "SI",
          "SK"
         ],
         "xaxis": "x3",
         "y": [
          116.51665260586525,
          117.27342172064476,
          139.81242089643433,
          145.77723782680533,
          135.9472985140708,
          113.79416284234078,
          93.090959425072,
          142.57689550098584,
          126.81479105175114,
          98.34614414262887,
          108.87898455647677,
          119.72027811583504,
          128.98675191141575,
          133.0029590419993,
          113.04934644615044,
          81.45366094986808,
          124.62766769552798,
          135.74446348323687,
          124.15723101033352,
          142.5735460191982,
          104.21281371148746,
          95.30524282595827,
          28.242892449044863,
          136.21475323044632,
          107.2976228773246,
          126.56557173589276,
          90.25906536141056,
          133.9123449885248,
          139.19105760963026
         ],
         "yaxis": "y3"
        },
        {
         "alignmentgroup": "True",
         "error_y": {
          "array": [
           58.69478285896872,
           49.60546679123067,
           43.36520715659196,
           32.805484129746894,
           36.43747942403248,
           66.04342933196786,
           55.83593646618063,
           38.86553864269759,
           35.646852239767355,
           54.25932379154046,
           45.58793854151139,
           31.169042904127647,
           31.643348862275072,
           43.34913146018842,
           44.14594079153123,
           74.78737732065704,
           36.21426783418872,
           41.619449835031126,
           65.66027844466107,
           41.09710541490741,
           46.51373515666396,
           57.49248752775551,
           50.11562516618507,
           34.89620850337841,
           47.43389675854546,
           42.68587716234525,
           66.64912612402213,
           35.51449555548698,
           35.277839903246495
          ]
         },
         "hovertemplate": "year=2020<br>Landcode=%{x}<br>CO2 emissie in WLTP (g/km)=%{y}<extra></extra>",
         "legendgroup": "",
         "marker": {
          "color": "#636efa",
          "pattern": {
           "shape": ""
          }
         },
         "name": "",
         "offsetgroup": "",
         "orientation": "v",
         "showlegend": false,
         "textposition": "auto",
         "type": "bar",
         "x": [
          "AT",
          "BE",
          "BG",
          "CY",
          "CZ",
          "DE",
          "DK",
          "EE",
          "ES",
          "FI",
          "FR",
          "GR",
          "HR",
          "HU",
          "IE",
          "IS",
          "IT",
          "LT",
          "LU",
          "LV",
          "MT",
          "NL",
          "NO",
          "PL",
          "PT",
          "RO",
          "SE",
          "SI",
          "SK"
         ],
         "xaxis": "x2",
         "y": [
          116.51665260586525,
          117.27342172064476,
          139.81242089643433,
          145.77723782680533,
          135.9472985140708,
          113.79416284234078,
          93.090959425072,
          142.57689550098584,
          126.81479105175114,
          98.34614414262887,
          108.87898455647677,
          119.72027811583504,
          128.98675191141575,
          133.0029590419993,
          113.04934644615044,
          81.45366094986808,
          124.62766769552798,
          135.74446348323687,
          124.15723101033352,
          142.5735460191982,
          104.21281371148746,
          95.30524282595827,
          28.242892449044863,
          136.21475323044632,
          107.2976228773246,
          126.56557173589276,
          90.25906536141056,
          133.9123449885248,
          139.19105760963026
         ],
         "yaxis": "y2"
        },
        {
         "alignmentgroup": "True",
         "error_y": {
          "array": [
           58.69478285896872,
           49.60546679123067,
           43.36520715659196,
           32.805484129746894,
           36.43747942403248,
           66.04342933196926,
           55.83593646618063,
           38.86553864269759,
           35.64685223976808,
           54.25932379154046,
           45.58793854151139,
           31.169042904127647,
           31.643348862275072,
           43.34913146018842,
           44.14594079153123,
           74.78737732065704,
           36.21426783418872,
           41.619449835031126,
           65.66027844466107,
           41.09710541490741,
           46.51373515666396,
           57.49248752775551,
           50.11562516618507,
           34.89620850337809,
           47.43389675854546,
           42.68587716234525,
           66.64912612402213,
           35.51449555548698,
           35.277839903246495
          ]
         },
         "hovertemplate": "year=2021<br>Landcode=%{x}<br>CO2 emissie in WLTP (g/km)=%{y}<extra></extra>",
         "legendgroup": "",
         "marker": {
          "color": "#636efa",
          "pattern": {
           "shape": ""
          }
         },
         "name": "",
         "offsetgroup": "",
         "orientation": "v",
         "showlegend": false,
         "textposition": "auto",
         "type": "bar",
         "x": [
          "AT",
          "BE",
          "BG",
          "CY",
          "CZ",
          "DE",
          "DK",
          "EE",
          "ES",
          "FI",
          "FR",
          "GR",
          "HR",
          "HU",
          "IE",
          "IS",
          "IT",
          "LT",
          "LU",
          "LV",
          "MT",
          "NL",
          "NO",
          "PL",
          "PT",
          "RO",
          "SE",
          "SI",
          "SK"
         ],
         "xaxis": "x",
         "y": [
          116.51665260586525,
          117.27342172064476,
          139.81242089643433,
          145.77723782680533,
          135.9472985140708,
          113.79416284234078,
          93.090959425072,
          142.57689550098584,
          126.81479105175114,
          98.34614414262887,
          108.87898455647677,
          119.72027811583504,
          128.98675191141575,
          133.0029590419993,
          113.04934644615044,
          81.45366094986808,
          124.62766769552798,
          135.74446348323687,
          124.15723101033352,
          142.5735460191982,
          104.21281371148746,
          95.30524282595827,
          28.242892449044863,
          136.21475323044632,
          107.2976228773246,
          126.56557173589276,
          90.25906536141056,
          133.9123449885248,
          139.19105760963026
         ],
         "yaxis": "y"
        }
       ],
       "layout": {
        "annotations": [
         {
          "font": {},
          "showarrow": false,
          "text": "Jaar=2021",
          "x": 0.5,
          "xanchor": "center",
          "xref": "paper",
          "y": 0.1975,
          "yanchor": "bottom",
          "yref": "paper"
         },
         {
          "font": {},
          "showarrow": false,
          "text": "Jaar=2020",
          "x": 0.5,
          "xanchor": "center",
          "xref": "paper",
          "y": 0.465,
          "yanchor": "bottom",
          "yref": "paper"
         },
         {
          "font": {},
          "showarrow": false,
          "text": "Jaar=2019",
          "x": 0.5,
          "xanchor": "center",
          "xref": "paper",
          "y": 0.7325,
          "yanchor": "bottom",
          "yref": "paper"
         },
         {
          "font": {},
          "showarrow": false,
          "text": "Jaar=2018",
          "x": 0.5,
          "xanchor": "center",
          "xref": "paper",
          "y": 1,
          "yanchor": "bottom",
          "yref": "paper"
         }
        ],
        "barmode": "relative",
        "height": 1000,
        "legend": {
         "tracegroupgap": 0
        },
        "template": {
         "data": {
          "bar": [
           {
            "error_x": {
             "color": "#2a3f5f"
            },
            "error_y": {
             "color": "#2a3f5f"
            },
            "marker": {
             "line": {
              "color": "#E5ECF6",
              "width": 0.5
             },
             "pattern": {
              "fillmode": "overlay",
              "size": 10,
              "solidity": 0.2
             }
            },
            "type": "bar"
           }
          ],
          "barpolar": [
           {
            "marker": {
             "line": {
              "color": "#E5ECF6",
              "width": 0.5
             },
             "pattern": {
              "fillmode": "overlay",
              "size": 10,
              "solidity": 0.2
             }
            },
            "type": "barpolar"
           }
          ],
          "carpet": [
           {
            "aaxis": {
             "endlinecolor": "#2a3f5f",
             "gridcolor": "white",
             "linecolor": "white",
             "minorgridcolor": "white",
             "startlinecolor": "#2a3f5f"
            },
            "baxis": {
             "endlinecolor": "#2a3f5f",
             "gridcolor": "white",
             "linecolor": "white",
             "minorgridcolor": "white",
             "startlinecolor": "#2a3f5f"
            },
            "type": "carpet"
           }
          ],
          "choropleth": [
           {
            "colorbar": {
             "outlinewidth": 0,
             "ticks": ""
            },
            "type": "choropleth"
           }
          ],
          "contour": [
           {
            "colorbar": {
             "outlinewidth": 0,
             "ticks": ""
            },
            "colorscale": [
             [
              0,
              "#0d0887"
             ],
             [
              0.1111111111111111,
              "#46039f"
             ],
             [
              0.2222222222222222,
              "#7201a8"
             ],
             [
              0.3333333333333333,
              "#9c179e"
             ],
             [
              0.4444444444444444,
              "#bd3786"
             ],
             [
              0.5555555555555556,
              "#d8576b"
             ],
             [
              0.6666666666666666,
              "#ed7953"
             ],
             [
              0.7777777777777778,
              "#fb9f3a"
             ],
             [
              0.8888888888888888,
              "#fdca26"
             ],
             [
              1,
              "#f0f921"
             ]
            ],
            "type": "contour"
           }
          ],
          "contourcarpet": [
           {
            "colorbar": {
             "outlinewidth": 0,
             "ticks": ""
            },
            "type": "contourcarpet"
           }
          ],
          "heatmap": [
           {
            "colorbar": {
             "outlinewidth": 0,
             "ticks": ""
            },
            "colorscale": [
             [
              0,
              "#0d0887"
             ],
             [
              0.1111111111111111,
              "#46039f"
             ],
             [
              0.2222222222222222,
              "#7201a8"
             ],
             [
              0.3333333333333333,
              "#9c179e"
             ],
             [
              0.4444444444444444,
              "#bd3786"
             ],
             [
              0.5555555555555556,
              "#d8576b"
             ],
             [
              0.6666666666666666,
              "#ed7953"
             ],
             [
              0.7777777777777778,
              "#fb9f3a"
             ],
             [
              0.8888888888888888,
              "#fdca26"
             ],
             [
              1,
              "#f0f921"
             ]
            ],
            "type": "heatmap"
           }
          ],
          "heatmapgl": [
           {
            "colorbar": {
             "outlinewidth": 0,
             "ticks": ""
            },
            "colorscale": [
             [
              0,
              "#0d0887"
             ],
             [
              0.1111111111111111,
              "#46039f"
             ],
             [
              0.2222222222222222,
              "#7201a8"
             ],
             [
              0.3333333333333333,
              "#9c179e"
             ],
             [
              0.4444444444444444,
              "#bd3786"
             ],
             [
              0.5555555555555556,
              "#d8576b"
             ],
             [
              0.6666666666666666,
              "#ed7953"
             ],
             [
              0.7777777777777778,
              "#fb9f3a"
             ],
             [
              0.8888888888888888,
              "#fdca26"
             ],
             [
              1,
              "#f0f921"
             ]
            ],
            "type": "heatmapgl"
           }
          ],
          "histogram": [
           {
            "marker": {
             "pattern": {
              "fillmode": "overlay",
              "size": 10,
              "solidity": 0.2
             }
            },
            "type": "histogram"
           }
          ],
          "histogram2d": [
           {
            "colorbar": {
             "outlinewidth": 0,
             "ticks": ""
            },
            "colorscale": [
             [
              0,
              "#0d0887"
             ],
             [
              0.1111111111111111,
              "#46039f"
             ],
             [
              0.2222222222222222,
              "#7201a8"
             ],
             [
              0.3333333333333333,
              "#9c179e"
             ],
             [
              0.4444444444444444,
              "#bd3786"
             ],
             [
              0.5555555555555556,
              "#d8576b"
             ],
             [
              0.6666666666666666,
              "#ed7953"
             ],
             [
              0.7777777777777778,
              "#fb9f3a"
             ],
             [
              0.8888888888888888,
              "#fdca26"
             ],
             [
              1,
              "#f0f921"
             ]
            ],
            "type": "histogram2d"
           }
          ],
          "histogram2dcontour": [
           {
            "colorbar": {
             "outlinewidth": 0,
             "ticks": ""
            },
            "colorscale": [
             [
              0,
              "#0d0887"
             ],
             [
              0.1111111111111111,
              "#46039f"
             ],
             [
              0.2222222222222222,
              "#7201a8"
             ],
             [
              0.3333333333333333,
              "#9c179e"
             ],
             [
              0.4444444444444444,
              "#bd3786"
             ],
             [
              0.5555555555555556,
              "#d8576b"
             ],
             [
              0.6666666666666666,
              "#ed7953"
             ],
             [
              0.7777777777777778,
              "#fb9f3a"
             ],
             [
              0.8888888888888888,
              "#fdca26"
             ],
             [
              1,
              "#f0f921"
             ]
            ],
            "type": "histogram2dcontour"
           }
          ],
          "mesh3d": [
           {
            "colorbar": {
             "outlinewidth": 0,
             "ticks": ""
            },
            "type": "mesh3d"
           }
          ],
          "parcoords": [
           {
            "line": {
             "colorbar": {
              "outlinewidth": 0,
              "ticks": ""
             }
            },
            "type": "parcoords"
           }
          ],
          "pie": [
           {
            "automargin": true,
            "type": "pie"
           }
          ],
          "scatter": [
           {
            "fillpattern": {
             "fillmode": "overlay",
             "size": 10,
             "solidity": 0.2
            },
            "type": "scatter"
           }
          ],
          "scatter3d": [
           {
            "line": {
             "colorbar": {
              "outlinewidth": 0,
              "ticks": ""
             }
            },
            "marker": {
             "colorbar": {
              "outlinewidth": 0,
              "ticks": ""
             }
            },
            "type": "scatter3d"
           }
          ],
          "scattercarpet": [
           {
            "marker": {
             "colorbar": {
              "outlinewidth": 0,
              "ticks": ""
             }
            },
            "type": "scattercarpet"
           }
          ],
          "scattergeo": [
           {
            "marker": {
             "colorbar": {
              "outlinewidth": 0,
              "ticks": ""
             }
            },
            "type": "scattergeo"
           }
          ],
          "scattergl": [
           {
            "marker": {
             "colorbar": {
              "outlinewidth": 0,
              "ticks": ""
             }
            },
            "type": "scattergl"
           }
          ],
          "scattermapbox": [
           {
            "marker": {
             "colorbar": {
              "outlinewidth": 0,
              "ticks": ""
             }
            },
            "type": "scattermapbox"
           }
          ],
          "scatterpolar": [
           {
            "marker": {
             "colorbar": {
              "outlinewidth": 0,
              "ticks": ""
             }
            },
            "type": "scatterpolar"
           }
          ],
          "scatterpolargl": [
           {
            "marker": {
             "colorbar": {
              "outlinewidth": 0,
              "ticks": ""
             }
            },
            "type": "scatterpolargl"
           }
          ],
          "scatterternary": [
           {
            "marker": {
             "colorbar": {
              "outlinewidth": 0,
              "ticks": ""
             }
            },
            "type": "scatterternary"
           }
          ],
          "surface": [
           {
            "colorbar": {
             "outlinewidth": 0,
             "ticks": ""
            },
            "colorscale": [
             [
              0,
              "#0d0887"
             ],
             [
              0.1111111111111111,
              "#46039f"
             ],
             [
              0.2222222222222222,
              "#7201a8"
             ],
             [
              0.3333333333333333,
              "#9c179e"
             ],
             [
              0.4444444444444444,
              "#bd3786"
             ],
             [
              0.5555555555555556,
              "#d8576b"
             ],
             [
              0.6666666666666666,
              "#ed7953"
             ],
             [
              0.7777777777777778,
              "#fb9f3a"
             ],
             [
              0.8888888888888888,
              "#fdca26"
             ],
             [
              1,
              "#f0f921"
             ]
            ],
            "type": "surface"
           }
          ],
          "table": [
           {
            "cells": {
             "fill": {
              "color": "#EBF0F8"
             },
             "line": {
              "color": "white"
             }
            },
            "header": {
             "fill": {
              "color": "#C8D4E3"
             },
             "line": {
              "color": "white"
             }
            },
            "type": "table"
           }
          ]
         },
         "layout": {
          "annotationdefaults": {
           "arrowcolor": "#2a3f5f",
           "arrowhead": 0,
           "arrowwidth": 1
          },
          "autotypenumbers": "strict",
          "coloraxis": {
           "colorbar": {
            "outlinewidth": 0,
            "ticks": ""
           }
          },
          "colorscale": {
           "diverging": [
            [
             0,
             "#8e0152"
            ],
            [
             0.1,
             "#c51b7d"
            ],
            [
             0.2,
             "#de77ae"
            ],
            [
             0.3,
             "#f1b6da"
            ],
            [
             0.4,
             "#fde0ef"
            ],
            [
             0.5,
             "#f7f7f7"
            ],
            [
             0.6,
             "#e6f5d0"
            ],
            [
             0.7,
             "#b8e186"
            ],
            [
             0.8,
             "#7fbc41"
            ],
            [
             0.9,
             "#4d9221"
            ],
            [
             1,
             "#276419"
            ]
           ],
           "sequential": [
            [
             0,
             "#0d0887"
            ],
            [
             0.1111111111111111,
             "#46039f"
            ],
            [
             0.2222222222222222,
             "#7201a8"
            ],
            [
             0.3333333333333333,
             "#9c179e"
            ],
            [
             0.4444444444444444,
             "#bd3786"
            ],
            [
             0.5555555555555556,
             "#d8576b"
            ],
            [
             0.6666666666666666,
             "#ed7953"
            ],
            [
             0.7777777777777778,
             "#fb9f3a"
            ],
            [
             0.8888888888888888,
             "#fdca26"
            ],
            [
             1,
             "#f0f921"
            ]
           ],
           "sequentialminus": [
            [
             0,
             "#0d0887"
            ],
            [
             0.1111111111111111,
             "#46039f"
            ],
            [
             0.2222222222222222,
             "#7201a8"
            ],
            [
             0.3333333333333333,
             "#9c179e"
            ],
            [
             0.4444444444444444,
             "#bd3786"
            ],
            [
             0.5555555555555556,
             "#d8576b"
            ],
            [
             0.6666666666666666,
             "#ed7953"
            ],
            [
             0.7777777777777778,
             "#fb9f3a"
            ],
            [
             0.8888888888888888,
             "#fdca26"
            ],
            [
             1,
             "#f0f921"
            ]
           ]
          },
          "colorway": [
           "#636efa",
           "#EF553B",
           "#00cc96",
           "#ab63fa",
           "#FFA15A",
           "#19d3f3",
           "#FF6692",
           "#B6E880",
           "#FF97FF",
           "#FECB52"
          ],
          "font": {
           "color": "#2a3f5f"
          },
          "geo": {
           "bgcolor": "white",
           "lakecolor": "white",
           "landcolor": "#E5ECF6",
           "showlakes": true,
           "showland": true,
           "subunitcolor": "white"
          },
          "hoverlabel": {
           "align": "left"
          },
          "hovermode": "closest",
          "mapbox": {
           "style": "light"
          },
          "paper_bgcolor": "white",
          "plot_bgcolor": "#E5ECF6",
          "polar": {
           "angularaxis": {
            "gridcolor": "white",
            "linecolor": "white",
            "ticks": ""
           },
           "bgcolor": "#E5ECF6",
           "radialaxis": {
            "gridcolor": "white",
            "linecolor": "white",
            "ticks": ""
           }
          },
          "scene": {
           "xaxis": {
            "backgroundcolor": "#E5ECF6",
            "gridcolor": "white",
            "gridwidth": 2,
            "linecolor": "white",
            "showbackground": true,
            "ticks": "",
            "zerolinecolor": "white"
           },
           "yaxis": {
            "backgroundcolor": "#E5ECF6",
            "gridcolor": "white",
            "gridwidth": 2,
            "linecolor": "white",
            "showbackground": true,
            "ticks": "",
            "zerolinecolor": "white"
           },
           "zaxis": {
            "backgroundcolor": "#E5ECF6",
            "gridcolor": "white",
            "gridwidth": 2,
            "linecolor": "white",
            "showbackground": true,
            "ticks": "",
            "zerolinecolor": "white"
           }
          },
          "shapedefaults": {
           "line": {
            "color": "#2a3f5f"
           }
          },
          "ternary": {
           "aaxis": {
            "gridcolor": "white",
            "linecolor": "white",
            "ticks": ""
           },
           "baxis": {
            "gridcolor": "white",
            "linecolor": "white",
            "ticks": ""
           },
           "bgcolor": "#E5ECF6",
           "caxis": {
            "gridcolor": "white",
            "linecolor": "white",
            "ticks": ""
           }
          },
          "title": {
           "x": 0.05
          },
          "xaxis": {
           "automargin": true,
           "gridcolor": "white",
           "linecolor": "white",
           "ticks": "",
           "title": {
            "standoff": 15
           },
           "zerolinecolor": "white",
           "zerolinewidth": 2
          },
          "yaxis": {
           "automargin": true,
           "gridcolor": "white",
           "linecolor": "white",
           "ticks": "",
           "title": {
            "standoff": 15
           },
           "zerolinecolor": "white",
           "zerolinewidth": 2
          }
         }
        },
        "title": {
         "text": "Visualisatie 1: CO2-uitstoot door personenauto's per land in de EU tussen 2018 en 2021"
        },
        "xaxis": {
         "anchor": "y",
         "domain": [
          0,
          1
         ],
         "title": {
          "text": "Landcode"
         }
        },
        "xaxis2": {
         "anchor": "y2",
         "domain": [
          0,
          1
         ],
         "matches": "x",
         "showticklabels": false
        },
        "xaxis3": {
         "anchor": "y3",
         "domain": [
          0,
          1
         ],
         "matches": "x",
         "showticklabels": false
        },
        "xaxis4": {
         "anchor": "y4",
         "domain": [
          0,
          1
         ],
         "matches": "x",
         "showticklabels": false
        },
        "yaxis": {
         "anchor": "x",
         "domain": [
          0,
          0.1975
         ],
         "title": {
          "text": "CO2 emissie in WLTP (g/km)"
         }
        },
        "yaxis2": {
         "anchor": "x2",
         "domain": [
          0.2675,
          0.465
         ],
         "matches": "y",
         "title": {
          "text": "CO2 emissie in WLTP (g/km)"
         }
        },
        "yaxis3": {
         "anchor": "x3",
         "domain": [
          0.535,
          0.7325
         ],
         "matches": "y",
         "title": {
          "text": "CO2 emissie in WLTP (g/km)"
         }
        },
        "yaxis4": {
         "anchor": "x4",
         "domain": [
          0.8025,
          1
         ],
         "matches": "y",
         "title": {
          "text": "CO2 emissie in WLTP (g/km)"
         }
        }
       }
      }
     },
     "metadata": {},
     "output_type": "display_data"
    }
   ],
   "source": [
    "# Plot settings\n",
    "fig = px.bar(country_emission,\n",
    "    x=\"Country\",\n",
    "    y=\"Ewltp (g/km) mean\",\n",
    "    error_y=\"Ewltp (g/km) std\",\n",
    "    facet_col=\"year\",\n",
    "    facet_col_wrap=1,\n",
    "    title=\"Visualisatie 1: CO2-uitstoot door personenauto's per land in de EU tussen 2018 en 2021\",\n",
    "    height=1000,\n",
    "    labels={\n",
    "        \"Ewltp (g/km) mean\": \"CO2 emissie in WLTP (g/km)\",\n",
    "        \"Country\": \"Landcode\",\n",
    "    },\n",
    ")\n",
    "fig.for_each_annotation(lambda a: a.update(text=a.text.replace('year', 'Jaar')))\n",
    "fig.show()\n"
   ]
  },
  {
   "attachments": {},
   "cell_type": "markdown",
   "metadata": {},
   "source": [
    "\n",
    "**Figuur 1**.\n",
    "\n",
    "In dit staafdiagram, waarbij de x-as de \"Country\" (land) voorstelt en de y-as de \"CO2 emission WLTP (g/km)\" (CO2-uitstoot WLTP in g/km), wordt de gemiddelde CO2-uitstoot van personenauto’s in verschillende landen van de Europese Unie over de periode 2018-2021 getoond. Elke staaf vertegenwoordigt een land en de hoogte geeft de uitstoot weer. De error bars tonen de standaarddeviatie hiervan aan.\n",
    "\n",
    "Figuur 1 kan het eerste perspectief vertegenwoordigen, waarbij we beweerden dat de emissies in het wegverkeer zijn afgenomen waardoor CO2-uitstoot geen groot probleem meer is. De visualisatie toont namelijk aan dat de CO2-uitstoot sinds 2018 in alle landen aanzienlijk is gedaald, wat het bewijs levert voor het eerste perspectief. Het tweede perspectief, waarbij we stellen dat de uitstoot niet is gedaald, is dus niet van toepassing omdat dit wel het geval is geweest.\n",
    "\n",
    "Hoewel de cijfers hebben aangetoond dat er positieve veranderingen zijn opgetreden, betekent dit niet dat het probleem van de CO2-uitstoot meteen is opgelost. De absolute hoeveelheid uitstoot kan namelijk nog steeds significant zijn en bijdragen aan klimaatverandering. Daarnaast is het van belang om te evalueren of de daling in CO2-uitstoot in het wegverkeer duurzaam en langdurig is. Uit figuur 1 blijkt bijvoorbeeld dat er een daling is geweest ten opzichte van 2018, maar daarna is er geen verdere daling waargenomen.\n"
   ]
  },
  {
   "cell_type": "code",
   "execution_count": 32,
   "metadata": {
    "tags": [
     "hide-input"
    ]
   },
   "outputs": [
    {
     "data": {
      "application/vnd.plotly.v1+json": {
       "config": {
        "plotlyServerURL": "https://plot.ly"
       },
       "data": [
        {
         "alignmentgroup": "True",
         "error_y": {
          "array": [
           0.4760158627915249,
           0.6878435921599557,
           0.5037143588006523,
           null,
           0.4757931006573155,
           0.4972931730649508,
           0.5132226633048553,
           0.5095960561513087,
           0.4912114725585789,
           0.5579475049511412,
           0.4877135929550051,
           0.4823781567855589,
           0.2680051053717913,
           0.5364673895933891,
           0.4718296410037434,
           null,
           0.4634749329382253,
           0.4636793078782345,
           0.4313482185580164,
           0.4982349345462705,
           0.5094579973712041,
           0.5587684951632782,
           0.7322322000374664,
           0.4874858286447039,
           0.4661258748166659,
           0.503151779326853,
           0.5195621509338527,
           0.5046936553098373,
           0.4716256368487578
          ]
         },
         "hovertemplate": "year=2019<br>Landcode=%{x}<br>CO2 emissie reductie in WLTP (g/km)=%{y}<extra></extra>",
         "legendgroup": "",
         "marker": {
          "color": "#636efa",
          "pattern": {
           "shape": ""
          }
         },
         "name": "",
         "offsetgroup": "",
         "orientation": "v",
         "showlegend": false,
         "textposition": "auto",
         "type": "bar",
         "x": [
          "AT",
          "BE",
          "BG",
          "CY",
          "CZ",
          "DE",
          "DK",
          "EE",
          "ES",
          "FI",
          "FR",
          "GR",
          "HR",
          "HU",
          "IE",
          "IS",
          "IT",
          "LT",
          "LU",
          "LV",
          "MT",
          "NL",
          "NO",
          "PL",
          "PT",
          "RO",
          "SE",
          "SI",
          "SK"
         ],
         "xaxis": "x3",
         "y": [
          1.4925439645890657,
          1.8683244391414373,
          1.4196689486052927,
          null,
          1.6198927509111982,
          1.4852003884562148,
          1.5689196331416138,
          1.291937626739389,
          1.547605616097174,
          1.3331218680029857,
          1.5206481617406469,
          1.4525792353487732,
          1.939188233630321,
          1.4541756408803097,
          1.483324044142236,
          null,
          1.491402900761439,
          1.295079122001021,
          1.519991239117341,
          1.252216638749302,
          1.372504159733777,
          1.51189832398708,
          1.6744359732379026,
          1.5258606079017636,
          1.5157153720303247,
          1.3721287451150672,
          1.361122809363058,
          1.5737882051972532,
          1.3961900793926347
         ],
         "yaxis": "y3"
        },
        {
         "alignmentgroup": "True",
         "error_y": {
          "array": [
           0.4760158627915249,
           0.6878435921599557,
           0.5037143588006523,
           null,
           0.4757931006573155,
           0.4972931730649643,
           0.5132226633048553,
           0.5095960561513087,
           0.4912114725585748,
           0.5579475049511412,
           0.4877135929550051,
           0.4823781567855589,
           0.2680051053717913,
           0.5364673895933891,
           0.4718296410037434,
           null,
           0.4634749329382253,
           0.4636793078782345,
           0.4313482185580164,
           0.4982349345462705,
           0.5094579973712041,
           0.5587684951632782,
           0.7322322000374664,
           0.4874858286447008,
           0.4661258748166659,
           0.503151779326853,
           0.5195621509338527,
           0.5046936553098373,
           0.4716256368487578
          ]
         },
         "hovertemplate": "year=2020<br>Landcode=%{x}<br>CO2 emissie reductie in WLTP (g/km)=%{y}<extra></extra>",
         "legendgroup": "",
         "marker": {
          "color": "#636efa",
          "pattern": {
           "shape": ""
          }
         },
         "name": "",
         "offsetgroup": "",
         "orientation": "v",
         "showlegend": false,
         "textposition": "auto",
         "type": "bar",
         "x": [
          "AT",
          "BE",
          "BG",
          "CY",
          "CZ",
          "DE",
          "DK",
          "EE",
          "ES",
          "FI",
          "FR",
          "GR",
          "HR",
          "HU",
          "IE",
          "IS",
          "IT",
          "LT",
          "LU",
          "LV",
          "MT",
          "NL",
          "NO",
          "PL",
          "PT",
          "RO",
          "SE",
          "SI",
          "SK"
         ],
         "xaxis": "x2",
         "y": [
          1.4925439645890657,
          1.8683244391414373,
          1.4196689486052927,
          null,
          1.6198927509111982,
          1.4852003884562148,
          1.5689196331416138,
          1.291937626739389,
          1.547605616097174,
          1.3331218680029857,
          1.5206481617406469,
          1.4525792353487732,
          1.939188233630321,
          1.4541756408803097,
          1.483324044142236,
          null,
          1.491402900761439,
          1.295079122001021,
          1.519991239117341,
          1.252216638749302,
          1.372504159733777,
          1.51189832398708,
          1.6744359732379026,
          1.5258606079017636,
          1.5157153720303247,
          1.3721287451150672,
          1.361122809363058,
          1.5737882051972532,
          1.3961900793926347
         ],
         "yaxis": "y2"
        },
        {
         "alignmentgroup": "True",
         "error_y": {
          "array": [
           0.4760158627915249,
           0.6878435921599557,
           0.5037143588006523,
           null,
           0.4757931006573155,
           0.4972931730649508,
           0.5132226633048553,
           0.5095960561513087,
           0.4912114725585789,
           0.5579475049511412,
           0.4877135929550051,
           0.4823781567855589,
           0.2680051053717913,
           0.5364673895933891,
           0.4718296410037434,
           null,
           0.4634749329382253,
           0.4636793078782345,
           0.4313482185580164,
           0.4982349345462705,
           0.5094579973712041,
           0.5587684951632782,
           0.7322322000374664,
           0.4874858286447039,
           0.4661258748166659,
           0.503151779326853,
           0.5195621509338527,
           0.5046936553098373,
           0.4716256368487578
          ]
         },
         "hovertemplate": "year=2021<br>Landcode=%{x}<br>CO2 emissie reductie in WLTP (g/km)=%{y}<extra></extra>",
         "legendgroup": "",
         "marker": {
          "color": "#636efa",
          "pattern": {
           "shape": ""
          }
         },
         "name": "",
         "offsetgroup": "",
         "orientation": "v",
         "showlegend": false,
         "textposition": "auto",
         "type": "bar",
         "x": [
          "AT",
          "BE",
          "BG",
          "CY",
          "CZ",
          "DE",
          "DK",
          "EE",
          "ES",
          "FI",
          "FR",
          "GR",
          "HR",
          "HU",
          "IE",
          "IS",
          "IT",
          "LT",
          "LU",
          "LV",
          "MT",
          "NL",
          "NO",
          "PL",
          "PT",
          "RO",
          "SE",
          "SI",
          "SK"
         ],
         "xaxis": "x",
         "y": [
          1.4925439645890657,
          1.8683244391414373,
          1.4196689486052927,
          null,
          1.6198927509111982,
          1.4852003884562148,
          1.5689196331416138,
          1.291937626739389,
          1.547605616097174,
          1.3331218680029857,
          1.5206481617406469,
          1.4525792353487732,
          1.939188233630321,
          1.4541756408803097,
          1.483324044142236,
          null,
          1.491402900761439,
          1.295079122001021,
          1.519991239117341,
          1.252216638749302,
          1.372504159733777,
          1.51189832398708,
          1.6744359732379026,
          1.5258606079017636,
          1.5157153720303247,
          1.3721287451150672,
          1.361122809363058,
          1.5737882051972532,
          1.3961900793926347
         ],
         "yaxis": "y"
        }
       ],
       "layout": {
        "annotations": [
         {
          "font": {},
          "showarrow": false,
          "text": "year=2021",
          "x": 0.5,
          "xanchor": "center",
          "xref": "paper",
          "y": 0.2866666666666666,
          "yanchor": "bottom",
          "yref": "paper"
         },
         {
          "font": {},
          "showarrow": false,
          "text": "year=2020",
          "x": 0.5,
          "xanchor": "center",
          "xref": "paper",
          "y": 0.6433333333333333,
          "yanchor": "bottom",
          "yref": "paper"
         },
         {
          "font": {},
          "showarrow": false,
          "text": "year=2019",
          "x": 0.5,
          "xanchor": "center",
          "xref": "paper",
          "y": 0.9999999999999999,
          "yanchor": "bottom",
          "yref": "paper"
         }
        ],
        "barmode": "relative",
        "height": 1000,
        "legend": {
         "tracegroupgap": 0
        },
        "template": {
         "data": {
          "bar": [
           {
            "error_x": {
             "color": "#2a3f5f"
            },
            "error_y": {
             "color": "#2a3f5f"
            },
            "marker": {
             "line": {
              "color": "#E5ECF6",
              "width": 0.5
             },
             "pattern": {
              "fillmode": "overlay",
              "size": 10,
              "solidity": 0.2
             }
            },
            "type": "bar"
           }
          ],
          "barpolar": [
           {
            "marker": {
             "line": {
              "color": "#E5ECF6",
              "width": 0.5
             },
             "pattern": {
              "fillmode": "overlay",
              "size": 10,
              "solidity": 0.2
             }
            },
            "type": "barpolar"
           }
          ],
          "carpet": [
           {
            "aaxis": {
             "endlinecolor": "#2a3f5f",
             "gridcolor": "white",
             "linecolor": "white",
             "minorgridcolor": "white",
             "startlinecolor": "#2a3f5f"
            },
            "baxis": {
             "endlinecolor": "#2a3f5f",
             "gridcolor": "white",
             "linecolor": "white",
             "minorgridcolor": "white",
             "startlinecolor": "#2a3f5f"
            },
            "type": "carpet"
           }
          ],
          "choropleth": [
           {
            "colorbar": {
             "outlinewidth": 0,
             "ticks": ""
            },
            "type": "choropleth"
           }
          ],
          "contour": [
           {
            "colorbar": {
             "outlinewidth": 0,
             "ticks": ""
            },
            "colorscale": [
             [
              0,
              "#0d0887"
             ],
             [
              0.1111111111111111,
              "#46039f"
             ],
             [
              0.2222222222222222,
              "#7201a8"
             ],
             [
              0.3333333333333333,
              "#9c179e"
             ],
             [
              0.4444444444444444,
              "#bd3786"
             ],
             [
              0.5555555555555556,
              "#d8576b"
             ],
             [
              0.6666666666666666,
              "#ed7953"
             ],
             [
              0.7777777777777778,
              "#fb9f3a"
             ],
             [
              0.8888888888888888,
              "#fdca26"
             ],
             [
              1,
              "#f0f921"
             ]
            ],
            "type": "contour"
           }
          ],
          "contourcarpet": [
           {
            "colorbar": {
             "outlinewidth": 0,
             "ticks": ""
            },
            "type": "contourcarpet"
           }
          ],
          "heatmap": [
           {
            "colorbar": {
             "outlinewidth": 0,
             "ticks": ""
            },
            "colorscale": [
             [
              0,
              "#0d0887"
             ],
             [
              0.1111111111111111,
              "#46039f"
             ],
             [
              0.2222222222222222,
              "#7201a8"
             ],
             [
              0.3333333333333333,
              "#9c179e"
             ],
             [
              0.4444444444444444,
              "#bd3786"
             ],
             [
              0.5555555555555556,
              "#d8576b"
             ],
             [
              0.6666666666666666,
              "#ed7953"
             ],
             [
              0.7777777777777778,
              "#fb9f3a"
             ],
             [
              0.8888888888888888,
              "#fdca26"
             ],
             [
              1,
              "#f0f921"
             ]
            ],
            "type": "heatmap"
           }
          ],
          "heatmapgl": [
           {
            "colorbar": {
             "outlinewidth": 0,
             "ticks": ""
            },
            "colorscale": [
             [
              0,
              "#0d0887"
             ],
             [
              0.1111111111111111,
              "#46039f"
             ],
             [
              0.2222222222222222,
              "#7201a8"
             ],
             [
              0.3333333333333333,
              "#9c179e"
             ],
             [
              0.4444444444444444,
              "#bd3786"
             ],
             [
              0.5555555555555556,
              "#d8576b"
             ],
             [
              0.6666666666666666,
              "#ed7953"
             ],
             [
              0.7777777777777778,
              "#fb9f3a"
             ],
             [
              0.8888888888888888,
              "#fdca26"
             ],
             [
              1,
              "#f0f921"
             ]
            ],
            "type": "heatmapgl"
           }
          ],
          "histogram": [
           {
            "marker": {
             "pattern": {
              "fillmode": "overlay",
              "size": 10,
              "solidity": 0.2
             }
            },
            "type": "histogram"
           }
          ],
          "histogram2d": [
           {
            "colorbar": {
             "outlinewidth": 0,
             "ticks": ""
            },
            "colorscale": [
             [
              0,
              "#0d0887"
             ],
             [
              0.1111111111111111,
              "#46039f"
             ],
             [
              0.2222222222222222,
              "#7201a8"
             ],
             [
              0.3333333333333333,
              "#9c179e"
             ],
             [
              0.4444444444444444,
              "#bd3786"
             ],
             [
              0.5555555555555556,
              "#d8576b"
             ],
             [
              0.6666666666666666,
              "#ed7953"
             ],
             [
              0.7777777777777778,
              "#fb9f3a"
             ],
             [
              0.8888888888888888,
              "#fdca26"
             ],
             [
              1,
              "#f0f921"
             ]
            ],
            "type": "histogram2d"
           }
          ],
          "histogram2dcontour": [
           {
            "colorbar": {
             "outlinewidth": 0,
             "ticks": ""
            },
            "colorscale": [
             [
              0,
              "#0d0887"
             ],
             [
              0.1111111111111111,
              "#46039f"
             ],
             [
              0.2222222222222222,
              "#7201a8"
             ],
             [
              0.3333333333333333,
              "#9c179e"
             ],
             [
              0.4444444444444444,
              "#bd3786"
             ],
             [
              0.5555555555555556,
              "#d8576b"
             ],
             [
              0.6666666666666666,
              "#ed7953"
             ],
             [
              0.7777777777777778,
              "#fb9f3a"
             ],
             [
              0.8888888888888888,
              "#fdca26"
             ],
             [
              1,
              "#f0f921"
             ]
            ],
            "type": "histogram2dcontour"
           }
          ],
          "mesh3d": [
           {
            "colorbar": {
             "outlinewidth": 0,
             "ticks": ""
            },
            "type": "mesh3d"
           }
          ],
          "parcoords": [
           {
            "line": {
             "colorbar": {
              "outlinewidth": 0,
              "ticks": ""
             }
            },
            "type": "parcoords"
           }
          ],
          "pie": [
           {
            "automargin": true,
            "type": "pie"
           }
          ],
          "scatter": [
           {
            "fillpattern": {
             "fillmode": "overlay",
             "size": 10,
             "solidity": 0.2
            },
            "type": "scatter"
           }
          ],
          "scatter3d": [
           {
            "line": {
             "colorbar": {
              "outlinewidth": 0,
              "ticks": ""
             }
            },
            "marker": {
             "colorbar": {
              "outlinewidth": 0,
              "ticks": ""
             }
            },
            "type": "scatter3d"
           }
          ],
          "scattercarpet": [
           {
            "marker": {
             "colorbar": {
              "outlinewidth": 0,
              "ticks": ""
             }
            },
            "type": "scattercarpet"
           }
          ],
          "scattergeo": [
           {
            "marker": {
             "colorbar": {
              "outlinewidth": 0,
              "ticks": ""
             }
            },
            "type": "scattergeo"
           }
          ],
          "scattergl": [
           {
            "marker": {
             "colorbar": {
              "outlinewidth": 0,
              "ticks": ""
             }
            },
            "type": "scattergl"
           }
          ],
          "scattermapbox": [
           {
            "marker": {
             "colorbar": {
              "outlinewidth": 0,
              "ticks": ""
             }
            },
            "type": "scattermapbox"
           }
          ],
          "scatterpolar": [
           {
            "marker": {
             "colorbar": {
              "outlinewidth": 0,
              "ticks": ""
             }
            },
            "type": "scatterpolar"
           }
          ],
          "scatterpolargl": [
           {
            "marker": {
             "colorbar": {
              "outlinewidth": 0,
              "ticks": ""
             }
            },
            "type": "scatterpolargl"
           }
          ],
          "scatterternary": [
           {
            "marker": {
             "colorbar": {
              "outlinewidth": 0,
              "ticks": ""
             }
            },
            "type": "scatterternary"
           }
          ],
          "surface": [
           {
            "colorbar": {
             "outlinewidth": 0,
             "ticks": ""
            },
            "colorscale": [
             [
              0,
              "#0d0887"
             ],
             [
              0.1111111111111111,
              "#46039f"
             ],
             [
              0.2222222222222222,
              "#7201a8"
             ],
             [
              0.3333333333333333,
              "#9c179e"
             ],
             [
              0.4444444444444444,
              "#bd3786"
             ],
             [
              0.5555555555555556,
              "#d8576b"
             ],
             [
              0.6666666666666666,
              "#ed7953"
             ],
             [
              0.7777777777777778,
              "#fb9f3a"
             ],
             [
              0.8888888888888888,
              "#fdca26"
             ],
             [
              1,
              "#f0f921"
             ]
            ],
            "type": "surface"
           }
          ],
          "table": [
           {
            "cells": {
             "fill": {
              "color": "#EBF0F8"
             },
             "line": {
              "color": "white"
             }
            },
            "header": {
             "fill": {
              "color": "#C8D4E3"
             },
             "line": {
              "color": "white"
             }
            },
            "type": "table"
           }
          ]
         },
         "layout": {
          "annotationdefaults": {
           "arrowcolor": "#2a3f5f",
           "arrowhead": 0,
           "arrowwidth": 1
          },
          "autotypenumbers": "strict",
          "coloraxis": {
           "colorbar": {
            "outlinewidth": 0,
            "ticks": ""
           }
          },
          "colorscale": {
           "diverging": [
            [
             0,
             "#8e0152"
            ],
            [
             0.1,
             "#c51b7d"
            ],
            [
             0.2,
             "#de77ae"
            ],
            [
             0.3,
             "#f1b6da"
            ],
            [
             0.4,
             "#fde0ef"
            ],
            [
             0.5,
             "#f7f7f7"
            ],
            [
             0.6,
             "#e6f5d0"
            ],
            [
             0.7,
             "#b8e186"
            ],
            [
             0.8,
             "#7fbc41"
            ],
            [
             0.9,
             "#4d9221"
            ],
            [
             1,
             "#276419"
            ]
           ],
           "sequential": [
            [
             0,
             "#0d0887"
            ],
            [
             0.1111111111111111,
             "#46039f"
            ],
            [
             0.2222222222222222,
             "#7201a8"
            ],
            [
             0.3333333333333333,
             "#9c179e"
            ],
            [
             0.4444444444444444,
             "#bd3786"
            ],
            [
             0.5555555555555556,
             "#d8576b"
            ],
            [
             0.6666666666666666,
             "#ed7953"
            ],
            [
             0.7777777777777778,
             "#fb9f3a"
            ],
            [
             0.8888888888888888,
             "#fdca26"
            ],
            [
             1,
             "#f0f921"
            ]
           ],
           "sequentialminus": [
            [
             0,
             "#0d0887"
            ],
            [
             0.1111111111111111,
             "#46039f"
            ],
            [
             0.2222222222222222,
             "#7201a8"
            ],
            [
             0.3333333333333333,
             "#9c179e"
            ],
            [
             0.4444444444444444,
             "#bd3786"
            ],
            [
             0.5555555555555556,
             "#d8576b"
            ],
            [
             0.6666666666666666,
             "#ed7953"
            ],
            [
             0.7777777777777778,
             "#fb9f3a"
            ],
            [
             0.8888888888888888,
             "#fdca26"
            ],
            [
             1,
             "#f0f921"
            ]
           ]
          },
          "colorway": [
           "#636efa",
           "#EF553B",
           "#00cc96",
           "#ab63fa",
           "#FFA15A",
           "#19d3f3",
           "#FF6692",
           "#B6E880",
           "#FF97FF",
           "#FECB52"
          ],
          "font": {
           "color": "#2a3f5f"
          },
          "geo": {
           "bgcolor": "white",
           "lakecolor": "white",
           "landcolor": "#E5ECF6",
           "showlakes": true,
           "showland": true,
           "subunitcolor": "white"
          },
          "hoverlabel": {
           "align": "left"
          },
          "hovermode": "closest",
          "mapbox": {
           "style": "light"
          },
          "paper_bgcolor": "white",
          "plot_bgcolor": "#E5ECF6",
          "polar": {
           "angularaxis": {
            "gridcolor": "white",
            "linecolor": "white",
            "ticks": ""
           },
           "bgcolor": "#E5ECF6",
           "radialaxis": {
            "gridcolor": "white",
            "linecolor": "white",
            "ticks": ""
           }
          },
          "scene": {
           "xaxis": {
            "backgroundcolor": "#E5ECF6",
            "gridcolor": "white",
            "gridwidth": 2,
            "linecolor": "white",
            "showbackground": true,
            "ticks": "",
            "zerolinecolor": "white"
           },
           "yaxis": {
            "backgroundcolor": "#E5ECF6",
            "gridcolor": "white",
            "gridwidth": 2,
            "linecolor": "white",
            "showbackground": true,
            "ticks": "",
            "zerolinecolor": "white"
           },
           "zaxis": {
            "backgroundcolor": "#E5ECF6",
            "gridcolor": "white",
            "gridwidth": 2,
            "linecolor": "white",
            "showbackground": true,
            "ticks": "",
            "zerolinecolor": "white"
           }
          },
          "shapedefaults": {
           "line": {
            "color": "#2a3f5f"
           }
          },
          "ternary": {
           "aaxis": {
            "gridcolor": "white",
            "linecolor": "white",
            "ticks": ""
           },
           "baxis": {
            "gridcolor": "white",
            "linecolor": "white",
            "ticks": ""
           },
           "bgcolor": "#E5ECF6",
           "caxis": {
            "gridcolor": "white",
            "linecolor": "white",
            "ticks": ""
           }
          },
          "title": {
           "x": 0.05
          },
          "xaxis": {
           "automargin": true,
           "gridcolor": "white",
           "linecolor": "white",
           "ticks": "",
           "title": {
            "standoff": 15
           },
           "zerolinecolor": "white",
           "zerolinewidth": 2
          },
          "yaxis": {
           "automargin": true,
           "gridcolor": "white",
           "linecolor": "white",
           "ticks": "",
           "title": {
            "standoff": 15
           },
           "zerolinecolor": "white",
           "zerolinewidth": 2
          }
         }
        },
        "title": {
         "text": "Visualisatie 2: Gemiddelde CO2-uitstoot vermindering vanwege innovatieve technologieën per land in de EU tussen 2019 en 2021 "
        },
        "xaxis": {
         "anchor": "y",
         "domain": [
          0,
          1
         ],
         "title": {
          "text": "Landcode"
         }
        },
        "xaxis2": {
         "anchor": "y2",
         "domain": [
          0,
          1
         ],
         "matches": "x",
         "showticklabels": false
        },
        "xaxis3": {
         "anchor": "y3",
         "domain": [
          0,
          1
         ],
         "matches": "x",
         "showticklabels": false
        },
        "yaxis": {
         "anchor": "x",
         "domain": [
          0,
          0.2866666666666666
         ],
         "title": {
          "text": "CO2 emissie reductie in WLTP (g/km)"
         }
        },
        "yaxis2": {
         "anchor": "x2",
         "domain": [
          0.35666666666666663,
          0.6433333333333333
         ],
         "matches": "y",
         "title": {
          "text": "CO2 emissie reductie in WLTP (g/km)"
         }
        },
        "yaxis3": {
         "anchor": "x3",
         "domain": [
          0.7133333333333333,
          0.9999999999999999
         ],
         "matches": "y",
         "title": {
          "text": "CO2 emissie reductie in WLTP (g/km)"
         }
        }
       }
      }
     },
     "metadata": {},
     "output_type": "display_data"
    }
   ],
   "source": [
    "# Plot settings\n",
    "fig = px.bar(country_emission_reduction,\n",
    "    x=\"Country\",\n",
    "    y=\"Erwltp (g/km) mean\",\n",
    "    error_y=\"Erwltp (g/km) std\",\n",
    "    facet_col=\"year\",\n",
    "    facet_col_wrap=1,\n",
    "    title=\"Visualisatie 2: Gemiddelde CO2-uitstoot vermindering vanwege innovatieve technologieën per land in de EU tussen 2019 en 2021 \",\n",
    "    height=1000,\n",
    "    labels={\n",
    "        \"Erwltp (g/km) mean\": \"CO2 emissie reductie in WLTP (g/km)\",\n",
    "        \"Country\": \"Landcode\",\n",
    "    },\n",
    ")\n",
    "fig.show()\n"
   ]
  },
  {
   "attachments": {},
   "cell_type": "markdown",
   "metadata": {},
   "source": [
    "\n",
    "**Figuur 2**.\n",
    "\n",
    "In dit staafdiagram wordt de gemiddelde CO2-uitstoot getoond die is verminderd door innovatieve technologieën, per land, voor de jaren 2019, 2020 en 2021. Voor de jaren 2015-2018 was hier geen informatie over in de datasets. De x-as vertegenwoordigt de landen, terwijl de y-as de gemiddelde CO2-uitstoot vermindering (in g/km) weergeeft. De foutbalken tonen de standaardafwijking van de gegevens. Door middel van dit diagram kunnen wij onderzoeken welke landen significante vooruitgang hebben geboekt in het verminderen van CO2-uitstoot door innovatieve technologieën en kunnen we ook de prestaties over de jaren heen vergelijken.\n",
    "\n",
    "De visualisatie van figuur 2 ondersteunt duidelijk het perspectief dat de CO2-emissies van auto's niet zijn afgenomen in de afgelopen jaren. Het biedt visueel bewijs dat er geen significante verandering is geweest in de vermindering van CO2-uitstoot als gevolg van innovatieve technologieën tussen 2019 en 2021. Dit suggereert dat er meer actie nodig is om de uitstoot daadwerkelijk te verminderen. We moeten mogelijk alternatieve benaderingen overwegen om de CO2-uitstoot van auto’s te verminderen. Dit kan bijvoorbeeld betekenen dat we ons moeten richten op het bevorderen van het gebruik van elektrische voertuigen, het stimuleren van het openbaar vervoer en het implementeren van strengere emissienormen voor auto’s.  Caption"
   ]
  },
  {
   "cell_type": "code",
   "execution_count": 33,
   "metadata": {
    "tags": [
     "hide-input"
    ]
   },
   "outputs": [
    {
     "data": {
      "application/vnd.plotly.v1+json": {
       "config": {
        "plotlyServerURL": "https://plot.ly"
       },
       "data": [
        {
         "domain": {
          "x": [
           0,
           1
          ],
          "y": [
           0,
           1
          ]
         },
         "hole": 0.8,
         "hovertemplate": "Ft=%{label}<br>CO2 emissie in WLTP (g/km)=%{value}<extra></extra>",
         "labels": [
          "diesel",
          "diesel-electric",
          "e85",
          "electric",
          "lpg",
          "ng",
          "ng-biomethane",
          "other",
          "petrol",
          "petrol-electric"
         ],
         "legendgroup": "",
         "name": "",
         "showlegend": true,
         "textinfo": "label+percent",
         "textposition": "outside",
         "type": "pie",
         "values": [
          144.47525493230071,
          39.10674943344172,
          159.59791955617197,
          0,
          121.09161446568709,
          104.9206877142711,
          113.2193489104752,
          123.0941504178273,
          134.4515871964906,
          41.88456812110419
         ]
        }
       ],
       "layout": {
        "legend": {
         "tracegroupgap": 0
        },
        "showlegend": false,
        "template": {
         "data": {
          "bar": [
           {
            "error_x": {
             "color": "#2a3f5f"
            },
            "error_y": {
             "color": "#2a3f5f"
            },
            "marker": {
             "line": {
              "color": "#E5ECF6",
              "width": 0.5
             },
             "pattern": {
              "fillmode": "overlay",
              "size": 10,
              "solidity": 0.2
             }
            },
            "type": "bar"
           }
          ],
          "barpolar": [
           {
            "marker": {
             "line": {
              "color": "#E5ECF6",
              "width": 0.5
             },
             "pattern": {
              "fillmode": "overlay",
              "size": 10,
              "solidity": 0.2
             }
            },
            "type": "barpolar"
           }
          ],
          "carpet": [
           {
            "aaxis": {
             "endlinecolor": "#2a3f5f",
             "gridcolor": "white",
             "linecolor": "white",
             "minorgridcolor": "white",
             "startlinecolor": "#2a3f5f"
            },
            "baxis": {
             "endlinecolor": "#2a3f5f",
             "gridcolor": "white",
             "linecolor": "white",
             "minorgridcolor": "white",
             "startlinecolor": "#2a3f5f"
            },
            "type": "carpet"
           }
          ],
          "choropleth": [
           {
            "colorbar": {
             "outlinewidth": 0,
             "ticks": ""
            },
            "type": "choropleth"
           }
          ],
          "contour": [
           {
            "colorbar": {
             "outlinewidth": 0,
             "ticks": ""
            },
            "colorscale": [
             [
              0,
              "#0d0887"
             ],
             [
              0.1111111111111111,
              "#46039f"
             ],
             [
              0.2222222222222222,
              "#7201a8"
             ],
             [
              0.3333333333333333,
              "#9c179e"
             ],
             [
              0.4444444444444444,
              "#bd3786"
             ],
             [
              0.5555555555555556,
              "#d8576b"
             ],
             [
              0.6666666666666666,
              "#ed7953"
             ],
             [
              0.7777777777777778,
              "#fb9f3a"
             ],
             [
              0.8888888888888888,
              "#fdca26"
             ],
             [
              1,
              "#f0f921"
             ]
            ],
            "type": "contour"
           }
          ],
          "contourcarpet": [
           {
            "colorbar": {
             "outlinewidth": 0,
             "ticks": ""
            },
            "type": "contourcarpet"
           }
          ],
          "heatmap": [
           {
            "colorbar": {
             "outlinewidth": 0,
             "ticks": ""
            },
            "colorscale": [
             [
              0,
              "#0d0887"
             ],
             [
              0.1111111111111111,
              "#46039f"
             ],
             [
              0.2222222222222222,
              "#7201a8"
             ],
             [
              0.3333333333333333,
              "#9c179e"
             ],
             [
              0.4444444444444444,
              "#bd3786"
             ],
             [
              0.5555555555555556,
              "#d8576b"
             ],
             [
              0.6666666666666666,
              "#ed7953"
             ],
             [
              0.7777777777777778,
              "#fb9f3a"
             ],
             [
              0.8888888888888888,
              "#fdca26"
             ],
             [
              1,
              "#f0f921"
             ]
            ],
            "type": "heatmap"
           }
          ],
          "heatmapgl": [
           {
            "colorbar": {
             "outlinewidth": 0,
             "ticks": ""
            },
            "colorscale": [
             [
              0,
              "#0d0887"
             ],
             [
              0.1111111111111111,
              "#46039f"
             ],
             [
              0.2222222222222222,
              "#7201a8"
             ],
             [
              0.3333333333333333,
              "#9c179e"
             ],
             [
              0.4444444444444444,
              "#bd3786"
             ],
             [
              0.5555555555555556,
              "#d8576b"
             ],
             [
              0.6666666666666666,
              "#ed7953"
             ],
             [
              0.7777777777777778,
              "#fb9f3a"
             ],
             [
              0.8888888888888888,
              "#fdca26"
             ],
             [
              1,
              "#f0f921"
             ]
            ],
            "type": "heatmapgl"
           }
          ],
          "histogram": [
           {
            "marker": {
             "pattern": {
              "fillmode": "overlay",
              "size": 10,
              "solidity": 0.2
             }
            },
            "type": "histogram"
           }
          ],
          "histogram2d": [
           {
            "colorbar": {
             "outlinewidth": 0,
             "ticks": ""
            },
            "colorscale": [
             [
              0,
              "#0d0887"
             ],
             [
              0.1111111111111111,
              "#46039f"
             ],
             [
              0.2222222222222222,
              "#7201a8"
             ],
             [
              0.3333333333333333,
              "#9c179e"
             ],
             [
              0.4444444444444444,
              "#bd3786"
             ],
             [
              0.5555555555555556,
              "#d8576b"
             ],
             [
              0.6666666666666666,
              "#ed7953"
             ],
             [
              0.7777777777777778,
              "#fb9f3a"
             ],
             [
              0.8888888888888888,
              "#fdca26"
             ],
             [
              1,
              "#f0f921"
             ]
            ],
            "type": "histogram2d"
           }
          ],
          "histogram2dcontour": [
           {
            "colorbar": {
             "outlinewidth": 0,
             "ticks": ""
            },
            "colorscale": [
             [
              0,
              "#0d0887"
             ],
             [
              0.1111111111111111,
              "#46039f"
             ],
             [
              0.2222222222222222,
              "#7201a8"
             ],
             [
              0.3333333333333333,
              "#9c179e"
             ],
             [
              0.4444444444444444,
              "#bd3786"
             ],
             [
              0.5555555555555556,
              "#d8576b"
             ],
             [
              0.6666666666666666,
              "#ed7953"
             ],
             [
              0.7777777777777778,
              "#fb9f3a"
             ],
             [
              0.8888888888888888,
              "#fdca26"
             ],
             [
              1,
              "#f0f921"
             ]
            ],
            "type": "histogram2dcontour"
           }
          ],
          "mesh3d": [
           {
            "colorbar": {
             "outlinewidth": 0,
             "ticks": ""
            },
            "type": "mesh3d"
           }
          ],
          "parcoords": [
           {
            "line": {
             "colorbar": {
              "outlinewidth": 0,
              "ticks": ""
             }
            },
            "type": "parcoords"
           }
          ],
          "pie": [
           {
            "automargin": true,
            "type": "pie"
           }
          ],
          "scatter": [
           {
            "fillpattern": {
             "fillmode": "overlay",
             "size": 10,
             "solidity": 0.2
            },
            "type": "scatter"
           }
          ],
          "scatter3d": [
           {
            "line": {
             "colorbar": {
              "outlinewidth": 0,
              "ticks": ""
             }
            },
            "marker": {
             "colorbar": {
              "outlinewidth": 0,
              "ticks": ""
             }
            },
            "type": "scatter3d"
           }
          ],
          "scattercarpet": [
           {
            "marker": {
             "colorbar": {
              "outlinewidth": 0,
              "ticks": ""
             }
            },
            "type": "scattercarpet"
           }
          ],
          "scattergeo": [
           {
            "marker": {
             "colorbar": {
              "outlinewidth": 0,
              "ticks": ""
             }
            },
            "type": "scattergeo"
           }
          ],
          "scattergl": [
           {
            "marker": {
             "colorbar": {
              "outlinewidth": 0,
              "ticks": ""
             }
            },
            "type": "scattergl"
           }
          ],
          "scattermapbox": [
           {
            "marker": {
             "colorbar": {
              "outlinewidth": 0,
              "ticks": ""
             }
            },
            "type": "scattermapbox"
           }
          ],
          "scatterpolar": [
           {
            "marker": {
             "colorbar": {
              "outlinewidth": 0,
              "ticks": ""
             }
            },
            "type": "scatterpolar"
           }
          ],
          "scatterpolargl": [
           {
            "marker": {
             "colorbar": {
              "outlinewidth": 0,
              "ticks": ""
             }
            },
            "type": "scatterpolargl"
           }
          ],
          "scatterternary": [
           {
            "marker": {
             "colorbar": {
              "outlinewidth": 0,
              "ticks": ""
             }
            },
            "type": "scatterternary"
           }
          ],
          "surface": [
           {
            "colorbar": {
             "outlinewidth": 0,
             "ticks": ""
            },
            "colorscale": [
             [
              0,
              "#0d0887"
             ],
             [
              0.1111111111111111,
              "#46039f"
             ],
             [
              0.2222222222222222,
              "#7201a8"
             ],
             [
              0.3333333333333333,
              "#9c179e"
             ],
             [
              0.4444444444444444,
              "#bd3786"
             ],
             [
              0.5555555555555556,
              "#d8576b"
             ],
             [
              0.6666666666666666,
              "#ed7953"
             ],
             [
              0.7777777777777778,
              "#fb9f3a"
             ],
             [
              0.8888888888888888,
              "#fdca26"
             ],
             [
              1,
              "#f0f921"
             ]
            ],
            "type": "surface"
           }
          ],
          "table": [
           {
            "cells": {
             "fill": {
              "color": "#EBF0F8"
             },
             "line": {
              "color": "white"
             }
            },
            "header": {
             "fill": {
              "color": "#C8D4E3"
             },
             "line": {
              "color": "white"
             }
            },
            "type": "table"
           }
          ]
         },
         "layout": {
          "annotationdefaults": {
           "arrowcolor": "#2a3f5f",
           "arrowhead": 0,
           "arrowwidth": 1
          },
          "autotypenumbers": "strict",
          "coloraxis": {
           "colorbar": {
            "outlinewidth": 0,
            "ticks": ""
           }
          },
          "colorscale": {
           "diverging": [
            [
             0,
             "#8e0152"
            ],
            [
             0.1,
             "#c51b7d"
            ],
            [
             0.2,
             "#de77ae"
            ],
            [
             0.3,
             "#f1b6da"
            ],
            [
             0.4,
             "#fde0ef"
            ],
            [
             0.5,
             "#f7f7f7"
            ],
            [
             0.6,
             "#e6f5d0"
            ],
            [
             0.7,
             "#b8e186"
            ],
            [
             0.8,
             "#7fbc41"
            ],
            [
             0.9,
             "#4d9221"
            ],
            [
             1,
             "#276419"
            ]
           ],
           "sequential": [
            [
             0,
             "#0d0887"
            ],
            [
             0.1111111111111111,
             "#46039f"
            ],
            [
             0.2222222222222222,
             "#7201a8"
            ],
            [
             0.3333333333333333,
             "#9c179e"
            ],
            [
             0.4444444444444444,
             "#bd3786"
            ],
            [
             0.5555555555555556,
             "#d8576b"
            ],
            [
             0.6666666666666666,
             "#ed7953"
            ],
            [
             0.7777777777777778,
             "#fb9f3a"
            ],
            [
             0.8888888888888888,
             "#fdca26"
            ],
            [
             1,
             "#f0f921"
            ]
           ],
           "sequentialminus": [
            [
             0,
             "#0d0887"
            ],
            [
             0.1111111111111111,
             "#46039f"
            ],
            [
             0.2222222222222222,
             "#7201a8"
            ],
            [
             0.3333333333333333,
             "#9c179e"
            ],
            [
             0.4444444444444444,
             "#bd3786"
            ],
            [
             0.5555555555555556,
             "#d8576b"
            ],
            [
             0.6666666666666666,
             "#ed7953"
            ],
            [
             0.7777777777777778,
             "#fb9f3a"
            ],
            [
             0.8888888888888888,
             "#fdca26"
            ],
            [
             1,
             "#f0f921"
            ]
           ]
          },
          "colorway": [
           "#636efa",
           "#EF553B",
           "#00cc96",
           "#ab63fa",
           "#FFA15A",
           "#19d3f3",
           "#FF6692",
           "#B6E880",
           "#FF97FF",
           "#FECB52"
          ],
          "font": {
           "color": "#2a3f5f"
          },
          "geo": {
           "bgcolor": "white",
           "lakecolor": "white",
           "landcolor": "#E5ECF6",
           "showlakes": true,
           "showland": true,
           "subunitcolor": "white"
          },
          "hoverlabel": {
           "align": "left"
          },
          "hovermode": "closest",
          "mapbox": {
           "style": "light"
          },
          "paper_bgcolor": "white",
          "plot_bgcolor": "#E5ECF6",
          "polar": {
           "angularaxis": {
            "gridcolor": "white",
            "linecolor": "white",
            "ticks": ""
           },
           "bgcolor": "#E5ECF6",
           "radialaxis": {
            "gridcolor": "white",
            "linecolor": "white",
            "ticks": ""
           }
          },
          "scene": {
           "xaxis": {
            "backgroundcolor": "#E5ECF6",
            "gridcolor": "white",
            "gridwidth": 2,
            "linecolor": "white",
            "showbackground": true,
            "ticks": "",
            "zerolinecolor": "white"
           },
           "yaxis": {
            "backgroundcolor": "#E5ECF6",
            "gridcolor": "white",
            "gridwidth": 2,
            "linecolor": "white",
            "showbackground": true,
            "ticks": "",
            "zerolinecolor": "white"
           },
           "zaxis": {
            "backgroundcolor": "#E5ECF6",
            "gridcolor": "white",
            "gridwidth": 2,
            "linecolor": "white",
            "showbackground": true,
            "ticks": "",
            "zerolinecolor": "white"
           }
          },
          "shapedefaults": {
           "line": {
            "color": "#2a3f5f"
           }
          },
          "ternary": {
           "aaxis": {
            "gridcolor": "white",
            "linecolor": "white",
            "ticks": ""
           },
           "baxis": {
            "gridcolor": "white",
            "linecolor": "white",
            "ticks": ""
           },
           "bgcolor": "#E5ECF6",
           "caxis": {
            "gridcolor": "white",
            "linecolor": "white",
            "ticks": ""
           }
          },
          "title": {
           "x": 0.05
          },
          "xaxis": {
           "automargin": true,
           "gridcolor": "white",
           "linecolor": "white",
           "ticks": "",
           "title": {
            "standoff": 15
           },
           "zerolinecolor": "white",
           "zerolinewidth": 2
          },
          "yaxis": {
           "automargin": true,
           "gridcolor": "white",
           "linecolor": "white",
           "ticks": "",
           "title": {
            "standoff": 15
           },
           "zerolinecolor": "white",
           "zerolinewidth": 2
          }
         }
        },
        "title": {
         "text": "Visualisatie 3: Gemiddelde CO2-uitstoot per brandstof type in 2021 "
        }
       }
      }
     },
     "metadata": {},
     "output_type": "display_data"
    }
   ],
   "source": [
    "# Plot settings\n",
    "fig = px.pie(ft_mean_emission,\n",
    "    names=\"Ft\",\n",
    "    values=\"Ewltp (g/km)\",\n",
    "    title=\"Visualisatie 3: Gemiddelde CO2-uitstoot per brandstof type in 2021 \",\n",
    "    hole=0.8,\n",
    "    labels={\n",
    "        \"Ewltp (g/km)\": \"CO2 emissie in WLTP (g/km)\"\n",
    "    },\n",
    ")\n",
    "fig.update_layout(showlegend=False)\n",
    "fig.update_traces(textposition='outside', textinfo=\"label + percent\")\n",
    "fig.show()\n"
   ]
  },
  {
   "attachments": {},
   "cell_type": "markdown",
   "metadata": {},
   "source": [
    "\n",
    "**Figuur 3.**\n",
    "\n",
    "Deze taartdiagram visualiseert de gemiddelde CO2-uitstoot per brandstoftype in het jaar 2021. Elk segment in het diagram vertegenwoordigt een brandstoftype, zoals benzine, diesel, elektrisch, enz. De grootte van elk segment weerspiegelt het aandeel van de CO2-uitstoot dat wordt bijgedragen door dat specifieke brandstoftype. Door middel van deze taartdiagram kunnen wij de CO2-uitstoot tussen verschillende brandstoftypes vergelijke en de brandstoftypes met de hoogste en laagste uitstoot identificeren.\n",
    "\n",
    "Om ons perspectief verder te versterken, werpen we ook een blik op figuur 3. Deze visualisatie toont de CO2-uitstoot van verschillende brandstoftypes voor auto's. Opvallend is dat elektrische voertuigen een CO2-uitstoot van 0% hebben. Dit benadrukt het potentieel van elektrische voertuigen als een effectieve oplossing om de CO2-uitstoot van auto's te verminderen. Aangezien figuur 2 aantoont dat er geen significante vermindering van de CO2-uitstoot is geweest als gevolg van innovatieve technologieën tussen 2019 en 2021, suggereert dit dat traditionele brandstoftypes zoals diesel, benzine en LPG nog steeds dominant zijn en de CO2-uitstoot niet effectief verminderen. De combinatie van figuur 2 en figuur 3 ondersteunt dus het argument dat er meer actie nodig is om de CO2-uitstoot van auto's daadwerkelijk te verminderen.\n"
   ]
  },
  {
   "cell_type": "code",
   "execution_count": 34,
   "metadata": {
    "tags": [
     "hide-input"
    ]
   },
   "outputs": [
    {
     "data": {
      "application/vnd.plotly.v1+json": {
       "config": {
        "plotlyServerURL": "https://plot.ly"
       },
       "data": [
        {
         "hovertemplate": "Jaar=%{x}<br>CO2 emissie in WLTP (g/km)=%{y}<extra></extra>",
         "legendgroup": "",
         "line": {
          "color": "#636efa",
          "dash": "solid"
         },
         "marker": {
          "symbol": "circle"
         },
         "mode": "lines",
         "name": "",
         "orientation": "v",
         "showlegend": false,
         "type": "scatter",
         "x": [
          2017,
          2018,
          2019,
          2020,
          2021
         ],
         "xaxis": "x",
         "y": [
          126.9639751552795,
          148.0279314793932,
          114.93516180819708,
          114.93516180819708,
          114.93516180819708
         ],
         "yaxis": "y"
        }
       ],
       "layout": {
        "legend": {
         "tracegroupgap": 0
        },
        "template": {
         "data": {
          "bar": [
           {
            "error_x": {
             "color": "#2a3f5f"
            },
            "error_y": {
             "color": "#2a3f5f"
            },
            "marker": {
             "line": {
              "color": "#E5ECF6",
              "width": 0.5
             },
             "pattern": {
              "fillmode": "overlay",
              "size": 10,
              "solidity": 0.2
             }
            },
            "type": "bar"
           }
          ],
          "barpolar": [
           {
            "marker": {
             "line": {
              "color": "#E5ECF6",
              "width": 0.5
             },
             "pattern": {
              "fillmode": "overlay",
              "size": 10,
              "solidity": 0.2
             }
            },
            "type": "barpolar"
           }
          ],
          "carpet": [
           {
            "aaxis": {
             "endlinecolor": "#2a3f5f",
             "gridcolor": "white",
             "linecolor": "white",
             "minorgridcolor": "white",
             "startlinecolor": "#2a3f5f"
            },
            "baxis": {
             "endlinecolor": "#2a3f5f",
             "gridcolor": "white",
             "linecolor": "white",
             "minorgridcolor": "white",
             "startlinecolor": "#2a3f5f"
            },
            "type": "carpet"
           }
          ],
          "choropleth": [
           {
            "colorbar": {
             "outlinewidth": 0,
             "ticks": ""
            },
            "type": "choropleth"
           }
          ],
          "contour": [
           {
            "colorbar": {
             "outlinewidth": 0,
             "ticks": ""
            },
            "colorscale": [
             [
              0,
              "#0d0887"
             ],
             [
              0.1111111111111111,
              "#46039f"
             ],
             [
              0.2222222222222222,
              "#7201a8"
             ],
             [
              0.3333333333333333,
              "#9c179e"
             ],
             [
              0.4444444444444444,
              "#bd3786"
             ],
             [
              0.5555555555555556,
              "#d8576b"
             ],
             [
              0.6666666666666666,
              "#ed7953"
             ],
             [
              0.7777777777777778,
              "#fb9f3a"
             ],
             [
              0.8888888888888888,
              "#fdca26"
             ],
             [
              1,
              "#f0f921"
             ]
            ],
            "type": "contour"
           }
          ],
          "contourcarpet": [
           {
            "colorbar": {
             "outlinewidth": 0,
             "ticks": ""
            },
            "type": "contourcarpet"
           }
          ],
          "heatmap": [
           {
            "colorbar": {
             "outlinewidth": 0,
             "ticks": ""
            },
            "colorscale": [
             [
              0,
              "#0d0887"
             ],
             [
              0.1111111111111111,
              "#46039f"
             ],
             [
              0.2222222222222222,
              "#7201a8"
             ],
             [
              0.3333333333333333,
              "#9c179e"
             ],
             [
              0.4444444444444444,
              "#bd3786"
             ],
             [
              0.5555555555555556,
              "#d8576b"
             ],
             [
              0.6666666666666666,
              "#ed7953"
             ],
             [
              0.7777777777777778,
              "#fb9f3a"
             ],
             [
              0.8888888888888888,
              "#fdca26"
             ],
             [
              1,
              "#f0f921"
             ]
            ],
            "type": "heatmap"
           }
          ],
          "heatmapgl": [
           {
            "colorbar": {
             "outlinewidth": 0,
             "ticks": ""
            },
            "colorscale": [
             [
              0,
              "#0d0887"
             ],
             [
              0.1111111111111111,
              "#46039f"
             ],
             [
              0.2222222222222222,
              "#7201a8"
             ],
             [
              0.3333333333333333,
              "#9c179e"
             ],
             [
              0.4444444444444444,
              "#bd3786"
             ],
             [
              0.5555555555555556,
              "#d8576b"
             ],
             [
              0.6666666666666666,
              "#ed7953"
             ],
             [
              0.7777777777777778,
              "#fb9f3a"
             ],
             [
              0.8888888888888888,
              "#fdca26"
             ],
             [
              1,
              "#f0f921"
             ]
            ],
            "type": "heatmapgl"
           }
          ],
          "histogram": [
           {
            "marker": {
             "pattern": {
              "fillmode": "overlay",
              "size": 10,
              "solidity": 0.2
             }
            },
            "type": "histogram"
           }
          ],
          "histogram2d": [
           {
            "colorbar": {
             "outlinewidth": 0,
             "ticks": ""
            },
            "colorscale": [
             [
              0,
              "#0d0887"
             ],
             [
              0.1111111111111111,
              "#46039f"
             ],
             [
              0.2222222222222222,
              "#7201a8"
             ],
             [
              0.3333333333333333,
              "#9c179e"
             ],
             [
              0.4444444444444444,
              "#bd3786"
             ],
             [
              0.5555555555555556,
              "#d8576b"
             ],
             [
              0.6666666666666666,
              "#ed7953"
             ],
             [
              0.7777777777777778,
              "#fb9f3a"
             ],
             [
              0.8888888888888888,
              "#fdca26"
             ],
             [
              1,
              "#f0f921"
             ]
            ],
            "type": "histogram2d"
           }
          ],
          "histogram2dcontour": [
           {
            "colorbar": {
             "outlinewidth": 0,
             "ticks": ""
            },
            "colorscale": [
             [
              0,
              "#0d0887"
             ],
             [
              0.1111111111111111,
              "#46039f"
             ],
             [
              0.2222222222222222,
              "#7201a8"
             ],
             [
              0.3333333333333333,
              "#9c179e"
             ],
             [
              0.4444444444444444,
              "#bd3786"
             ],
             [
              0.5555555555555556,
              "#d8576b"
             ],
             [
              0.6666666666666666,
              "#ed7953"
             ],
             [
              0.7777777777777778,
              "#fb9f3a"
             ],
             [
              0.8888888888888888,
              "#fdca26"
             ],
             [
              1,
              "#f0f921"
             ]
            ],
            "type": "histogram2dcontour"
           }
          ],
          "mesh3d": [
           {
            "colorbar": {
             "outlinewidth": 0,
             "ticks": ""
            },
            "type": "mesh3d"
           }
          ],
          "parcoords": [
           {
            "line": {
             "colorbar": {
              "outlinewidth": 0,
              "ticks": ""
             }
            },
            "type": "parcoords"
           }
          ],
          "pie": [
           {
            "automargin": true,
            "type": "pie"
           }
          ],
          "scatter": [
           {
            "fillpattern": {
             "fillmode": "overlay",
             "size": 10,
             "solidity": 0.2
            },
            "type": "scatter"
           }
          ],
          "scatter3d": [
           {
            "line": {
             "colorbar": {
              "outlinewidth": 0,
              "ticks": ""
             }
            },
            "marker": {
             "colorbar": {
              "outlinewidth": 0,
              "ticks": ""
             }
            },
            "type": "scatter3d"
           }
          ],
          "scattercarpet": [
           {
            "marker": {
             "colorbar": {
              "outlinewidth": 0,
              "ticks": ""
             }
            },
            "type": "scattercarpet"
           }
          ],
          "scattergeo": [
           {
            "marker": {
             "colorbar": {
              "outlinewidth": 0,
              "ticks": ""
             }
            },
            "type": "scattergeo"
           }
          ],
          "scattergl": [
           {
            "marker": {
             "colorbar": {
              "outlinewidth": 0,
              "ticks": ""
             }
            },
            "type": "scattergl"
           }
          ],
          "scattermapbox": [
           {
            "marker": {
             "colorbar": {
              "outlinewidth": 0,
              "ticks": ""
             }
            },
            "type": "scattermapbox"
           }
          ],
          "scatterpolar": [
           {
            "marker": {
             "colorbar": {
              "outlinewidth": 0,
              "ticks": ""
             }
            },
            "type": "scatterpolar"
           }
          ],
          "scatterpolargl": [
           {
            "marker": {
             "colorbar": {
              "outlinewidth": 0,
              "ticks": ""
             }
            },
            "type": "scatterpolargl"
           }
          ],
          "scatterternary": [
           {
            "marker": {
             "colorbar": {
              "outlinewidth": 0,
              "ticks": ""
             }
            },
            "type": "scatterternary"
           }
          ],
          "surface": [
           {
            "colorbar": {
             "outlinewidth": 0,
             "ticks": ""
            },
            "colorscale": [
             [
              0,
              "#0d0887"
             ],
             [
              0.1111111111111111,
              "#46039f"
             ],
             [
              0.2222222222222222,
              "#7201a8"
             ],
             [
              0.3333333333333333,
              "#9c179e"
             ],
             [
              0.4444444444444444,
              "#bd3786"
             ],
             [
              0.5555555555555556,
              "#d8576b"
             ],
             [
              0.6666666666666666,
              "#ed7953"
             ],
             [
              0.7777777777777778,
              "#fb9f3a"
             ],
             [
              0.8888888888888888,
              "#fdca26"
             ],
             [
              1,
              "#f0f921"
             ]
            ],
            "type": "surface"
           }
          ],
          "table": [
           {
            "cells": {
             "fill": {
              "color": "#EBF0F8"
             },
             "line": {
              "color": "white"
             }
            },
            "header": {
             "fill": {
              "color": "#C8D4E3"
             },
             "line": {
              "color": "white"
             }
            },
            "type": "table"
           }
          ]
         },
         "layout": {
          "annotationdefaults": {
           "arrowcolor": "#2a3f5f",
           "arrowhead": 0,
           "arrowwidth": 1
          },
          "autotypenumbers": "strict",
          "coloraxis": {
           "colorbar": {
            "outlinewidth": 0,
            "ticks": ""
           }
          },
          "colorscale": {
           "diverging": [
            [
             0,
             "#8e0152"
            ],
            [
             0.1,
             "#c51b7d"
            ],
            [
             0.2,
             "#de77ae"
            ],
            [
             0.3,
             "#f1b6da"
            ],
            [
             0.4,
             "#fde0ef"
            ],
            [
             0.5,
             "#f7f7f7"
            ],
            [
             0.6,
             "#e6f5d0"
            ],
            [
             0.7,
             "#b8e186"
            ],
            [
             0.8,
             "#7fbc41"
            ],
            [
             0.9,
             "#4d9221"
            ],
            [
             1,
             "#276419"
            ]
           ],
           "sequential": [
            [
             0,
             "#0d0887"
            ],
            [
             0.1111111111111111,
             "#46039f"
            ],
            [
             0.2222222222222222,
             "#7201a8"
            ],
            [
             0.3333333333333333,
             "#9c179e"
            ],
            [
             0.4444444444444444,
             "#bd3786"
            ],
            [
             0.5555555555555556,
             "#d8576b"
            ],
            [
             0.6666666666666666,
             "#ed7953"
            ],
            [
             0.7777777777777778,
             "#fb9f3a"
            ],
            [
             0.8888888888888888,
             "#fdca26"
            ],
            [
             1,
             "#f0f921"
            ]
           ],
           "sequentialminus": [
            [
             0,
             "#0d0887"
            ],
            [
             0.1111111111111111,
             "#46039f"
            ],
            [
             0.2222222222222222,
             "#7201a8"
            ],
            [
             0.3333333333333333,
             "#9c179e"
            ],
            [
             0.4444444444444444,
             "#bd3786"
            ],
            [
             0.5555555555555556,
             "#d8576b"
            ],
            [
             0.6666666666666666,
             "#ed7953"
            ],
            [
             0.7777777777777778,
             "#fb9f3a"
            ],
            [
             0.8888888888888888,
             "#fdca26"
            ],
            [
             1,
             "#f0f921"
            ]
           ]
          },
          "colorway": [
           "#636efa",
           "#EF553B",
           "#00cc96",
           "#ab63fa",
           "#FFA15A",
           "#19d3f3",
           "#FF6692",
           "#B6E880",
           "#FF97FF",
           "#FECB52"
          ],
          "font": {
           "color": "#2a3f5f"
          },
          "geo": {
           "bgcolor": "white",
           "lakecolor": "white",
           "landcolor": "#E5ECF6",
           "showlakes": true,
           "showland": true,
           "subunitcolor": "white"
          },
          "hoverlabel": {
           "align": "left"
          },
          "hovermode": "closest",
          "mapbox": {
           "style": "light"
          },
          "paper_bgcolor": "white",
          "plot_bgcolor": "#E5ECF6",
          "polar": {
           "angularaxis": {
            "gridcolor": "white",
            "linecolor": "white",
            "ticks": ""
           },
           "bgcolor": "#E5ECF6",
           "radialaxis": {
            "gridcolor": "white",
            "linecolor": "white",
            "ticks": ""
           }
          },
          "scene": {
           "xaxis": {
            "backgroundcolor": "#E5ECF6",
            "gridcolor": "white",
            "gridwidth": 2,
            "linecolor": "white",
            "showbackground": true,
            "ticks": "",
            "zerolinecolor": "white"
           },
           "yaxis": {
            "backgroundcolor": "#E5ECF6",
            "gridcolor": "white",
            "gridwidth": 2,
            "linecolor": "white",
            "showbackground": true,
            "ticks": "",
            "zerolinecolor": "white"
           },
           "zaxis": {
            "backgroundcolor": "#E5ECF6",
            "gridcolor": "white",
            "gridwidth": 2,
            "linecolor": "white",
            "showbackground": true,
            "ticks": "",
            "zerolinecolor": "white"
           }
          },
          "shapedefaults": {
           "line": {
            "color": "#2a3f5f"
           }
          },
          "ternary": {
           "aaxis": {
            "gridcolor": "white",
            "linecolor": "white",
            "ticks": ""
           },
           "baxis": {
            "gridcolor": "white",
            "linecolor": "white",
            "ticks": ""
           },
           "bgcolor": "#E5ECF6",
           "caxis": {
            "gridcolor": "white",
            "linecolor": "white",
            "ticks": ""
           }
          },
          "title": {
           "x": 0.05
          },
          "xaxis": {
           "automargin": true,
           "gridcolor": "white",
           "linecolor": "white",
           "ticks": "",
           "title": {
            "standoff": 15
           },
           "zerolinecolor": "white",
           "zerolinewidth": 2
          },
          "yaxis": {
           "automargin": true,
           "gridcolor": "white",
           "linecolor": "white",
           "ticks": "",
           "title": {
            "standoff": 15
           },
           "zerolinecolor": "white",
           "zerolinewidth": 2
          }
         }
        },
        "title": {
         "text": "Gemiddelde CO2-uitstoot door personenauto's in de EU tussen 2017 en 2021"
        },
        "xaxis": {
         "anchor": "y",
         "domain": [
          0,
          1
         ],
         "title": {
          "text": "Jaar"
         },
         "type": "category"
        },
        "yaxis": {
         "anchor": "x",
         "domain": [
          0,
          1
         ],
         "title": {
          "text": "CO2 emissie in WLTP (g/km)"
         }
        }
       }
      }
     },
     "metadata": {},
     "output_type": "display_data"
    }
   ],
   "source": [
    "# Plot settings\n",
    "fig = px.line(eu_emission,\n",
    "    x=\"year\",\n",
    "    y=\"Ewltp (g/km)\",\n",
    "    title=\"Gemiddelde CO2-uitstoot door personenauto's in de EU tussen 2017 en 2021\",\n",
    "    labels={\n",
    "        \"Ewltp (g/km)\": \"CO2 emissie in WLTP (g/km)\",\n",
    "        \"year\": \"Jaar\",\n",
    "    }\n",
    ")\n",
    "fig.update_xaxes(type='category')\n",
    "fig.show()\n"
   ]
  },
  {
   "attachments": {},
   "cell_type": "markdown",
   "metadata": {},
   "source": [
    "Caption"
   ]
  },
  {
   "cell_type": "code",
   "execution_count": 35,
   "metadata": {
    "tags": [
     "hide-input"
    ]
   },
   "outputs": [
    {
     "data": {
      "application/vnd.plotly.v1+json": {
       "config": {
        "plotlyServerURL": "https://plot.ly"
       },
       "data": [
        {
         "hovertemplate": "Jaar=%{x}<br>Totale CO2 emissie=%{y}<extra></extra>",
         "legendgroup": "",
         "line": {
          "color": "#636efa",
          "dash": "solid"
         },
         "marker": {
          "symbol": "circle"
         },
         "mode": "lines",
         "name": "",
         "orientation": "v",
         "showlegend": false,
         "type": "scatter",
         "x": [
          2015,
          2016,
          2017,
          2018,
          2019,
          2020,
          2021
         ],
         "xaxis": "x",
         "y": [
          0,
          0,
          306618,
          659232623,
          1125217188,
          1125217188,
          1125217188
         ],
         "yaxis": "y"
        }
       ],
       "layout": {
        "legend": {
         "tracegroupgap": 0
        },
        "template": {
         "data": {
          "bar": [
           {
            "error_x": {
             "color": "#2a3f5f"
            },
            "error_y": {
             "color": "#2a3f5f"
            },
            "marker": {
             "line": {
              "color": "#E5ECF6",
              "width": 0.5
             },
             "pattern": {
              "fillmode": "overlay",
              "size": 10,
              "solidity": 0.2
             }
            },
            "type": "bar"
           }
          ],
          "barpolar": [
           {
            "marker": {
             "line": {
              "color": "#E5ECF6",
              "width": 0.5
             },
             "pattern": {
              "fillmode": "overlay",
              "size": 10,
              "solidity": 0.2
             }
            },
            "type": "barpolar"
           }
          ],
          "carpet": [
           {
            "aaxis": {
             "endlinecolor": "#2a3f5f",
             "gridcolor": "white",
             "linecolor": "white",
             "minorgridcolor": "white",
             "startlinecolor": "#2a3f5f"
            },
            "baxis": {
             "endlinecolor": "#2a3f5f",
             "gridcolor": "white",
             "linecolor": "white",
             "minorgridcolor": "white",
             "startlinecolor": "#2a3f5f"
            },
            "type": "carpet"
           }
          ],
          "choropleth": [
           {
            "colorbar": {
             "outlinewidth": 0,
             "ticks": ""
            },
            "type": "choropleth"
           }
          ],
          "contour": [
           {
            "colorbar": {
             "outlinewidth": 0,
             "ticks": ""
            },
            "colorscale": [
             [
              0,
              "#0d0887"
             ],
             [
              0.1111111111111111,
              "#46039f"
             ],
             [
              0.2222222222222222,
              "#7201a8"
             ],
             [
              0.3333333333333333,
              "#9c179e"
             ],
             [
              0.4444444444444444,
              "#bd3786"
             ],
             [
              0.5555555555555556,
              "#d8576b"
             ],
             [
              0.6666666666666666,
              "#ed7953"
             ],
             [
              0.7777777777777778,
              "#fb9f3a"
             ],
             [
              0.8888888888888888,
              "#fdca26"
             ],
             [
              1,
              "#f0f921"
             ]
            ],
            "type": "contour"
           }
          ],
          "contourcarpet": [
           {
            "colorbar": {
             "outlinewidth": 0,
             "ticks": ""
            },
            "type": "contourcarpet"
           }
          ],
          "heatmap": [
           {
            "colorbar": {
             "outlinewidth": 0,
             "ticks": ""
            },
            "colorscale": [
             [
              0,
              "#0d0887"
             ],
             [
              0.1111111111111111,
              "#46039f"
             ],
             [
              0.2222222222222222,
              "#7201a8"
             ],
             [
              0.3333333333333333,
              "#9c179e"
             ],
             [
              0.4444444444444444,
              "#bd3786"
             ],
             [
              0.5555555555555556,
              "#d8576b"
             ],
             [
              0.6666666666666666,
              "#ed7953"
             ],
             [
              0.7777777777777778,
              "#fb9f3a"
             ],
             [
              0.8888888888888888,
              "#fdca26"
             ],
             [
              1,
              "#f0f921"
             ]
            ],
            "type": "heatmap"
           }
          ],
          "heatmapgl": [
           {
            "colorbar": {
             "outlinewidth": 0,
             "ticks": ""
            },
            "colorscale": [
             [
              0,
              "#0d0887"
             ],
             [
              0.1111111111111111,
              "#46039f"
             ],
             [
              0.2222222222222222,
              "#7201a8"
             ],
             [
              0.3333333333333333,
              "#9c179e"
             ],
             [
              0.4444444444444444,
              "#bd3786"
             ],
             [
              0.5555555555555556,
              "#d8576b"
             ],
             [
              0.6666666666666666,
              "#ed7953"
             ],
             [
              0.7777777777777778,
              "#fb9f3a"
             ],
             [
              0.8888888888888888,
              "#fdca26"
             ],
             [
              1,
              "#f0f921"
             ]
            ],
            "type": "heatmapgl"
           }
          ],
          "histogram": [
           {
            "marker": {
             "pattern": {
              "fillmode": "overlay",
              "size": 10,
              "solidity": 0.2
             }
            },
            "type": "histogram"
           }
          ],
          "histogram2d": [
           {
            "colorbar": {
             "outlinewidth": 0,
             "ticks": ""
            },
            "colorscale": [
             [
              0,
              "#0d0887"
             ],
             [
              0.1111111111111111,
              "#46039f"
             ],
             [
              0.2222222222222222,
              "#7201a8"
             ],
             [
              0.3333333333333333,
              "#9c179e"
             ],
             [
              0.4444444444444444,
              "#bd3786"
             ],
             [
              0.5555555555555556,
              "#d8576b"
             ],
             [
              0.6666666666666666,
              "#ed7953"
             ],
             [
              0.7777777777777778,
              "#fb9f3a"
             ],
             [
              0.8888888888888888,
              "#fdca26"
             ],
             [
              1,
              "#f0f921"
             ]
            ],
            "type": "histogram2d"
           }
          ],
          "histogram2dcontour": [
           {
            "colorbar": {
             "outlinewidth": 0,
             "ticks": ""
            },
            "colorscale": [
             [
              0,
              "#0d0887"
             ],
             [
              0.1111111111111111,
              "#46039f"
             ],
             [
              0.2222222222222222,
              "#7201a8"
             ],
             [
              0.3333333333333333,
              "#9c179e"
             ],
             [
              0.4444444444444444,
              "#bd3786"
             ],
             [
              0.5555555555555556,
              "#d8576b"
             ],
             [
              0.6666666666666666,
              "#ed7953"
             ],
             [
              0.7777777777777778,
              "#fb9f3a"
             ],
             [
              0.8888888888888888,
              "#fdca26"
             ],
             [
              1,
              "#f0f921"
             ]
            ],
            "type": "histogram2dcontour"
           }
          ],
          "mesh3d": [
           {
            "colorbar": {
             "outlinewidth": 0,
             "ticks": ""
            },
            "type": "mesh3d"
           }
          ],
          "parcoords": [
           {
            "line": {
             "colorbar": {
              "outlinewidth": 0,
              "ticks": ""
             }
            },
            "type": "parcoords"
           }
          ],
          "pie": [
           {
            "automargin": true,
            "type": "pie"
           }
          ],
          "scatter": [
           {
            "fillpattern": {
             "fillmode": "overlay",
             "size": 10,
             "solidity": 0.2
            },
            "type": "scatter"
           }
          ],
          "scatter3d": [
           {
            "line": {
             "colorbar": {
              "outlinewidth": 0,
              "ticks": ""
             }
            },
            "marker": {
             "colorbar": {
              "outlinewidth": 0,
              "ticks": ""
             }
            },
            "type": "scatter3d"
           }
          ],
          "scattercarpet": [
           {
            "marker": {
             "colorbar": {
              "outlinewidth": 0,
              "ticks": ""
             }
            },
            "type": "scattercarpet"
           }
          ],
          "scattergeo": [
           {
            "marker": {
             "colorbar": {
              "outlinewidth": 0,
              "ticks": ""
             }
            },
            "type": "scattergeo"
           }
          ],
          "scattergl": [
           {
            "marker": {
             "colorbar": {
              "outlinewidth": 0,
              "ticks": ""
             }
            },
            "type": "scattergl"
           }
          ],
          "scattermapbox": [
           {
            "marker": {
             "colorbar": {
              "outlinewidth": 0,
              "ticks": ""
             }
            },
            "type": "scattermapbox"
           }
          ],
          "scatterpolar": [
           {
            "marker": {
             "colorbar": {
              "outlinewidth": 0,
              "ticks": ""
             }
            },
            "type": "scatterpolar"
           }
          ],
          "scatterpolargl": [
           {
            "marker": {
             "colorbar": {
              "outlinewidth": 0,
              "ticks": ""
             }
            },
            "type": "scatterpolargl"
           }
          ],
          "scatterternary": [
           {
            "marker": {
             "colorbar": {
              "outlinewidth": 0,
              "ticks": ""
             }
            },
            "type": "scatterternary"
           }
          ],
          "surface": [
           {
            "colorbar": {
             "outlinewidth": 0,
             "ticks": ""
            },
            "colorscale": [
             [
              0,
              "#0d0887"
             ],
             [
              0.1111111111111111,
              "#46039f"
             ],
             [
              0.2222222222222222,
              "#7201a8"
             ],
             [
              0.3333333333333333,
              "#9c179e"
             ],
             [
              0.4444444444444444,
              "#bd3786"
             ],
             [
              0.5555555555555556,
              "#d8576b"
             ],
             [
              0.6666666666666666,
              "#ed7953"
             ],
             [
              0.7777777777777778,
              "#fb9f3a"
             ],
             [
              0.8888888888888888,
              "#fdca26"
             ],
             [
              1,
              "#f0f921"
             ]
            ],
            "type": "surface"
           }
          ],
          "table": [
           {
            "cells": {
             "fill": {
              "color": "#EBF0F8"
             },
             "line": {
              "color": "white"
             }
            },
            "header": {
             "fill": {
              "color": "#C8D4E3"
             },
             "line": {
              "color": "white"
             }
            },
            "type": "table"
           }
          ]
         },
         "layout": {
          "annotationdefaults": {
           "arrowcolor": "#2a3f5f",
           "arrowhead": 0,
           "arrowwidth": 1
          },
          "autotypenumbers": "strict",
          "coloraxis": {
           "colorbar": {
            "outlinewidth": 0,
            "ticks": ""
           }
          },
          "colorscale": {
           "diverging": [
            [
             0,
             "#8e0152"
            ],
            [
             0.1,
             "#c51b7d"
            ],
            [
             0.2,
             "#de77ae"
            ],
            [
             0.3,
             "#f1b6da"
            ],
            [
             0.4,
             "#fde0ef"
            ],
            [
             0.5,
             "#f7f7f7"
            ],
            [
             0.6,
             "#e6f5d0"
            ],
            [
             0.7,
             "#b8e186"
            ],
            [
             0.8,
             "#7fbc41"
            ],
            [
             0.9,
             "#4d9221"
            ],
            [
             1,
             "#276419"
            ]
           ],
           "sequential": [
            [
             0,
             "#0d0887"
            ],
            [
             0.1111111111111111,
             "#46039f"
            ],
            [
             0.2222222222222222,
             "#7201a8"
            ],
            [
             0.3333333333333333,
             "#9c179e"
            ],
            [
             0.4444444444444444,
             "#bd3786"
            ],
            [
             0.5555555555555556,
             "#d8576b"
            ],
            [
             0.6666666666666666,
             "#ed7953"
            ],
            [
             0.7777777777777778,
             "#fb9f3a"
            ],
            [
             0.8888888888888888,
             "#fdca26"
            ],
            [
             1,
             "#f0f921"
            ]
           ],
           "sequentialminus": [
            [
             0,
             "#0d0887"
            ],
            [
             0.1111111111111111,
             "#46039f"
            ],
            [
             0.2222222222222222,
             "#7201a8"
            ],
            [
             0.3333333333333333,
             "#9c179e"
            ],
            [
             0.4444444444444444,
             "#bd3786"
            ],
            [
             0.5555555555555556,
             "#d8576b"
            ],
            [
             0.6666666666666666,
             "#ed7953"
            ],
            [
             0.7777777777777778,
             "#fb9f3a"
            ],
            [
             0.8888888888888888,
             "#fdca26"
            ],
            [
             1,
             "#f0f921"
            ]
           ]
          },
          "colorway": [
           "#636efa",
           "#EF553B",
           "#00cc96",
           "#ab63fa",
           "#FFA15A",
           "#19d3f3",
           "#FF6692",
           "#B6E880",
           "#FF97FF",
           "#FECB52"
          ],
          "font": {
           "color": "#2a3f5f"
          },
          "geo": {
           "bgcolor": "white",
           "lakecolor": "white",
           "landcolor": "#E5ECF6",
           "showlakes": true,
           "showland": true,
           "subunitcolor": "white"
          },
          "hoverlabel": {
           "align": "left"
          },
          "hovermode": "closest",
          "mapbox": {
           "style": "light"
          },
          "paper_bgcolor": "white",
          "plot_bgcolor": "#E5ECF6",
          "polar": {
           "angularaxis": {
            "gridcolor": "white",
            "linecolor": "white",
            "ticks": ""
           },
           "bgcolor": "#E5ECF6",
           "radialaxis": {
            "gridcolor": "white",
            "linecolor": "white",
            "ticks": ""
           }
          },
          "scene": {
           "xaxis": {
            "backgroundcolor": "#E5ECF6",
            "gridcolor": "white",
            "gridwidth": 2,
            "linecolor": "white",
            "showbackground": true,
            "ticks": "",
            "zerolinecolor": "white"
           },
           "yaxis": {
            "backgroundcolor": "#E5ECF6",
            "gridcolor": "white",
            "gridwidth": 2,
            "linecolor": "white",
            "showbackground": true,
            "ticks": "",
            "zerolinecolor": "white"
           },
           "zaxis": {
            "backgroundcolor": "#E5ECF6",
            "gridcolor": "white",
            "gridwidth": 2,
            "linecolor": "white",
            "showbackground": true,
            "ticks": "",
            "zerolinecolor": "white"
           }
          },
          "shapedefaults": {
           "line": {
            "color": "#2a3f5f"
           }
          },
          "ternary": {
           "aaxis": {
            "gridcolor": "white",
            "linecolor": "white",
            "ticks": ""
           },
           "baxis": {
            "gridcolor": "white",
            "linecolor": "white",
            "ticks": ""
           },
           "bgcolor": "#E5ECF6",
           "caxis": {
            "gridcolor": "white",
            "linecolor": "white",
            "ticks": ""
           }
          },
          "title": {
           "x": 0.05
          },
          "xaxis": {
           "automargin": true,
           "gridcolor": "white",
           "linecolor": "white",
           "ticks": "",
           "title": {
            "standoff": 15
           },
           "zerolinecolor": "white",
           "zerolinewidth": 2
          },
          "yaxis": {
           "automargin": true,
           "gridcolor": "white",
           "linecolor": "white",
           "ticks": "",
           "title": {
            "standoff": 15
           },
           "zerolinecolor": "white",
           "zerolinewidth": 2
          }
         }
        },
        "title": {
         "text": "Totale CO2-uitstoot door personenauto's in de EU tussen 2015 en 2021"
        },
        "xaxis": {
         "anchor": "y",
         "domain": [
          0,
          1
         ],
         "title": {
          "text": "Jaar"
         }
        },
        "yaxis": {
         "anchor": "x",
         "domain": [
          0,
          1
         ],
         "title": {
          "text": "Totale CO2 emissie"
         }
        }
       }
      }
     },
     "metadata": {},
     "output_type": "display_data"
    }
   ],
   "source": [
    "# Plot settings\n",
    "fig = px.line(total_emission,\n",
    "    x=\"year\",\n",
    "    y=\"total_emission\",\n",
    "    title=\"Totale CO2-uitstoot door personenauto's in de EU tussen 2015 en 2021\",\n",
    "    labels={\n",
    "        \"total_emission\": \"Totale CO2 emissie\",\n",
    "        \"year\": \"Jaar\",\n",
    "    }\n",
    ")\n",
    "fig.show()\n"
   ]
  },
  {
   "attachments": {},
   "cell_type": "markdown",
   "metadata": {},
   "source": [
    "Caption"
   ]
  },
  {
   "cell_type": "code",
   "execution_count": 36,
   "metadata": {
    "tags": [
     "hide-input"
    ]
   },
   "outputs": [
    {
     "data": {
      "application/vnd.plotly.v1+json": {
       "config": {
        "plotlyServerURL": "https://plot.ly"
       },
       "data": [
        {
         "alignmentgroup": "True",
         "customdata": [
          [
           415525
          ],
          [
           473778
          ],
          [
           4860566
          ],
          [
           14600310
          ],
          [
           7996139
          ],
          [
           7996139
          ],
          [
           7996139
          ]
         ],
         "hovertemplate": "Brandstof type=Anders<br>Jaar=%{x}<br>Percentage van alle personenauto's=%{y}<br>counts=%{customdata[0]}<extra></extra>",
         "legendgroup": "Anders",
         "marker": {
          "color": "grey",
          "pattern": {
           "shape": ""
          }
         },
         "name": "Anders",
         "offsetgroup": "Anders",
         "orientation": "v",
         "showlegend": true,
         "textposition": "auto",
         "type": "bar",
         "x": [
          2015,
          2016,
          2017,
          2018,
          2019,
          2020,
          2021
         ],
         "xaxis": "x",
         "y": [
          99.01892565567792,
          98.906714821039,
          98.456858332015,
          97.98665195108424,
          81.06079322020771,
          81.06079322020771,
          81.06079322020771
         ],
         "yaxis": "y"
        },
        {
         "alignmentgroup": "True",
         "customdata": [
          [
           4117
          ],
          [
           5237
          ],
          [
           76181
          ],
          [
           299995
          ],
          [
           1868234
          ],
          [
           1868234
          ],
          [
           1868234
          ]
         ],
         "hovertemplate": "Brandstof type=Elektrisch<br>Jaar=%{x}<br>Percentage van alle personenauto's=%{y}<br>counts=%{customdata[0]}<extra></extra>",
         "legendgroup": "Elektrisch",
         "marker": {
          "color": "blue",
          "pattern": {
           "shape": ""
          }
         },
         "name": "Elektrisch",
         "offsetgroup": "Elektrisch",
         "orientation": "v",
         "showlegend": true,
         "textposition": "auto",
         "type": "bar",
         "x": [
          2015,
          2016,
          2017,
          2018,
          2019,
          2020,
          2021
         ],
         "xaxis": "x",
         "y": [
          0.981074344322065,
          1.093285178960993,
          1.5431416679850112,
          2.0133480489157773,
          18.93920677979229,
          18.93920677979229,
          18.93920677979229
         ],
         "yaxis": "y"
        }
       ],
       "layout": {
        "barmode": "relative",
        "legend": {
         "title": {
          "text": "Brandstof type"
         },
         "tracegroupgap": 0
        },
        "template": {
         "data": {
          "bar": [
           {
            "error_x": {
             "color": "#2a3f5f"
            },
            "error_y": {
             "color": "#2a3f5f"
            },
            "marker": {
             "line": {
              "color": "#E5ECF6",
              "width": 0.5
             },
             "pattern": {
              "fillmode": "overlay",
              "size": 10,
              "solidity": 0.2
             }
            },
            "type": "bar"
           }
          ],
          "barpolar": [
           {
            "marker": {
             "line": {
              "color": "#E5ECF6",
              "width": 0.5
             },
             "pattern": {
              "fillmode": "overlay",
              "size": 10,
              "solidity": 0.2
             }
            },
            "type": "barpolar"
           }
          ],
          "carpet": [
           {
            "aaxis": {
             "endlinecolor": "#2a3f5f",
             "gridcolor": "white",
             "linecolor": "white",
             "minorgridcolor": "white",
             "startlinecolor": "#2a3f5f"
            },
            "baxis": {
             "endlinecolor": "#2a3f5f",
             "gridcolor": "white",
             "linecolor": "white",
             "minorgridcolor": "white",
             "startlinecolor": "#2a3f5f"
            },
            "type": "carpet"
           }
          ],
          "choropleth": [
           {
            "colorbar": {
             "outlinewidth": 0,
             "ticks": ""
            },
            "type": "choropleth"
           }
          ],
          "contour": [
           {
            "colorbar": {
             "outlinewidth": 0,
             "ticks": ""
            },
            "colorscale": [
             [
              0,
              "#0d0887"
             ],
             [
              0.1111111111111111,
              "#46039f"
             ],
             [
              0.2222222222222222,
              "#7201a8"
             ],
             [
              0.3333333333333333,
              "#9c179e"
             ],
             [
              0.4444444444444444,
              "#bd3786"
             ],
             [
              0.5555555555555556,
              "#d8576b"
             ],
             [
              0.6666666666666666,
              "#ed7953"
             ],
             [
              0.7777777777777778,
              "#fb9f3a"
             ],
             [
              0.8888888888888888,
              "#fdca26"
             ],
             [
              1,
              "#f0f921"
             ]
            ],
            "type": "contour"
           }
          ],
          "contourcarpet": [
           {
            "colorbar": {
             "outlinewidth": 0,
             "ticks": ""
            },
            "type": "contourcarpet"
           }
          ],
          "heatmap": [
           {
            "colorbar": {
             "outlinewidth": 0,
             "ticks": ""
            },
            "colorscale": [
             [
              0,
              "#0d0887"
             ],
             [
              0.1111111111111111,
              "#46039f"
             ],
             [
              0.2222222222222222,
              "#7201a8"
             ],
             [
              0.3333333333333333,
              "#9c179e"
             ],
             [
              0.4444444444444444,
              "#bd3786"
             ],
             [
              0.5555555555555556,
              "#d8576b"
             ],
             [
              0.6666666666666666,
              "#ed7953"
             ],
             [
              0.7777777777777778,
              "#fb9f3a"
             ],
             [
              0.8888888888888888,
              "#fdca26"
             ],
             [
              1,
              "#f0f921"
             ]
            ],
            "type": "heatmap"
           }
          ],
          "heatmapgl": [
           {
            "colorbar": {
             "outlinewidth": 0,
             "ticks": ""
            },
            "colorscale": [
             [
              0,
              "#0d0887"
             ],
             [
              0.1111111111111111,
              "#46039f"
             ],
             [
              0.2222222222222222,
              "#7201a8"
             ],
             [
              0.3333333333333333,
              "#9c179e"
             ],
             [
              0.4444444444444444,
              "#bd3786"
             ],
             [
              0.5555555555555556,
              "#d8576b"
             ],
             [
              0.6666666666666666,
              "#ed7953"
             ],
             [
              0.7777777777777778,
              "#fb9f3a"
             ],
             [
              0.8888888888888888,
              "#fdca26"
             ],
             [
              1,
              "#f0f921"
             ]
            ],
            "type": "heatmapgl"
           }
          ],
          "histogram": [
           {
            "marker": {
             "pattern": {
              "fillmode": "overlay",
              "size": 10,
              "solidity": 0.2
             }
            },
            "type": "histogram"
           }
          ],
          "histogram2d": [
           {
            "colorbar": {
             "outlinewidth": 0,
             "ticks": ""
            },
            "colorscale": [
             [
              0,
              "#0d0887"
             ],
             [
              0.1111111111111111,
              "#46039f"
             ],
             [
              0.2222222222222222,
              "#7201a8"
             ],
             [
              0.3333333333333333,
              "#9c179e"
             ],
             [
              0.4444444444444444,
              "#bd3786"
             ],
             [
              0.5555555555555556,
              "#d8576b"
             ],
             [
              0.6666666666666666,
              "#ed7953"
             ],
             [
              0.7777777777777778,
              "#fb9f3a"
             ],
             [
              0.8888888888888888,
              "#fdca26"
             ],
             [
              1,
              "#f0f921"
             ]
            ],
            "type": "histogram2d"
           }
          ],
          "histogram2dcontour": [
           {
            "colorbar": {
             "outlinewidth": 0,
             "ticks": ""
            },
            "colorscale": [
             [
              0,
              "#0d0887"
             ],
             [
              0.1111111111111111,
              "#46039f"
             ],
             [
              0.2222222222222222,
              "#7201a8"
             ],
             [
              0.3333333333333333,
              "#9c179e"
             ],
             [
              0.4444444444444444,
              "#bd3786"
             ],
             [
              0.5555555555555556,
              "#d8576b"
             ],
             [
              0.6666666666666666,
              "#ed7953"
             ],
             [
              0.7777777777777778,
              "#fb9f3a"
             ],
             [
              0.8888888888888888,
              "#fdca26"
             ],
             [
              1,
              "#f0f921"
             ]
            ],
            "type": "histogram2dcontour"
           }
          ],
          "mesh3d": [
           {
            "colorbar": {
             "outlinewidth": 0,
             "ticks": ""
            },
            "type": "mesh3d"
           }
          ],
          "parcoords": [
           {
            "line": {
             "colorbar": {
              "outlinewidth": 0,
              "ticks": ""
             }
            },
            "type": "parcoords"
           }
          ],
          "pie": [
           {
            "automargin": true,
            "type": "pie"
           }
          ],
          "scatter": [
           {
            "fillpattern": {
             "fillmode": "overlay",
             "size": 10,
             "solidity": 0.2
            },
            "type": "scatter"
           }
          ],
          "scatter3d": [
           {
            "line": {
             "colorbar": {
              "outlinewidth": 0,
              "ticks": ""
             }
            },
            "marker": {
             "colorbar": {
              "outlinewidth": 0,
              "ticks": ""
             }
            },
            "type": "scatter3d"
           }
          ],
          "scattercarpet": [
           {
            "marker": {
             "colorbar": {
              "outlinewidth": 0,
              "ticks": ""
             }
            },
            "type": "scattercarpet"
           }
          ],
          "scattergeo": [
           {
            "marker": {
             "colorbar": {
              "outlinewidth": 0,
              "ticks": ""
             }
            },
            "type": "scattergeo"
           }
          ],
          "scattergl": [
           {
            "marker": {
             "colorbar": {
              "outlinewidth": 0,
              "ticks": ""
             }
            },
            "type": "scattergl"
           }
          ],
          "scattermapbox": [
           {
            "marker": {
             "colorbar": {
              "outlinewidth": 0,
              "ticks": ""
             }
            },
            "type": "scattermapbox"
           }
          ],
          "scatterpolar": [
           {
            "marker": {
             "colorbar": {
              "outlinewidth": 0,
              "ticks": ""
             }
            },
            "type": "scatterpolar"
           }
          ],
          "scatterpolargl": [
           {
            "marker": {
             "colorbar": {
              "outlinewidth": 0,
              "ticks": ""
             }
            },
            "type": "scatterpolargl"
           }
          ],
          "scatterternary": [
           {
            "marker": {
             "colorbar": {
              "outlinewidth": 0,
              "ticks": ""
             }
            },
            "type": "scatterternary"
           }
          ],
          "surface": [
           {
            "colorbar": {
             "outlinewidth": 0,
             "ticks": ""
            },
            "colorscale": [
             [
              0,
              "#0d0887"
             ],
             [
              0.1111111111111111,
              "#46039f"
             ],
             [
              0.2222222222222222,
              "#7201a8"
             ],
             [
              0.3333333333333333,
              "#9c179e"
             ],
             [
              0.4444444444444444,
              "#bd3786"
             ],
             [
              0.5555555555555556,
              "#d8576b"
             ],
             [
              0.6666666666666666,
              "#ed7953"
             ],
             [
              0.7777777777777778,
              "#fb9f3a"
             ],
             [
              0.8888888888888888,
              "#fdca26"
             ],
             [
              1,
              "#f0f921"
             ]
            ],
            "type": "surface"
           }
          ],
          "table": [
           {
            "cells": {
             "fill": {
              "color": "#EBF0F8"
             },
             "line": {
              "color": "white"
             }
            },
            "header": {
             "fill": {
              "color": "#C8D4E3"
             },
             "line": {
              "color": "white"
             }
            },
            "type": "table"
           }
          ]
         },
         "layout": {
          "annotationdefaults": {
           "arrowcolor": "#2a3f5f",
           "arrowhead": 0,
           "arrowwidth": 1
          },
          "autotypenumbers": "strict",
          "coloraxis": {
           "colorbar": {
            "outlinewidth": 0,
            "ticks": ""
           }
          },
          "colorscale": {
           "diverging": [
            [
             0,
             "#8e0152"
            ],
            [
             0.1,
             "#c51b7d"
            ],
            [
             0.2,
             "#de77ae"
            ],
            [
             0.3,
             "#f1b6da"
            ],
            [
             0.4,
             "#fde0ef"
            ],
            [
             0.5,
             "#f7f7f7"
            ],
            [
             0.6,
             "#e6f5d0"
            ],
            [
             0.7,
             "#b8e186"
            ],
            [
             0.8,
             "#7fbc41"
            ],
            [
             0.9,
             "#4d9221"
            ],
            [
             1,
             "#276419"
            ]
           ],
           "sequential": [
            [
             0,
             "#0d0887"
            ],
            [
             0.1111111111111111,
             "#46039f"
            ],
            [
             0.2222222222222222,
             "#7201a8"
            ],
            [
             0.3333333333333333,
             "#9c179e"
            ],
            [
             0.4444444444444444,
             "#bd3786"
            ],
            [
             0.5555555555555556,
             "#d8576b"
            ],
            [
             0.6666666666666666,
             "#ed7953"
            ],
            [
             0.7777777777777778,
             "#fb9f3a"
            ],
            [
             0.8888888888888888,
             "#fdca26"
            ],
            [
             1,
             "#f0f921"
            ]
           ],
           "sequentialminus": [
            [
             0,
             "#0d0887"
            ],
            [
             0.1111111111111111,
             "#46039f"
            ],
            [
             0.2222222222222222,
             "#7201a8"
            ],
            [
             0.3333333333333333,
             "#9c179e"
            ],
            [
             0.4444444444444444,
             "#bd3786"
            ],
            [
             0.5555555555555556,
             "#d8576b"
            ],
            [
             0.6666666666666666,
             "#ed7953"
            ],
            [
             0.7777777777777778,
             "#fb9f3a"
            ],
            [
             0.8888888888888888,
             "#fdca26"
            ],
            [
             1,
             "#f0f921"
            ]
           ]
          },
          "colorway": [
           "#636efa",
           "#EF553B",
           "#00cc96",
           "#ab63fa",
           "#FFA15A",
           "#19d3f3",
           "#FF6692",
           "#B6E880",
           "#FF97FF",
           "#FECB52"
          ],
          "font": {
           "color": "#2a3f5f"
          },
          "geo": {
           "bgcolor": "white",
           "lakecolor": "white",
           "landcolor": "#E5ECF6",
           "showlakes": true,
           "showland": true,
           "subunitcolor": "white"
          },
          "hoverlabel": {
           "align": "left"
          },
          "hovermode": "closest",
          "mapbox": {
           "style": "light"
          },
          "paper_bgcolor": "white",
          "plot_bgcolor": "#E5ECF6",
          "polar": {
           "angularaxis": {
            "gridcolor": "white",
            "linecolor": "white",
            "ticks": ""
           },
           "bgcolor": "#E5ECF6",
           "radialaxis": {
            "gridcolor": "white",
            "linecolor": "white",
            "ticks": ""
           }
          },
          "scene": {
           "xaxis": {
            "backgroundcolor": "#E5ECF6",
            "gridcolor": "white",
            "gridwidth": 2,
            "linecolor": "white",
            "showbackground": true,
            "ticks": "",
            "zerolinecolor": "white"
           },
           "yaxis": {
            "backgroundcolor": "#E5ECF6",
            "gridcolor": "white",
            "gridwidth": 2,
            "linecolor": "white",
            "showbackground": true,
            "ticks": "",
            "zerolinecolor": "white"
           },
           "zaxis": {
            "backgroundcolor": "#E5ECF6",
            "gridcolor": "white",
            "gridwidth": 2,
            "linecolor": "white",
            "showbackground": true,
            "ticks": "",
            "zerolinecolor": "white"
           }
          },
          "shapedefaults": {
           "line": {
            "color": "#2a3f5f"
           }
          },
          "ternary": {
           "aaxis": {
            "gridcolor": "white",
            "linecolor": "white",
            "ticks": ""
           },
           "baxis": {
            "gridcolor": "white",
            "linecolor": "white",
            "ticks": ""
           },
           "bgcolor": "#E5ECF6",
           "caxis": {
            "gridcolor": "white",
            "linecolor": "white",
            "ticks": ""
           }
          },
          "title": {
           "x": 0.05
          },
          "xaxis": {
           "automargin": true,
           "gridcolor": "white",
           "linecolor": "white",
           "ticks": "",
           "title": {
            "standoff": 15
           },
           "zerolinecolor": "white",
           "zerolinewidth": 2
          },
          "yaxis": {
           "automargin": true,
           "gridcolor": "white",
           "linecolor": "white",
           "ticks": "",
           "title": {
            "standoff": 15
           },
           "zerolinecolor": "white",
           "zerolinewidth": 2
          }
         }
        },
        "title": {
         "text": "Brandstof type distributie van personenauto's in de EU tussen 2015 en 2021"
        },
        "xaxis": {
         "anchor": "y",
         "domain": [
          0,
          1
         ],
         "title": {
          "text": "Jaar"
         }
        },
        "yaxis": {
         "anchor": "x",
         "domain": [
          0,
          1
         ],
         "title": {
          "text": "Percentage van alle personenauto's"
         }
        }
       }
      }
     },
     "metadata": {},
     "output_type": "display_data"
    }
   ],
   "source": [
    "# Color settings\n",
    "unique_ft = df_counts['Ft'].unique()\n",
    "colors = ['blue' if ft == 'Elektrisch' else 'grey' for ft in unique_ft]\n",
    "color_dict = dict(zip(unique_ft, colors))\n",
    "\n",
    "# Plot settings\n",
    "fig = px.bar(df_counts,\n",
    "    x=\"year\",\n",
    "    y=\"percent\",\n",
    "    color=\"Ft\",\n",
    "    title=\"Brandstof type distributie van personenauto's in de EU tussen 2015 en 2021\",\n",
    "    labels={\n",
    "        \"percent\": \"Percentage van alle personenauto's\",\n",
    "        \"year\": 'Jaar',\n",
    "        \"Ft\": 'Brandstof type',\n",
    "    },\n",
    "    hover_data=['counts'],\n",
    "    color_discrete_map=color_dict  # Gebruik de kleurenkaart\n",
    ")\n",
    "fig.show()\n"
   ]
  },
  {
   "attachments": {},
   "cell_type": "markdown",
   "metadata": {},
   "source": [
    "Caption\n"
   ]
  },
  {
   "cell_type": "code",
   "execution_count": 37,
   "metadata": {
    "tags": [
     "hide-input"
    ]
   },
   "outputs": [
    {
     "data": {
      "application/vnd.plotly.v1+json": {
       "config": {
        "plotlyServerURL": "https://plot.ly"
       },
       "data": [
        {
         "alignmentgroup": "True",
         "hovertemplate": "Brandstof type=%{x}<br>CO2 emissie in WLTP (g/km)=%{y}<extra></extra>",
         "legendgroup": "",
         "marker": {
          "color": "#636efa",
          "pattern": {
           "shape": ""
          }
         },
         "name": "",
         "offsetgroup": "",
         "orientation": "v",
         "showlegend": false,
         "textposition": "auto",
         "type": "bar",
         "x": [
          "petrol",
          "diesel",
          "petrol-electric",
          "lpg",
          "ng",
          "diesel-electric",
          "e85",
          "ng-biomethane",
          "other",
          "electric"
         ],
         "xaxis": "x",
         "y": [
          735097381,
          322874600,
          32925459,
          26000186,
          4100930,
          1984472,
          1150701,
          862505,
          220954,
          0
         ],
         "yaxis": "y"
        }
       ],
       "layout": {
        "barmode": "relative",
        "legend": {
         "tracegroupgap": 0
        },
        "template": {
         "data": {
          "bar": [
           {
            "error_x": {
             "color": "#2a3f5f"
            },
            "error_y": {
             "color": "#2a3f5f"
            },
            "marker": {
             "line": {
              "color": "#E5ECF6",
              "width": 0.5
             },
             "pattern": {
              "fillmode": "overlay",
              "size": 10,
              "solidity": 0.2
             }
            },
            "type": "bar"
           }
          ],
          "barpolar": [
           {
            "marker": {
             "line": {
              "color": "#E5ECF6",
              "width": 0.5
             },
             "pattern": {
              "fillmode": "overlay",
              "size": 10,
              "solidity": 0.2
             }
            },
            "type": "barpolar"
           }
          ],
          "carpet": [
           {
            "aaxis": {
             "endlinecolor": "#2a3f5f",
             "gridcolor": "white",
             "linecolor": "white",
             "minorgridcolor": "white",
             "startlinecolor": "#2a3f5f"
            },
            "baxis": {
             "endlinecolor": "#2a3f5f",
             "gridcolor": "white",
             "linecolor": "white",
             "minorgridcolor": "white",
             "startlinecolor": "#2a3f5f"
            },
            "type": "carpet"
           }
          ],
          "choropleth": [
           {
            "colorbar": {
             "outlinewidth": 0,
             "ticks": ""
            },
            "type": "choropleth"
           }
          ],
          "contour": [
           {
            "colorbar": {
             "outlinewidth": 0,
             "ticks": ""
            },
            "colorscale": [
             [
              0,
              "#0d0887"
             ],
             [
              0.1111111111111111,
              "#46039f"
             ],
             [
              0.2222222222222222,
              "#7201a8"
             ],
             [
              0.3333333333333333,
              "#9c179e"
             ],
             [
              0.4444444444444444,
              "#bd3786"
             ],
             [
              0.5555555555555556,
              "#d8576b"
             ],
             [
              0.6666666666666666,
              "#ed7953"
             ],
             [
              0.7777777777777778,
              "#fb9f3a"
             ],
             [
              0.8888888888888888,
              "#fdca26"
             ],
             [
              1,
              "#f0f921"
             ]
            ],
            "type": "contour"
           }
          ],
          "contourcarpet": [
           {
            "colorbar": {
             "outlinewidth": 0,
             "ticks": ""
            },
            "type": "contourcarpet"
           }
          ],
          "heatmap": [
           {
            "colorbar": {
             "outlinewidth": 0,
             "ticks": ""
            },
            "colorscale": [
             [
              0,
              "#0d0887"
             ],
             [
              0.1111111111111111,
              "#46039f"
             ],
             [
              0.2222222222222222,
              "#7201a8"
             ],
             [
              0.3333333333333333,
              "#9c179e"
             ],
             [
              0.4444444444444444,
              "#bd3786"
             ],
             [
              0.5555555555555556,
              "#d8576b"
             ],
             [
              0.6666666666666666,
              "#ed7953"
             ],
             [
              0.7777777777777778,
              "#fb9f3a"
             ],
             [
              0.8888888888888888,
              "#fdca26"
             ],
             [
              1,
              "#f0f921"
             ]
            ],
            "type": "heatmap"
           }
          ],
          "heatmapgl": [
           {
            "colorbar": {
             "outlinewidth": 0,
             "ticks": ""
            },
            "colorscale": [
             [
              0,
              "#0d0887"
             ],
             [
              0.1111111111111111,
              "#46039f"
             ],
             [
              0.2222222222222222,
              "#7201a8"
             ],
             [
              0.3333333333333333,
              "#9c179e"
             ],
             [
              0.4444444444444444,
              "#bd3786"
             ],
             [
              0.5555555555555556,
              "#d8576b"
             ],
             [
              0.6666666666666666,
              "#ed7953"
             ],
             [
              0.7777777777777778,
              "#fb9f3a"
             ],
             [
              0.8888888888888888,
              "#fdca26"
             ],
             [
              1,
              "#f0f921"
             ]
            ],
            "type": "heatmapgl"
           }
          ],
          "histogram": [
           {
            "marker": {
             "pattern": {
              "fillmode": "overlay",
              "size": 10,
              "solidity": 0.2
             }
            },
            "type": "histogram"
           }
          ],
          "histogram2d": [
           {
            "colorbar": {
             "outlinewidth": 0,
             "ticks": ""
            },
            "colorscale": [
             [
              0,
              "#0d0887"
             ],
             [
              0.1111111111111111,
              "#46039f"
             ],
             [
              0.2222222222222222,
              "#7201a8"
             ],
             [
              0.3333333333333333,
              "#9c179e"
             ],
             [
              0.4444444444444444,
              "#bd3786"
             ],
             [
              0.5555555555555556,
              "#d8576b"
             ],
             [
              0.6666666666666666,
              "#ed7953"
             ],
             [
              0.7777777777777778,
              "#fb9f3a"
             ],
             [
              0.8888888888888888,
              "#fdca26"
             ],
             [
              1,
              "#f0f921"
             ]
            ],
            "type": "histogram2d"
           }
          ],
          "histogram2dcontour": [
           {
            "colorbar": {
             "outlinewidth": 0,
             "ticks": ""
            },
            "colorscale": [
             [
              0,
              "#0d0887"
             ],
             [
              0.1111111111111111,
              "#46039f"
             ],
             [
              0.2222222222222222,
              "#7201a8"
             ],
             [
              0.3333333333333333,
              "#9c179e"
             ],
             [
              0.4444444444444444,
              "#bd3786"
             ],
             [
              0.5555555555555556,
              "#d8576b"
             ],
             [
              0.6666666666666666,
              "#ed7953"
             ],
             [
              0.7777777777777778,
              "#fb9f3a"
             ],
             [
              0.8888888888888888,
              "#fdca26"
             ],
             [
              1,
              "#f0f921"
             ]
            ],
            "type": "histogram2dcontour"
           }
          ],
          "mesh3d": [
           {
            "colorbar": {
             "outlinewidth": 0,
             "ticks": ""
            },
            "type": "mesh3d"
           }
          ],
          "parcoords": [
           {
            "line": {
             "colorbar": {
              "outlinewidth": 0,
              "ticks": ""
             }
            },
            "type": "parcoords"
           }
          ],
          "pie": [
           {
            "automargin": true,
            "type": "pie"
           }
          ],
          "scatter": [
           {
            "fillpattern": {
             "fillmode": "overlay",
             "size": 10,
             "solidity": 0.2
            },
            "type": "scatter"
           }
          ],
          "scatter3d": [
           {
            "line": {
             "colorbar": {
              "outlinewidth": 0,
              "ticks": ""
             }
            },
            "marker": {
             "colorbar": {
              "outlinewidth": 0,
              "ticks": ""
             }
            },
            "type": "scatter3d"
           }
          ],
          "scattercarpet": [
           {
            "marker": {
             "colorbar": {
              "outlinewidth": 0,
              "ticks": ""
             }
            },
            "type": "scattercarpet"
           }
          ],
          "scattergeo": [
           {
            "marker": {
             "colorbar": {
              "outlinewidth": 0,
              "ticks": ""
             }
            },
            "type": "scattergeo"
           }
          ],
          "scattergl": [
           {
            "marker": {
             "colorbar": {
              "outlinewidth": 0,
              "ticks": ""
             }
            },
            "type": "scattergl"
           }
          ],
          "scattermapbox": [
           {
            "marker": {
             "colorbar": {
              "outlinewidth": 0,
              "ticks": ""
             }
            },
            "type": "scattermapbox"
           }
          ],
          "scatterpolar": [
           {
            "marker": {
             "colorbar": {
              "outlinewidth": 0,
              "ticks": ""
             }
            },
            "type": "scatterpolar"
           }
          ],
          "scatterpolargl": [
           {
            "marker": {
             "colorbar": {
              "outlinewidth": 0,
              "ticks": ""
             }
            },
            "type": "scatterpolargl"
           }
          ],
          "scatterternary": [
           {
            "marker": {
             "colorbar": {
              "outlinewidth": 0,
              "ticks": ""
             }
            },
            "type": "scatterternary"
           }
          ],
          "surface": [
           {
            "colorbar": {
             "outlinewidth": 0,
             "ticks": ""
            },
            "colorscale": [
             [
              0,
              "#0d0887"
             ],
             [
              0.1111111111111111,
              "#46039f"
             ],
             [
              0.2222222222222222,
              "#7201a8"
             ],
             [
              0.3333333333333333,
              "#9c179e"
             ],
             [
              0.4444444444444444,
              "#bd3786"
             ],
             [
              0.5555555555555556,
              "#d8576b"
             ],
             [
              0.6666666666666666,
              "#ed7953"
             ],
             [
              0.7777777777777778,
              "#fb9f3a"
             ],
             [
              0.8888888888888888,
              "#fdca26"
             ],
             [
              1,
              "#f0f921"
             ]
            ],
            "type": "surface"
           }
          ],
          "table": [
           {
            "cells": {
             "fill": {
              "color": "#EBF0F8"
             },
             "line": {
              "color": "white"
             }
            },
            "header": {
             "fill": {
              "color": "#C8D4E3"
             },
             "line": {
              "color": "white"
             }
            },
            "type": "table"
           }
          ]
         },
         "layout": {
          "annotationdefaults": {
           "arrowcolor": "#2a3f5f",
           "arrowhead": 0,
           "arrowwidth": 1
          },
          "autotypenumbers": "strict",
          "coloraxis": {
           "colorbar": {
            "outlinewidth": 0,
            "ticks": ""
           }
          },
          "colorscale": {
           "diverging": [
            [
             0,
             "#8e0152"
            ],
            [
             0.1,
             "#c51b7d"
            ],
            [
             0.2,
             "#de77ae"
            ],
            [
             0.3,
             "#f1b6da"
            ],
            [
             0.4,
             "#fde0ef"
            ],
            [
             0.5,
             "#f7f7f7"
            ],
            [
             0.6,
             "#e6f5d0"
            ],
            [
             0.7,
             "#b8e186"
            ],
            [
             0.8,
             "#7fbc41"
            ],
            [
             0.9,
             "#4d9221"
            ],
            [
             1,
             "#276419"
            ]
           ],
           "sequential": [
            [
             0,
             "#0d0887"
            ],
            [
             0.1111111111111111,
             "#46039f"
            ],
            [
             0.2222222222222222,
             "#7201a8"
            ],
            [
             0.3333333333333333,
             "#9c179e"
            ],
            [
             0.4444444444444444,
             "#bd3786"
            ],
            [
             0.5555555555555556,
             "#d8576b"
            ],
            [
             0.6666666666666666,
             "#ed7953"
            ],
            [
             0.7777777777777778,
             "#fb9f3a"
            ],
            [
             0.8888888888888888,
             "#fdca26"
            ],
            [
             1,
             "#f0f921"
            ]
           ],
           "sequentialminus": [
            [
             0,
             "#0d0887"
            ],
            [
             0.1111111111111111,
             "#46039f"
            ],
            [
             0.2222222222222222,
             "#7201a8"
            ],
            [
             0.3333333333333333,
             "#9c179e"
            ],
            [
             0.4444444444444444,
             "#bd3786"
            ],
            [
             0.5555555555555556,
             "#d8576b"
            ],
            [
             0.6666666666666666,
             "#ed7953"
            ],
            [
             0.7777777777777778,
             "#fb9f3a"
            ],
            [
             0.8888888888888888,
             "#fdca26"
            ],
            [
             1,
             "#f0f921"
            ]
           ]
          },
          "colorway": [
           "#636efa",
           "#EF553B",
           "#00cc96",
           "#ab63fa",
           "#FFA15A",
           "#19d3f3",
           "#FF6692",
           "#B6E880",
           "#FF97FF",
           "#FECB52"
          ],
          "font": {
           "color": "#2a3f5f"
          },
          "geo": {
           "bgcolor": "white",
           "lakecolor": "white",
           "landcolor": "#E5ECF6",
           "showlakes": true,
           "showland": true,
           "subunitcolor": "white"
          },
          "hoverlabel": {
           "align": "left"
          },
          "hovermode": "closest",
          "mapbox": {
           "style": "light"
          },
          "paper_bgcolor": "white",
          "plot_bgcolor": "#E5ECF6",
          "polar": {
           "angularaxis": {
            "gridcolor": "white",
            "linecolor": "white",
            "ticks": ""
           },
           "bgcolor": "#E5ECF6",
           "radialaxis": {
            "gridcolor": "white",
            "linecolor": "white",
            "ticks": ""
           }
          },
          "scene": {
           "xaxis": {
            "backgroundcolor": "#E5ECF6",
            "gridcolor": "white",
            "gridwidth": 2,
            "linecolor": "white",
            "showbackground": true,
            "ticks": "",
            "zerolinecolor": "white"
           },
           "yaxis": {
            "backgroundcolor": "#E5ECF6",
            "gridcolor": "white",
            "gridwidth": 2,
            "linecolor": "white",
            "showbackground": true,
            "ticks": "",
            "zerolinecolor": "white"
           },
           "zaxis": {
            "backgroundcolor": "#E5ECF6",
            "gridcolor": "white",
            "gridwidth": 2,
            "linecolor": "white",
            "showbackground": true,
            "ticks": "",
            "zerolinecolor": "white"
           }
          },
          "shapedefaults": {
           "line": {
            "color": "#2a3f5f"
           }
          },
          "ternary": {
           "aaxis": {
            "gridcolor": "white",
            "linecolor": "white",
            "ticks": ""
           },
           "baxis": {
            "gridcolor": "white",
            "linecolor": "white",
            "ticks": ""
           },
           "bgcolor": "#E5ECF6",
           "caxis": {
            "gridcolor": "white",
            "linecolor": "white",
            "ticks": ""
           }
          },
          "title": {
           "x": 0.05
          },
          "xaxis": {
           "automargin": true,
           "gridcolor": "white",
           "linecolor": "white",
           "ticks": "",
           "title": {
            "standoff": 15
           },
           "zerolinecolor": "white",
           "zerolinewidth": 2
          },
          "yaxis": {
           "automargin": true,
           "gridcolor": "white",
           "linecolor": "white",
           "ticks": "",
           "title": {
            "standoff": 15
           },
           "zerolinecolor": "white",
           "zerolinewidth": 2
          }
         }
        },
        "title": {
         "text": "Totale CO2-uitstoot van personenauto's in de EU per brandstof type (2021)"
        },
        "xaxis": {
         "anchor": "y",
         "domain": [
          0,
          1
         ],
         "title": {
          "text": "Brandstof type"
         }
        },
        "yaxis": {
         "anchor": "x",
         "domain": [
          0,
          1
         ],
         "title": {
          "text": "CO2 emissie in WLTP (g/km)"
         }
        }
       }
      }
     },
     "metadata": {},
     "output_type": "display_data"
    }
   ],
   "source": [
    "# Plot settings\n",
    "fig = px.bar(total_emission_per_ft,\n",
    "    x=\"Ft\",\n",
    "    y=\"Ewltp (g/km)\",\n",
    "    title=\"Totale CO2-uitstoot van personenauto's in de EU per brandstof type (2021)\",\n",
    "    labels={\n",
    "        \"Ewltp (g/km)\": \"CO2 emissie in WLTP (g/km)\",\n",
    "        \"Ft\": \"Brandstof type\",\n",
    "    }\n",
    ")\n",
    "fig.show()\n"
   ]
  },
  {
   "attachments": {},
   "cell_type": "markdown",
   "metadata": {},
   "source": [
    "Caption\n"
   ]
  },
  {
   "cell_type": "code",
   "execution_count": 4,
   "metadata": {},
   "outputs": [
    {
     "data": {
      "application/vnd.plotly.v1+json": {
       "config": {
        "plotlyServerURL": "https://plot.ly"
       },
       "data": [
        {
         "hovertemplate": "Mk=Aiways<br>year=%{x}<br>Enedc (g/km) mean=%{y}<extra></extra>",
         "legendgroup": "Aiways",
         "marker": {
          "color": "#636efa",
          "symbol": "circle"
         },
         "mode": "markers",
         "name": "Aiways",
         "showlegend": true,
         "type": "scattergl",
         "x": [
          2019,
          2020,
          2021
         ],
         "xaxis": "x",
         "y": [
          0,
          0,
          0
         ],
         "yaxis": "y"
        },
        {
         "hovertemplate": "Mk=Alfa Romeo<br>year=%{x}<br>Enedc (g/km) mean=%{y}<extra></extra>",
         "legendgroup": "Alfa Romeo",
         "marker": {
          "color": "#EF553B",
          "symbol": "circle"
         },
         "mode": "markers",
         "name": "Alfa Romeo",
         "showlegend": true,
         "type": "scattergl",
         "x": [
          2015,
          2015,
          2015,
          2016,
          2016,
          2016,
          2017,
          2017,
          2017,
          2018,
          2018,
          2018,
          2019,
          2019,
          2020,
          2020,
          2021,
          2021
         ],
         "xaxis": "x",
         "y": [
          106.15023923444976,
          131.91304347826087,
          132.45917740945364,
          105.90448343079922,
          131.35714285714286,
          134.27784891165172,
          111.37896084498026,
          131.3170731707317,
          136.79885181975737,
          116.68955698852692,
          132.53354090008492,
          146.641618287373,
          145.07934943321834,
          170.84838160136286,
          145.07934943321834,
          170.84838160136286,
          145.07934943321834,
          170.84838160136286
         ],
         "yaxis": "y"
        },
        {
         "hovertemplate": "Mk=Alpina<br>year=%{x}<br>Enedc (g/km) mean=%{y}<extra></extra>",
         "legendgroup": "Alpina",
         "marker": {
          "color": "#00cc96",
          "symbol": "circle"
         },
         "mode": "markers",
         "name": "Alpina",
         "showlegend": true,
         "type": "scattergl",
         "x": [
          2015,
          2015,
          2016,
          2016,
          2017,
          2017,
          2018,
          2018,
          2019,
          2019,
          2020,
          2020,
          2021,
          2021
         ],
         "xaxis": "x",
         "y": [
          156.16326530612244,
          199.26315789473685,
          153.27118644067798,
          200.7941176470588,
          152.80392156862746,
          210.52,
          164.45077720207254,
          223.16414141414143,
          null,
          null,
          null,
          null,
          null,
          null
         ],
         "yaxis": "y"
        },
        {
         "hovertemplate": "Mk=Alpine<br>year=%{x}<br>Enedc (g/km) mean=%{y}<extra></extra>",
         "legendgroup": "Alpine",
         "marker": {
          "color": "#ab63fa",
          "symbol": "circle"
         },
         "mode": "markers",
         "name": "Alpine",
         "showlegend": true,
         "type": "scattergl",
         "x": [
          2017,
          2018,
          2019,
          2020,
          2021
         ],
         "xaxis": "x",
         "y": [
          137,
          139.57766439909298,
          151.58461538461538,
          151.58461538461538,
          151.58461538461538
         ],
         "yaxis": "y"
        },
        {
         "hovertemplate": "Mk=Aston Martin<br>year=%{x}<br>Enedc (g/km) mean=%{y}<extra></extra>",
         "legendgroup": "Aston Martin",
         "marker": {
          "color": "#FFA15A",
          "symbol": "circle"
         },
         "mode": "markers",
         "name": "Aston Martin",
         "showlegend": true,
         "type": "scattergl",
         "x": [
          2015,
          2015,
          2016,
          2016,
          2017,
          2018,
          2018,
          2019,
          2019,
          2020,
          2020,
          2021,
          2021
         ],
         "xaxis": "x",
         "y": [
          306.85714285714283,
          315.7265625,
          314.8,
          311.9956331877729,
          296.3243243243243,
          302,
          262.72476612506154,
          null,
          259.41818181818184,
          null,
          259.41818181818184,
          null,
          259.41818181818184
         ],
         "yaxis": "y"
        },
        {
         "hovertemplate": "Mk=Audi<br>year=%{x}<br>Enedc (g/km) mean=%{y}<extra></extra>",
         "legendgroup": "Audi",
         "marker": {
          "color": "#19d3f3",
          "symbol": "circle"
         },
         "mode": "markers",
         "name": "Audi",
         "showlegend": true,
         "type": "scattergl",
         "x": [
          2015,
          2015,
          2015,
          2015,
          2015,
          2015,
          2016,
          2016,
          2016,
          2016,
          2016,
          2016,
          2016,
          2017,
          2017,
          2017,
          2017,
          2017,
          2017,
          2018,
          2018,
          2018,
          2018,
          2018,
          2018,
          2018,
          2019,
          2019,
          2019,
          2019,
          2019,
          2019,
          2019,
          2019,
          2020,
          2020,
          2020,
          2020,
          2020,
          2020,
          2020,
          2020,
          2021,
          2021,
          2021,
          2021,
          2021,
          2021,
          2021,
          2021
         ],
         "xaxis": "x",
         "y": [
          132.69018196360727,
          41,
          154,
          93.8627450980392,
          144.83354571519592,
          42.31578947368421,
          126.60435149978876,
          49.45985401459854,
          0,
          96.66666666666669,
          97.51127819548871,
          137.70792750585625,
          38.14110429447853,
          120.6092777451556,
          49.5659229208925,
          101.66666666666669,
          100.58418367346938,
          125.47276350437691,
          45.72928821470245,
          126.9126451112404,
          49.679950950337215,
          0,
          126,
          102.01172607879926,
          132.4815863144417,
          38.44025974025974,
          128.0714948932219,
          null,
          0,
          78,
          103.5,
          null,
          119.24170079289011,
          37.12930165909142,
          128.0714948932219,
          null,
          0,
          78,
          103.5,
          null,
          119.24170079289011,
          37.12930165909142,
          128.0714948932219,
          null,
          0,
          78,
          103.5,
          null,
          119.24170079289011,
          37.12930165909142
         ],
         "yaxis": "y"
        },
        {
         "hovertemplate": "Mk=BAIC<br>year=%{x}<br>Enedc (g/km) mean=%{y}<extra></extra>",
         "legendgroup": "BAIC",
         "marker": {
          "color": "#FF6692",
          "symbol": "circle"
         },
         "mode": "markers",
         "name": "BAIC",
         "showlegend": true,
         "type": "scattergl",
         "x": [
          2019,
          2019,
          2019,
          2019,
          2020,
          2020,
          2020,
          2020,
          2021,
          2021,
          2021,
          2021
         ],
         "xaxis": "x",
         "y": [
          null,
          null,
          null,
          null,
          null,
          null,
          null,
          null,
          null,
          null,
          null,
          null
         ],
         "yaxis": "y"
        },
        {
         "hovertemplate": "Mk=BMW<br>year=%{x}<br>Enedc (g/km) mean=%{y}<extra></extra>",
         "legendgroup": "BMW",
         "marker": {
          "color": "#B6E880",
          "symbol": "circle"
         },
         "mode": "markers",
         "name": "BMW",
         "showlegend": true,
         "type": "scattergl",
         "x": [
          2015,
          2015,
          2015,
          2015,
          2015,
          2015,
          2015,
          2016,
          2016,
          2016,
          2016,
          2017,
          2017,
          2017,
          2017,
          2018,
          2018,
          2018,
          2018,
          2018,
          2018,
          2019,
          2019,
          2019,
          2019,
          2019,
          2019,
          2020,
          2020,
          2020,
          2020,
          2020,
          2020,
          2021,
          2021,
          2021,
          2021,
          2021,
          2021
         ],
         "xaxis": "x",
         "y": [
          129.93158607112096,
          62.66666666666666,
          0,
          152.6590909090909,
          157.77827624881374,
          72.38888888888889,
          54.80952380952381,
          127.31001636523855,
          0,
          156.0266870644229,
          52.013664596273294,
          120.00817960451424,
          0,
          141.11986243918807,
          48.01755909310179,
          129.8402317216589,
          16.857142857142858,
          0,
          121,
          143.5420515191593,
          46.528779112891264,
          124.58827091082088,
          119.33333333333331,
          0,
          null,
          136.9404630650496,
          41.80568637003356,
          124.58827091082088,
          119.33333333333331,
          0,
          null,
          136.9404630650496,
          41.80568637003356,
          124.58827091082088,
          119.33333333333331,
          0,
          null,
          136.9404630650496,
          41.80568637003356
         ],
         "yaxis": "y"
        },
        {
         "hovertemplate": "Mk=BYD<br>year=%{x}<br>Enedc (g/km) mean=%{y}<extra></extra>",
         "legendgroup": "BYD",
         "marker": {
          "color": "#FF97FF",
          "symbol": "circle"
         },
         "mode": "markers",
         "name": "BYD",
         "showlegend": true,
         "type": "scattergl",
         "x": [
          2015,
          2016,
          2017,
          2018,
          2019,
          2020,
          2021
         ],
         "xaxis": "x",
         "y": [
          0,
          0,
          0,
          0,
          0,
          0,
          0
         ],
         "yaxis": "y"
        },
        {
         "hovertemplate": "Mk=Benimar<br>year=%{x}<br>Enedc (g/km) mean=%{y}<extra></extra>",
         "legendgroup": "Benimar",
         "marker": {
          "color": "#FECB52",
          "symbol": "circle"
         },
         "mode": "markers",
         "name": "Benimar",
         "showlegend": true,
         "type": "scattergl",
         "x": [
          2019,
          2020,
          2021
         ],
         "xaxis": "x",
         "y": [
          null,
          null,
          null
         ],
         "yaxis": "y"
        },
        {
         "hovertemplate": "Mk=Bentley<br>year=%{x}<br>Enedc (g/km) mean=%{y}<extra></extra>",
         "legendgroup": "Bentley",
         "marker": {
          "color": "#636efa",
          "symbol": "circle"
         },
         "mode": "markers",
         "name": "Bentley",
         "showlegend": true,
         "type": "scattergl",
         "x": [
          2015,
          2016,
          2017,
          2017,
          2017,
          2018,
          2018,
          2019,
          2019,
          2019,
          2020,
          2020,
          2020,
          2021,
          2021,
          2021
         ],
         "xaxis": "x",
         "y": [
          291.70168067226894,
          291.16708229426433,
          210.83495145631068,
          384,
          292.0536398467433,
          210.1988950276243,
          279.5708401976936,
          null,
          252.2077922077922,
          78.66666666666667,
          null,
          252.2077922077922,
          78.66666666666667,
          null,
          252.2077922077922,
          78.66666666666667
         ],
         "yaxis": "y"
        },
        {
         "hovertemplate": "Mk=Brabus<br>year=%{x}<br>Enedc (g/km) mean=%{y}<extra></extra>",
         "legendgroup": "Brabus",
         "marker": {
          "color": "#EF553B",
          "symbol": "circle"
         },
         "mode": "markers",
         "name": "Brabus",
         "showlegend": true,
         "type": "scattergl",
         "x": [
          2017,
          2018,
          2019,
          2020,
          2021
         ],
         "xaxis": "x",
         "y": [
          314,
          274,
          null,
          null,
          null
         ],
         "yaxis": "y"
        },
        {
         "hovertemplate": "Mk=Bugatti<br>year=%{x}<br>Enedc (g/km) mean=%{y}<extra></extra>",
         "legendgroup": "Bugatti",
         "marker": {
          "color": "#00cc96",
          "symbol": "circle"
         },
         "mode": "markers",
         "name": "Bugatti",
         "showlegend": true,
         "type": "scattergl",
         "x": [
          2015,
          2016,
          2017,
          2018,
          2019,
          2020,
          2021
         ],
         "xaxis": "x",
         "y": [
          543,
          556,
          518.875,
          516,
          null,
          null,
          null
         ],
         "yaxis": "y"
        },
        {
         "hovertemplate": "Mk=Buick<br>year=%{x}<br>Enedc (g/km) mean=%{y}<extra></extra>",
         "legendgroup": "Buick",
         "marker": {
          "color": "#ab63fa",
          "symbol": "circle"
         },
         "mode": "markers",
         "name": "Buick",
         "showlegend": true,
         "type": "scattergl",
         "x": [
          2015,
          2015,
          2018
         ],
         "xaxis": "x",
         "y": [
          108.5,
          144.92,
          115
         ],
         "yaxis": "y"
        },
        {
         "hovertemplate": "Mk=CUPRA<br>year=%{x}<br>Enedc (g/km) mean=%{y}<extra></extra>",
         "legendgroup": "CUPRA",
         "marker": {
          "color": "#FFA15A",
          "symbol": "circle"
         },
         "mode": "markers",
         "name": "CUPRA",
         "showlegend": true,
         "type": "scattergl",
         "x": [
          2019,
          2019,
          2019,
          2019,
          2020,
          2020,
          2020,
          2020,
          2021,
          2021,
          2021,
          2021
         ],
         "xaxis": "x",
         "y": [
          118.501312335958,
          0,
          137.3877411254423,
          37.95716087982009,
          118.501312335958,
          0,
          137.3877411254423,
          37.95716087982009,
          118.501312335958,
          0,
          137.3877411254423,
          37.95716087982009
         ],
         "yaxis": "y"
        },
        {
         "hovertemplate": "Mk=Cadillac<br>year=%{x}<br>Enedc (g/km) mean=%{y}<extra></extra>",
         "legendgroup": "Cadillac",
         "marker": {
          "color": "#19d3f3",
          "symbol": "circle"
         },
         "mode": "markers",
         "name": "Cadillac",
         "showlegend": true,
         "type": "scattergl",
         "x": [
          2015,
          2016,
          2017,
          2018,
          2019,
          2019,
          2020,
          2020,
          2021,
          2021
         ],
         "xaxis": "x",
         "y": [
          228.29508196721312,
          240.68085106382975,
          251.72,
          254.2341857335128,
          161,
          202,
          161,
          202,
          161,
          202
         ],
         "yaxis": "y"
        },
        {
         "hovertemplate": "Mk=Caterham<br>year=%{x}<br>Enedc (g/km) mean=%{y}<extra></extra>",
         "legendgroup": "Caterham",
         "marker": {
          "color": "#FF6692",
          "symbol": "circle"
         },
         "mode": "markers",
         "name": "Caterham",
         "showlegend": true,
         "type": "scattergl",
         "x": [
          2015,
          2016,
          2017,
          2018,
          2019,
          2020,
          2021
         ],
         "xaxis": "x",
         "y": [
          157.45945945945945,
          154.79166666666666,
          144.93684210526317,
          142.26470588235293,
          null,
          null,
          null
         ],
         "yaxis": "y"
        },
        {
         "hovertemplate": "Mk=Chevrolet<br>year=%{x}<br>Enedc (g/km) mean=%{y}<extra></extra>",
         "legendgroup": "Chevrolet",
         "marker": {
          "color": "#B6E880",
          "symbol": "circle"
         },
         "mode": "markers",
         "name": "Chevrolet",
         "showlegend": true,
         "type": "scattergl",
         "x": [
          2015,
          2015,
          2015,
          2015,
          2016,
          2016,
          2016,
          2017,
          2017,
          2017,
          2018,
          2018,
          2019,
          2019,
          2020,
          2020,
          2021,
          2021
         ],
         "xaxis": "x",
         "y": [
          140.57432432432432,
          114.33333333333331,
          181.3571428571429,
          27,
          126.82352941176472,
          110,
          229.4460431654676,
          150,
          360,
          261.6544502617801,
          149,
          259.05745967741933,
          null,
          313,
          null,
          313,
          null,
          313
         ],
         "yaxis": "y"
        },
        {
         "hovertemplate": "Mk=Chrysler<br>year=%{x}<br>Enedc (g/km) mean=%{y}<extra></extra>",
         "legendgroup": "Chrysler",
         "marker": {
          "color": "#FF97FF",
          "symbol": "circle"
         },
         "mode": "markers",
         "name": "Chrysler",
         "showlegend": true,
         "type": "scattergl",
         "x": [
          2015,
          2015,
          2015,
          2016,
          2016,
          2017,
          2017,
          2018,
          2018,
          2018,
          2019,
          2019,
          2019,
          2020,
          2020,
          2020,
          2021,
          2021,
          2021
         ],
         "xaxis": "x",
         "y": [
          204.42424242424244,
          115,
          138.06666666666666,
          153.2871287128713,
          210.9811320754717,
          139.2077922077922,
          211.1875,
          132.73585093379572,
          148,
          146.05608927704998,
          null,
          null,
          null,
          null,
          null,
          null,
          null,
          null,
          null
         ],
         "yaxis": "y"
        },
        {
         "hovertemplate": "Mk=Citroën<br>year=%{x}<br>Enedc (g/km) mean=%{y}<extra></extra>",
         "legendgroup": "Citroën",
         "marker": {
          "color": "#FECB52",
          "symbol": "circle"
         },
         "mode": "markers",
         "name": "Citroën",
         "showlegend": true,
         "type": "scattergl",
         "x": [
          2015,
          2015,
          2015,
          2015,
          2015,
          2015,
          2015,
          2016,
          2016,
          2016,
          2016,
          2016,
          2017,
          2017,
          2017,
          2017,
          2017,
          2018,
          2018,
          2018,
          2018,
          2019,
          2019,
          2019,
          2019,
          2019,
          2019,
          2019,
          2020,
          2020,
          2020,
          2020,
          2020,
          2020,
          2020,
          2021,
          2021,
          2021,
          2021,
          2021,
          2021,
          2021
         ],
         "xaxis": "x",
         "y": [
          114.41826515022916,
          111.51674641148324,
          0,
          132.5,
          140,
          118.7059880239521,
          114.6095238095238,
          107.54329004329004,
          null,
          0,
          143.77586206896552,
          111.51593011305242,
          101.59429892861591,
          96.5,
          0,
          110.08333333333331,
          108.39381910171998,
          104.6876640050982,
          0,
          112.59806691449816,
          110.54905580770952,
          106.65867264231906,
          null,
          0,
          109,
          null,
          105.208410206426,
          36.47338403041825,
          106.65867264231906,
          null,
          0,
          109,
          null,
          105.208410206426,
          36.47338403041825,
          106.65867264231906,
          null,
          0,
          109,
          null,
          105.208410206426,
          36.47338403041825
         ],
         "yaxis": "y"
        },
        {
         "hovertemplate": "Mk=DFSK<br>year=%{x}<br>Enedc (g/km) mean=%{y}<extra></extra>",
         "legendgroup": "DFSK",
         "marker": {
          "color": "#636efa",
          "symbol": "circle"
         },
         "mode": "markers",
         "name": "DFSK",
         "showlegend": true,
         "type": "scattergl",
         "x": [
          2018,
          2018,
          2019,
          2019,
          2019,
          2019,
          2019,
          2020,
          2020,
          2020,
          2020,
          2020,
          2021,
          2021,
          2021,
          2021,
          2021
         ],
         "xaxis": "x",
         "y": [
          200,
          210.9333333333333,
          null,
          0,
          240.55263157894737,
          null,
          235.69590643274853,
          null,
          0,
          240.55263157894737,
          null,
          235.69590643274853,
          null,
          0,
          240.55263157894737,
          null,
          235.69590643274853
         ],
         "yaxis": "y"
        },
        {
         "hovertemplate": "Mk=DR<br>year=%{x}<br>Enedc (g/km) mean=%{y}<extra></extra>",
         "legendgroup": "DR",
         "marker": {
          "color": "#EF553B",
          "symbol": "circle"
         },
         "mode": "markers",
         "name": "DR",
         "showlegend": true,
         "type": "scattergl",
         "x": [
          2015,
          2015,
          2015,
          2015,
          2016,
          2016,
          2016,
          2017,
          2017,
          2017,
          2017,
          2017,
          2018,
          2018,
          2018,
          2018,
          2018,
          2019,
          2019,
          2019,
          2019,
          2019,
          2019,
          2019,
          2019,
          2020,
          2020,
          2020,
          2020,
          2020,
          2020,
          2020,
          2020,
          2021,
          2021,
          2021,
          2021,
          2021,
          2021,
          2021,
          2021
         ],
         "xaxis": "x",
         "y": [
          171.41023875114783,
          167.0681818181818,
          149,
          250.82783882783883,
          156.985691987513,
          149,
          240.66720516962843,
          146.6653596479763,
          159.1,
          0,
          149,
          224.16936836221356,
          160.6392932617901,
          0,
          153.0857142857143,
          212.96502147258357,
          68.2851476421331,
          160.8459357277883,
          194.289156626506,
          null,
          0,
          153.7826086956522,
          163,
          188.29928741092635,
          46.10051259193225,
          160.8459357277883,
          194.289156626506,
          null,
          0,
          153.7826086956522,
          163,
          188.29928741092635,
          46.10051259193225,
          160.8459357277883,
          194.289156626506,
          null,
          0,
          153.7826086956522,
          163,
          188.29928741092635,
          46.10051259193225
         ],
         "yaxis": "y"
        },
        {
         "hovertemplate": "Mk=DS<br>year=%{x}<br>Enedc (g/km) mean=%{y}<extra></extra>",
         "legendgroup": "DS",
         "marker": {
          "color": "#00cc96",
          "symbol": "circle"
         },
         "mode": "markers",
         "name": "DS",
         "showlegend": true,
         "type": "scattergl",
         "x": [
          2015,
          2015,
          2015,
          2015,
          2016,
          2016,
          2017,
          2017,
          2018,
          2018,
          2018,
          2019,
          2019,
          2019,
          2019,
          2019,
          2020,
          2020,
          2020,
          2020,
          2020,
          2021,
          2021,
          2021,
          2021,
          2021
         ],
         "xaxis": "x",
         "y": [
          103.099173553719,
          100.6875,
          120.11666666666666,
          123.875,
          101.86743886743886,
          114.59401709401708,
          100.73255060728744,
          109.68247136410967,
          112.5418046140102,
          103,
          115.50149829854232,
          107.04739010989012,
          0,
          null,
          121.21425061425062,
          35.39413919413919,
          107.04739010989012,
          0,
          null,
          121.21425061425062,
          35.39413919413919,
          107.04739010989012,
          0,
          null,
          121.21425061425062,
          35.39413919413919
         ],
         "yaxis": "y"
        },
        {
         "hovertemplate": "Mk=Dacia<br>year=%{x}<br>Enedc (g/km) mean=%{y}<extra></extra>",
         "legendgroup": "Dacia",
         "marker": {
          "color": "#ab63fa",
          "symbol": "circle"
         },
         "mode": "markers",
         "name": "Dacia",
         "showlegend": true,
         "type": "scattergl",
         "x": [
          2015,
          2015,
          2015,
          2015,
          2016,
          2016,
          2016,
          2017,
          2017,
          2017,
          2017,
          2017,
          2018,
          2018,
          2018,
          2018,
          2019,
          2019,
          2019,
          2019,
          2019,
          2020,
          2020,
          2020,
          2020,
          2020,
          2021,
          2021,
          2021,
          2021,
          2021
         ],
         "xaxis": "x",
         "y": [
          111.89079851930197,
          165,
          131.06679035250465,
          135.98587896253602,
          106.43123849592428,
          106.2691823899371,
          129.6556311881188,
          110.1768330375481,
          159,
          126.10680920735818,
          144.33333333333334,
          122.3526481860834,
          110.6579157700584,
          129.30683556217892,
          103,
          126.61980829596035,
          115.20444040937603,
          0,
          111.998134618374,
          130.75,
          117.60235131396958,
          115.20444040937603,
          0,
          111.998134618374,
          130.75,
          117.60235131396958,
          115.20444040937603,
          0,
          111.998134618374,
          130.75,
          117.60235131396958
         ],
         "yaxis": "y"
        },
        {
         "hovertemplate": "Mk=Daihatsu<br>year=%{x}<br>Enedc (g/km) mean=%{y}<extra></extra>",
         "legendgroup": "Daihatsu",
         "marker": {
          "color": "#FFA15A",
          "symbol": "circle"
         },
         "mode": "markers",
         "name": "Daihatsu",
         "showlegend": true,
         "type": "scattergl",
         "x": [
          2015,
          2016,
          2017,
          2018
         ],
         "xaxis": "x",
         "y": [
          159,
          181,
          161.5,
          176
         ],
         "yaxis": "y"
        },
        {
         "hovertemplate": "Mk=Dallara<br>year=%{x}<br>Enedc (g/km) mean=%{y}<extra></extra>",
         "legendgroup": "Dallara",
         "marker": {
          "color": "#19d3f3",
          "symbol": "circle"
         },
         "mode": "markers",
         "name": "Dallara",
         "showlegend": true,
         "type": "scattergl",
         "x": [
          2018,
          2019,
          2020,
          2021
         ],
         "xaxis": "x",
         "y": [
          220.66666666666663,
          null,
          null,
          null
         ],
         "yaxis": "y"
        },
        {
         "hovertemplate": "Mk=Dodge<br>year=%{x}<br>Enedc (g/km) mean=%{y}<extra></extra>",
         "legendgroup": "Dodge",
         "marker": {
          "color": "#FF6692",
          "symbol": "circle"
         },
         "mode": "markers",
         "name": "Dodge",
         "showlegend": true,
         "type": "scattergl",
         "x": [
          2015,
          2015,
          2016,
          2017,
          2018,
          2019,
          2019,
          2019,
          2020,
          2020,
          2020,
          2021,
          2021,
          2021
         ],
         "xaxis": "x",
         "y": [
          193.3,
          325.1428571428572,
          357.46153846153845,
          355,
          334.5882352941176,
          null,
          null,
          null,
          null,
          null,
          null,
          null,
          null,
          null
         ],
         "yaxis": "y"
        },
        {
         "hovertemplate": "Mk=Donkervoort<br>year=%{x}<br>Enedc (g/km) mean=%{y}<extra></extra>",
         "legendgroup": "Donkervoort",
         "marker": {
          "color": "#B6E880",
          "symbol": "circle"
         },
         "mode": "markers",
         "name": "Donkervoort",
         "showlegend": true,
         "type": "scattergl",
         "x": [
          2015,
          2016,
          2017,
          2018,
          2019,
          2020,
          2021
         ],
         "xaxis": "x",
         "y": [
          178,
          178,
          178,
          178,
          null,
          null,
          null
         ],
         "yaxis": "y"
        },
        {
         "hovertemplate": "Mk=Dreamer<br>year=%{x}<br>Enedc (g/km) mean=%{y}<extra></extra>",
         "legendgroup": "Dreamer",
         "marker": {
          "color": "#FF97FF",
          "symbol": "circle"
         },
         "mode": "markers",
         "name": "Dreamer",
         "showlegend": true,
         "type": "scattergl",
         "x": [
          2019,
          2020,
          2021
         ],
         "xaxis": "x",
         "y": [
          null,
          null,
          null
         ],
         "yaxis": "y"
        },
        {
         "hovertemplate": "Mk=Ferrari<br>year=%{x}<br>Enedc (g/km) mean=%{y}<extra></extra>",
         "legendgroup": "Ferrari",
         "marker": {
          "color": "#FECB52",
          "symbol": "circle"
         },
         "mode": "markers",
         "name": "Ferrari",
         "showlegend": true,
         "type": "scattergl",
         "x": [
          2015,
          2015,
          2016,
          2017,
          2018,
          2019,
          2019,
          2020,
          2020,
          2021,
          2021
         ],
         "xaxis": "x",
         "y": [
          311.31004366812226,
          330,
          298.75206611570246,
          288.60483870967744,
          282.2167832167832,
          263.325,
          190.6,
          263.325,
          190.6,
          263.325,
          190.6
         ],
         "yaxis": "y"
        },
        {
         "hovertemplate": "Mk=Fiat<br>year=%{x}<br>Enedc (g/km) mean=%{y}<extra></extra>",
         "legendgroup": "Fiat",
         "marker": {
          "color": "#636efa",
          "symbol": "circle"
         },
         "mode": "markers",
         "name": "Fiat",
         "showlegend": true,
         "type": "scattergl",
         "x": [
          2015,
          2015,
          2015,
          2015,
          2015,
          2015,
          2016,
          2016,
          2016,
          2016,
          2017,
          2017,
          2017,
          2017,
          2017,
          2018,
          2018,
          2018,
          2018,
          2019,
          2019,
          2019,
          2019,
          2019,
          2019,
          2019,
          2019,
          2020,
          2020,
          2020,
          2020,
          2020,
          2020,
          2020,
          2020,
          2021,
          2021,
          2021,
          2021,
          2021,
          2021,
          2021,
          2021
         ],
         "xaxis": "x",
         "y": [
          144,
          132.9445540214771,
          0,
          123.15384615384616,
          116.7431693989071,
          122.46497636441772,
          120.66192630898512,
          133.4811320754717,
          116.94422310756973,
          124.49016620498617,
          110.49485186983974,
          0,
          132.492816091954,
          123.96764252696455,
          120.79225258689308,
          109.41013058451556,
          126.31413462457392,
          107.33898837574615,
          123.938189926753,
          120.03819875776398,
          0,
          125.55,
          244,
          95,
          null,
          114.67349566846173,
          null,
          120.03819875776398,
          0,
          125.55,
          244,
          95,
          null,
          114.67349566846173,
          null,
          120.03819875776398,
          0,
          125.55,
          244,
          95,
          null,
          114.67349566846173,
          null
         ],
         "yaxis": "y"
        },
        {
         "hovertemplate": "Mk=Fisker<br>year=%{x}<br>Enedc (g/km) mean=%{y}<extra></extra>",
         "legendgroup": "Fisker",
         "marker": {
          "color": "#EF553B",
          "symbol": "circle"
         },
         "mode": "markers",
         "name": "Fisker",
         "showlegend": true,
         "type": "scattergl",
         "x": [
          2015,
          2016
         ],
         "xaxis": "x",
         "y": [
          53,
          53
         ],
         "yaxis": "y"
        },
        {
         "hovertemplate": "Mk=Ford<br>year=%{x}<br>Enedc (g/km) mean=%{y}<extra></extra>",
         "legendgroup": "Ford",
         "marker": {
          "color": "#00cc96",
          "symbol": "circle"
         },
         "mode": "markers",
         "name": "Ford",
         "showlegend": true,
         "type": "scattergl",
         "x": [
          2015,
          2015,
          2015,
          2015,
          2015,
          2015,
          2015,
          2016,
          2016,
          2016,
          2016,
          2016,
          2016,
          2016,
          2017,
          2017,
          2017,
          2017,
          2017,
          2017,
          2018,
          2018,
          2018,
          2018,
          2018,
          2018,
          2019,
          2019,
          2019,
          2019,
          2019,
          2019,
          2019,
          2019,
          2020,
          2020,
          2020,
          2020,
          2020,
          2020,
          2020,
          2020,
          2021,
          2021,
          2021,
          2021,
          2021,
          2021,
          2021,
          2021
         ],
         "xaxis": "x",
         "y": [
          126.91777986829727,
          144,
          0,
          122.23287671232876,
          110,
          131.59098718118145,
          92.78125,
          162.5,
          121.7923779574723,
          0,
          133.66187050359713,
          117.66666666666669,
          130.77768770898774,
          46,
          117.8452910614141,
          0,
          122.66,
          120.5,
          120.7773707559846,
          84,
          123.73494750873884,
          0,
          124.9403147042865,
          130.88,
          123.03211504539682,
          91,
          135.5921267559621,
          null,
          null,
          0,
          107.16666666666669,
          108,
          106.91699136868064,
          27.139150870466,
          135.5921267559621,
          null,
          null,
          0,
          107.16666666666669,
          108,
          106.91699136868064,
          27.139150870466,
          135.5921267559621,
          null,
          null,
          0,
          107.16666666666669,
          108,
          106.91699136868064,
          27.139150870466
         ],
         "yaxis": "y"
        },
        {
         "hovertemplate": "Mk=GMC<br>year=%{x}<br>Enedc (g/km) mean=%{y}<extra></extra>",
         "legendgroup": "GMC",
         "marker": {
          "color": "#ab63fa",
          "symbol": "circle"
         },
         "mode": "markers",
         "name": "GMC",
         "showlegend": true,
         "type": "scattergl",
         "x": [
          2019,
          2020,
          2021
         ],
         "xaxis": "x",
         "y": [
          null,
          null,
          null
         ],
         "yaxis": "y"
        },
        {
         "hovertemplate": "Mk=Honda<br>year=%{x}<br>Enedc (g/km) mean=%{y}<extra></extra>",
         "legendgroup": "Honda",
         "marker": {
          "color": "#FFA15A",
          "symbol": "circle"
         },
         "mode": "markers",
         "name": "Honda",
         "showlegend": true,
         "type": "scattergl",
         "x": [
          2015,
          2015,
          2015,
          2015,
          2016,
          2016,
          2016,
          2016,
          2017,
          2017,
          2017,
          2017,
          2018,
          2018,
          2018,
          2019,
          2019,
          2019,
          2019,
          2019,
          2020,
          2020,
          2020,
          2020,
          2020,
          2021,
          2021,
          2021,
          2021,
          2021
         ],
         "xaxis": "x",
         "y": [
          123.356463878327,
          153.5,
          146.32398568019093,
          102.55555555555556,
          117.73387096774194,
          158.70731707317074,
          144.01968134957826,
          104,
          116.06693319576992,
          114,
          132.92129607439006,
          109,
          112.55902238273212,
          129.8101666511498,
          194,
          90,
          0,
          126,
          123.49653485527924,
          86.6896551724138,
          90,
          0,
          126,
          123.49653485527924,
          86.6896551724138,
          90,
          0,
          126,
          123.49653485527924,
          86.6896551724138
         ],
         "yaxis": "y"
        },
        {
         "hovertemplate": "Mk=Hummer<br>year=%{x}<br>Enedc (g/km) mean=%{y}<extra></extra>",
         "legendgroup": "Hummer",
         "marker": {
          "color": "#19d3f3",
          "symbol": "circle"
         },
         "mode": "markers",
         "name": "Hummer",
         "showlegend": true,
         "type": "scattergl",
         "x": [
          2018
         ],
         "xaxis": "x",
         "y": [
          346
         ],
         "yaxis": "y"
        },
        {
         "hovertemplate": "Mk=Hyundai<br>year=%{x}<br>Enedc (g/km) mean=%{y}<extra></extra>",
         "legendgroup": "Hyundai",
         "marker": {
          "color": "#FF6692",
          "symbol": "circle"
         },
         "mode": "markers",
         "name": "Hyundai",
         "showlegend": true,
         "type": "scattergl",
         "x": [
          2015,
          2015,
          2015,
          2015,
          2015,
          2015,
          2015,
          2016,
          2016,
          2016,
          2016,
          2016,
          2017,
          2017,
          2017,
          2017,
          2017,
          2017,
          2018,
          2018,
          2018,
          2018,
          2018,
          2019,
          2019,
          2019,
          2019,
          2019,
          2019,
          2020,
          2020,
          2020,
          2020,
          2020,
          2020,
          2021,
          2021,
          2021,
          2021,
          2021,
          2021
         ],
         "xaxis": "x",
         "y": [
          132.29623329283112,
          130.30769230769232,
          0,
          128.55,
          null,
          138.8081395348837,
          124.42857142857144,
          124.4724619810933,
          0,
          122.39506172839506,
          128.1462293712137,
          79,
          125.13210504842276,
          0,
          105.17953321364452,
          null,
          121.32689038362037,
          28.25895316804408,
          125.09943010059963,
          0,
          122.31419569403116,
          127.8605411374931,
          26.07979840403192,
          128.94182509505703,
          127,
          0,
          132,
          118.91750152862048,
          32.90696686491079,
          128.94182509505703,
          127,
          0,
          132,
          118.91750152862048,
          32.90696686491079,
          128.94182509505703,
          127,
          0,
          132,
          118.91750152862048,
          32.90696686491079
         ],
         "yaxis": "y"
        },
        {
         "hovertemplate": "Mk=IVECO<br>year=%{x}<br>Enedc (g/km) mean=%{y}<extra></extra>",
         "legendgroup": "IVECO",
         "marker": {
          "color": "#B6E880",
          "symbol": "circle"
         },
         "mode": "markers",
         "name": "IVECO",
         "showlegend": true,
         "type": "scattergl",
         "x": [
          2015,
          2015,
          2016,
          2017,
          2017,
          2018
         ],
         "xaxis": "x",
         "y": [
          222.75,
          370,
          219.3684210526316,
          214.33333333333331,
          null,
          209
         ],
         "yaxis": "y"
        },
        {
         "hovertemplate": "Mk=Infiniti<br>year=%{x}<br>Enedc (g/km) mean=%{y}<extra></extra>",
         "legendgroup": "Infiniti",
         "marker": {
          "color": "#FF97FF",
          "symbol": "circle"
         },
         "mode": "markers",
         "name": "Infiniti",
         "showlegend": true,
         "type": "scattergl",
         "x": [
          2015,
          2015,
          2015,
          2016,
          2016,
          2017,
          2017,
          2017,
          2018,
          2018,
          2019,
          2020,
          2021
         ],
         "xaxis": "x",
         "y": [
          147.86522911051213,
          190.33877551020407,
          151.75,
          129.7920634920635,
          174.32686084142395,
          124.76846011131724,
          163.11330049261085,
          154.33333333333334,
          120.50932568149211,
          186.22079824240203,
          null,
          null,
          null
         ],
         "yaxis": "y"
        },
        {
         "hovertemplate": "Mk=JAC<br>year=%{x}<br>Enedc (g/km) mean=%{y}<extra></extra>",
         "legendgroup": "JAC",
         "marker": {
          "color": "#FECB52",
          "symbol": "circle"
         },
         "mode": "markers",
         "name": "JAC",
         "showlegend": true,
         "type": "scattergl",
         "x": [
          2019,
          2020,
          2021
         ],
         "xaxis": "x",
         "y": [
          0,
          0,
          0
         ],
         "yaxis": "y"
        },
        {
         "hovertemplate": "Mk=Jaguar<br>year=%{x}<br>Enedc (g/km) mean=%{y}<extra></extra>",
         "legendgroup": "Jaguar",
         "marker": {
          "color": "#636efa",
          "symbol": "circle"
         },
         "mode": "markers",
         "name": "Jaguar",
         "showlegend": true,
         "type": "scattergl",
         "x": [
          2015,
          2015,
          2015,
          2015,
          2016,
          2016,
          2017,
          2017,
          2018,
          2018,
          2018,
          2019,
          2019,
          2019,
          2019,
          2019,
          2019,
          2020,
          2020,
          2020,
          2020,
          2020,
          2020,
          2021,
          2021,
          2021,
          2021,
          2021,
          2021
         ],
         "xaxis": "x",
         "y": [
          135.9628514056225,
          129,
          217.15027322404373,
          189,
          131.56917599186164,
          208.8603896103896,
          130.71932974266906,
          184.1758354755784,
          141.2449863629071,
          0,
          176.26722219346826,
          140.18062088428974,
          137.5,
          null,
          0,
          173.59162303664922,
          43.71774193548387,
          140.18062088428974,
          137.5,
          null,
          0,
          173.59162303664922,
          43.71774193548387,
          140.18062088428974,
          137.5,
          null,
          0,
          173.59162303664922,
          43.71774193548387
         ],
         "yaxis": "y"
        },
        {
         "hovertemplate": "Mk=Jeep<br>year=%{x}<br>Enedc (g/km) mean=%{y}<extra></extra>",
         "legendgroup": "Jeep",
         "marker": {
          "color": "#EF553B",
          "symbol": "circle"
         },
         "mode": "markers",
         "name": "Jeep",
         "showlegend": true,
         "type": "scattergl",
         "x": [
          2015,
          2015,
          2015,
          2016,
          2016,
          2016,
          2017,
          2017,
          2017,
          2017,
          2018,
          2018,
          2018,
          2019,
          2019,
          2019,
          2019,
          2019,
          2019,
          2019,
          2020,
          2020,
          2020,
          2020,
          2020,
          2020,
          2020,
          2021,
          2021,
          2021,
          2021,
          2021,
          2021,
          2021
         ],
         "xaxis": "x",
         "y": [
          157.27480916030535,
          244,
          188.9496124031008,
          151.01312335958005,
          244,
          186.4575569358178,
          137.77047212590023,
          217.45714285714288,
          148,
          159.65928598084338,
          143.03249976138207,
          148.43636363636364,
          159.84660593593887,
          130.0601785200115,
          135.4,
          null,
          0,
          128.75,
          122.42840811660474,
          44.85821252190537,
          130.0601785200115,
          135.4,
          null,
          0,
          128.75,
          122.42840811660474,
          44.85821252190537,
          130.0601785200115,
          135.4,
          null,
          0,
          128.75,
          122.42840811660474,
          44.85821252190537
         ],
         "yaxis": "y"
        },
        {
         "hovertemplate": "Mk=KEAT<br>year=%{x}<br>Enedc (g/km) mean=%{y}<extra></extra>",
         "legendgroup": "KEAT",
         "marker": {
          "color": "#00cc96",
          "symbol": "circle"
         },
         "mode": "markers",
         "name": "KEAT",
         "showlegend": true,
         "type": "scattergl",
         "x": [
          2019,
          2020,
          2021
         ],
         "xaxis": "x",
         "y": [
          null,
          null,
          null
         ],
         "yaxis": "y"
        },
        {
         "hovertemplate": "Mk=KTM<br>year=%{x}<br>Enedc (g/km) mean=%{y}<extra></extra>",
         "legendgroup": "KTM",
         "marker": {
          "color": "#ab63fa",
          "symbol": "circle"
         },
         "mode": "markers",
         "name": "KTM",
         "showlegend": true,
         "type": "scattergl",
         "x": [
          2015,
          2016,
          2017,
          2018,
          2019,
          2020,
          2021
         ],
         "xaxis": "x",
         "y": [
          189.63636363636363,
          191.72727272727272,
          192.7,
          197.2542372881356,
          null,
          null,
          null
         ],
         "yaxis": "y"
        },
        {
         "hovertemplate": "Mk=Karma<br>year=%{x}<br>Enedc (g/km) mean=%{y}<extra></extra>",
         "legendgroup": "Karma",
         "marker": {
          "color": "#FFA15A",
          "symbol": "circle"
         },
         "mode": "markers",
         "name": "Karma",
         "showlegend": true,
         "type": "scattergl",
         "x": [
          2019,
          2020,
          2021
         ],
         "xaxis": "x",
         "y": [
          null,
          null,
          null
         ],
         "yaxis": "y"
        },
        {
         "hovertemplate": "Mk=Kia<br>year=%{x}<br>Enedc (g/km) mean=%{y}<extra></extra>",
         "legendgroup": "Kia",
         "marker": {
          "color": "#19d3f3",
          "symbol": "circle"
         },
         "mode": "markers",
         "name": "Kia",
         "showlegend": true,
         "type": "scattergl",
         "x": [
          2015,
          2015,
          2015,
          2015,
          2015,
          2016,
          2016,
          2016,
          2016,
          2016,
          2016,
          2016,
          2017,
          2017,
          2017,
          2017,
          2017,
          2018,
          2018,
          2018,
          2018,
          2018,
          2019,
          2019,
          2019,
          2019,
          2019,
          2019,
          2019,
          2020,
          2020,
          2020,
          2020,
          2020,
          2020,
          2020,
          2021,
          2021,
          2021,
          2021,
          2021,
          2021,
          2021
         ],
         "xaxis": "x",
         "y": [
          130.7162440027416,
          0,
          107.95652173913044,
          135.8678629690049,
          117.66666666666669,
          124.4236191356598,
          43,
          0,
          121.03478260869564,
          115,
          132.10617551462622,
          39.27272727272727,
          123.10114700528544,
          0,
          108.84854276158624,
          115.77076476951048,
          34.20884146341464,
          123.68913071099186,
          0,
          115.09494007989348,
          126.0513608537908,
          30.56298808866451,
          120.48157839648314,
          125.66331658291458,
          0,
          165,
          null,
          113.6076588798447,
          31.33896627306795,
          120.48157839648314,
          125.66331658291458,
          0,
          165,
          null,
          113.6076588798447,
          31.33896627306795,
          120.48157839648314,
          125.66331658291458,
          0,
          165,
          null,
          113.6076588798447,
          31.33896627306795
         ],
         "yaxis": "y"
        },
        {
         "hovertemplate": "Mk=Koenigsegg<br>year=%{x}<br>Enedc (g/km) mean=%{y}<extra></extra>",
         "legendgroup": "Koenigsegg",
         "marker": {
          "color": "#FF6692",
          "symbol": "circle"
         },
         "mode": "markers",
         "name": "Koenigsegg",
         "showlegend": true,
         "type": "scattergl",
         "x": [
          2016,
          2017,
          2019,
          2020,
          2021
         ],
         "xaxis": "x",
         "y": [
          376.6666666666667,
          381,
          null,
          null,
          null
         ],
         "yaxis": "y"
        },
        {
         "hovertemplate": "Mk=Lada<br>year=%{x}<br>Enedc (g/km) mean=%{y}<extra></extra>",
         "legendgroup": "Lada",
         "marker": {
          "color": "#B6E880",
          "symbol": "circle"
         },
         "mode": "markers",
         "name": "Lada",
         "showlegend": true,
         "type": "scattergl",
         "x": [
          2015,
          2015,
          2016,
          2016,
          2017,
          2018,
          2018,
          2019,
          2020,
          2021
         ],
         "xaxis": "x",
         "y": [
          175.85714285714286,
          199.41904761904763,
          205,
          172.04,
          190.58660844250363,
          193.84,
          189.0735234215886,
          null,
          null,
          null
         ],
         "yaxis": "y"
        },
        {
         "hovertemplate": "Mk=Lamborghini<br>year=%{x}<br>Enedc (g/km) mean=%{y}<extra></extra>",
         "legendgroup": "Lamborghini",
         "marker": {
          "color": "#FF97FF",
          "symbol": "circle"
         },
         "mode": "markers",
         "name": "Lamborghini",
         "showlegend": true,
         "type": "scattergl",
         "x": [
          2015,
          2016,
          2017,
          2018,
          2019,
          2019,
          2020,
          2020,
          2021,
          2021
         ],
         "xaxis": "x",
         "y": [
          328.67251461988303,
          316.0699300699301,
          317.6737160120846,
          340.6669435215947,
          298.0144927536232,
          null,
          298.0144927536232,
          null,
          298.0144927536232,
          null
         ],
         "yaxis": "y"
        },
        {
         "hovertemplate": "Mk=Lancia<br>year=%{x}<br>Enedc (g/km) mean=%{y}<extra></extra>",
         "legendgroup": "Lancia",
         "marker": {
          "color": "#FECB52",
          "symbol": "circle"
         },
         "mode": "markers",
         "name": "Lancia",
         "showlegend": true,
         "type": "scattergl",
         "x": [
          2015,
          2015,
          2015,
          2015,
          2016,
          2016,
          2016,
          2016,
          2017,
          2017,
          2017,
          2017,
          2018,
          2018,
          2018,
          2018,
          2019,
          2019,
          2019,
          2019,
          2020,
          2020,
          2020,
          2020,
          2021,
          2021,
          2021,
          2021
         ],
         "xaxis": "x",
         "y": [
          157.8391959798995,
          114.45454545454544,
          86,
          120.81884057971014,
          127.3225806451613,
          113.64285714285714,
          86,
          117.14516129032258,
          107.3,
          112.8,
          86,
          119.52767527675276,
          95.10527940722446,
          124.8180768120127,
          98.46227810650888,
          120.24615198524296,
          null,
          null,
          null,
          null,
          null,
          null,
          null,
          null,
          null,
          null,
          null,
          null
         ],
         "yaxis": "y"
        },
        {
         "hovertemplate": "Mk=Lexus<br>year=%{x}<br>Enedc (g/km) mean=%{y}<extra></extra>",
         "legendgroup": "Lexus",
         "marker": {
          "color": "#636efa",
          "symbol": "circle"
         },
         "mode": "markers",
         "name": "Lexus",
         "showlegend": true,
         "type": "scattergl",
         "x": [
          2015,
          2015,
          2015,
          2016,
          2016,
          2017,
          2017,
          2018,
          2019,
          2019,
          2019,
          2019,
          2020,
          2020,
          2020,
          2020,
          2021,
          2021,
          2021,
          2021
         ],
         "xaxis": "x",
         "y": [
          116.75,
          130.1832202344232,
          118.16666666666669,
          130.29885931558934,
          null,
          125.11798478541697,
          119.6,
          121.96312337884794,
          null,
          0,
          114.18757080433728,
          103,
          null,
          0,
          114.18757080433728,
          103,
          null,
          0,
          114.18757080433728,
          103
         ],
         "yaxis": "y"
        },
        {
         "hovertemplate": "Mk=Lotus<br>year=%{x}<br>Enedc (g/km) mean=%{y}<extra></extra>",
         "legendgroup": "Lotus",
         "marker": {
          "color": "#EF553B",
          "symbol": "circle"
         },
         "mode": "markers",
         "name": "Lotus",
         "showlegend": true,
         "type": "scattergl",
         "x": [
          2015,
          2016,
          2017,
          2018,
          2018,
          2019,
          2020,
          2021
         ],
         "xaxis": "x",
         "y": [
          204.9333333333333,
          206.396,
          203.6818181818182,
          240,
          207.55014749262537,
          null,
          null,
          null
         ],
         "yaxis": "y"
        },
        {
         "hovertemplate": "Mk=Lynk & Co<br>year=%{x}<br>Enedc (g/km) mean=%{y}<extra></extra>",
         "legendgroup": "Lynk & Co",
         "marker": {
          "color": "#00cc96",
          "symbol": "circle"
         },
         "mode": "markers",
         "name": "Lynk & Co",
         "showlegend": true,
         "type": "scattergl",
         "x": [
          2019,
          2019,
          2020,
          2020,
          2021,
          2021
         ],
         "xaxis": "x",
         "y": [
          null,
          38.98996655518395,
          null,
          38.98996655518395,
          null,
          38.98996655518395
         ],
         "yaxis": "y"
        },
        {
         "hovertemplate": "Mk=MAN<br>year=%{x}<br>Enedc (g/km) mean=%{y}<extra></extra>",
         "legendgroup": "MAN",
         "marker": {
          "color": "#ab63fa",
          "symbol": "circle"
         },
         "mode": "markers",
         "name": "MAN",
         "showlegend": true,
         "type": "scattergl",
         "x": [
          2015,
          2016,
          2017,
          2018,
          2019,
          2019,
          2020,
          2020,
          2021,
          2021
         ],
         "xaxis": "x",
         "y": [
          283.5,
          0,
          195.6,
          195.32608695652172,
          236,
          0,
          236,
          0,
          236,
          0
         ],
         "yaxis": "y"
        },
        {
         "hovertemplate": "Mk=Maserati<br>year=%{x}<br>Enedc (g/km) mean=%{y}<extra></extra>",
         "legendgroup": "Maserati",
         "marker": {
          "color": "#FFA15A",
          "symbol": "circle"
         },
         "mode": "markers",
         "name": "Maserati",
         "showlegend": true,
         "type": "scattergl",
         "x": [
          2015,
          2015,
          2016,
          2016,
          2016,
          2017,
          2017,
          2018,
          2018,
          2019,
          2019,
          2019,
          2020,
          2020,
          2020,
          2021,
          2021,
          2021
         ],
         "xaxis": "x",
         "y": [
          160.24166666666667,
          287.0344827586207,
          189,
          169.54871794871795,
          265.7819314641745,
          178.74029850746268,
          248.72427983539092,
          184.75490439533152,
          263.3799331103679,
          204.15384615384616,
          241.0710659898477,
          null,
          204.15384615384616,
          241.0710659898477,
          null,
          204.15384615384616,
          241.0710659898477,
          null
         ],
         "yaxis": "y"
        },
        {
         "hovertemplate": "Mk=Maxus<br>year=%{x}<br>Enedc (g/km) mean=%{y}<extra></extra>",
         "legendgroup": "Maxus",
         "marker": {
          "color": "#19d3f3",
          "symbol": "circle"
         },
         "mode": "markers",
         "name": "Maxus",
         "showlegend": true,
         "type": "scattergl",
         "x": [
          2019,
          2020,
          2021
         ],
         "xaxis": "x",
         "y": [
          0,
          0,
          0
         ],
         "yaxis": "y"
        },
        {
         "hovertemplate": "Mk=Mazda<br>year=%{x}<br>Enedc (g/km) mean=%{y}<extra></extra>",
         "legendgroup": "Mazda",
         "marker": {
          "color": "#FF6692",
          "symbol": "circle"
         },
         "mode": "markers",
         "name": "Mazda",
         "showlegend": true,
         "type": "scattergl",
         "x": [
          2015,
          2015,
          2015,
          2016,
          2016,
          2016,
          2017,
          2017,
          2018,
          2018,
          2018,
          2019,
          2019,
          2019,
          2019,
          2020,
          2020,
          2020,
          2020,
          2021,
          2021,
          2021,
          2021
         ],
         "xaxis": "x",
         "y": [
          123.75618374558304,
          261,
          132.11290322580646,
          119.9581605729363,
          167.54545454545453,
          129.58830275229357,
          122.85632049786076,
          133.67773009495983,
          129.4747703180212,
          153.33333333333334,
          135.70690916290403,
          132.84032258064516,
          0,
          123.79105707809602,
          94,
          132.84032258064516,
          0,
          123.79105707809602,
          94,
          132.84032258064516,
          0,
          123.79105707809602,
          94
         ],
         "yaxis": "y"
        },
        {
         "hovertemplate": "Mk=McLaren<br>year=%{x}<br>Enedc (g/km) mean=%{y}<extra></extra>",
         "legendgroup": "McLaren",
         "marker": {
          "color": "#B6E880",
          "symbol": "circle"
         },
         "mode": "markers",
         "name": "McLaren",
         "showlegend": true,
         "type": "scattergl",
         "x": [
          2015,
          2015,
          2016,
          2017,
          2018,
          2019,
          2019,
          2020,
          2020,
          2021,
          2021
         ],
         "xaxis": "x",
         "y": [
          273.7040816326531,
          194,
          261.6860841423948,
          253.06269592476488,
          250.66315789473688,
          null,
          265.3636363636364,
          null,
          265.3636363636364,
          null,
          265.3636363636364
         ],
         "yaxis": "y"
        },
        {
         "hovertemplate": "Mk=Mercedes<br>year=%{x}<br>Enedc (g/km) mean=%{y}<extra></extra>",
         "legendgroup": "Mercedes",
         "marker": {
          "color": "#FF97FF",
          "symbol": "circle"
         },
         "mode": "markers",
         "name": "Mercedes",
         "showlegend": true,
         "type": "scattergl",
         "x": [
          2015,
          2015,
          2015,
          2015,
          2015,
          2015,
          2016,
          2016,
          2016,
          2016,
          2016,
          2016,
          2016,
          2017,
          2017,
          2017,
          2017,
          2017,
          2017,
          2018,
          2018,
          2018,
          2018,
          2018,
          2018,
          2019,
          2019,
          2019,
          2019,
          2019,
          2019,
          2019,
          2019,
          2020,
          2020,
          2020,
          2020,
          2020,
          2020,
          2020,
          2020,
          2021,
          2021,
          2021,
          2021,
          2021,
          2021,
          2021,
          2021
         ],
         "xaxis": "x",
         "y": [
          187,
          137.8795048344565,
          0,
          125.8972602739726,
          163.22615219721328,
          59.12564102564102,
          177.75471698113208,
          137.11908226455958,
          0,
          153,
          134.03603603603602,
          161.55462068965517,
          60.89418777943368,
          123.76672794847038,
          102.15198863636364,
          0,
          145.97272727272727,
          148.6619634635378,
          60.549636803874094,
          132.4386201754214,
          42.6,
          0,
          174.2,
          153.80718712143133,
          57.56723696173238,
          142.0633298011594,
          38.89178523489933,
          0,
          141.35064935064935,
          null,
          null,
          154.40440705128205,
          34.17963429151299,
          142.0633298011594,
          38.89178523489933,
          0,
          141.35064935064935,
          null,
          null,
          154.40440705128205,
          34.17963429151299,
          142.0633298011594,
          38.89178523489933,
          0,
          141.35064935064935,
          null,
          null,
          154.40440705128205,
          34.17963429151299
         ],
         "yaxis": "y"
        },
        {
         "hovertemplate": "Mk=Mini<br>year=%{x}<br>Enedc (g/km) mean=%{y}<extra></extra>",
         "legendgroup": "Mini",
         "marker": {
          "color": "#FECB52",
          "symbol": "circle"
         },
         "mode": "markers",
         "name": "Mini",
         "showlegend": true,
         "type": "scattergl",
         "x": [
          2015,
          2015,
          2016,
          2016,
          2017,
          2017,
          2017,
          2018,
          2018,
          2018,
          2019,
          2019,
          2019,
          2019,
          2020,
          2020,
          2020,
          2020,
          2021,
          2021,
          2021,
          2021
         ],
         "xaxis": "x",
         "y": [
          112.16752665978672,
          130.18128078817733,
          110.1657060518732,
          127.24493731918996,
          106.08512072557912,
          121.09495548961424,
          50.04405594405594,
          111.78985396631558,
          123.83792929168412,
          54.47968683876428,
          113.50167224080268,
          0,
          115.93993288590605,
          42.41503416856492,
          113.50167224080268,
          0,
          115.93993288590605,
          42.41503416856492,
          113.50167224080268,
          0,
          115.93993288590605,
          42.41503416856492
         ],
         "yaxis": "y"
        },
        {
         "hovertemplate": "Mk=Mitsubishi<br>year=%{x}<br>Enedc (g/km) mean=%{y}<extra></extra>",
         "legendgroup": "Mitsubishi",
         "marker": {
          "color": "#636efa",
          "symbol": "circle"
         },
         "mode": "markers",
         "name": "Mitsubishi",
         "showlegend": true,
         "type": "scattergl",
         "x": [
          2015,
          2015,
          2015,
          2015,
          2015,
          2016,
          2016,
          2016,
          2016,
          2016,
          2017,
          2017,
          2017,
          2017,
          2017,
          2018,
          2018,
          2018,
          2018,
          2018,
          2019,
          2019,
          2019,
          2019,
          2019,
          2019,
          2020,
          2020,
          2020,
          2020,
          2020,
          2020,
          2021,
          2021,
          2021,
          2021,
          2021,
          2021
         ],
         "xaxis": "x",
         "y": [
          156.93300492610837,
          0,
          124.6470588235294,
          129.76719576719577,
          43.3,
          160.33577533577534,
          0,
          129.66666666666666,
          125.53049482163406,
          42.448,
          151.84495509772847,
          0,
          112.875,
          121.9495600446152,
          41.15483234714004,
          163.6114752213407,
          0,
          130.35254237288137,
          129.76253788040464,
          40.50804971419581,
          null,
          40,
          0,
          145.5,
          140.3723114207816,
          39.91819815641487,
          null,
          40,
          0,
          145.5,
          140.3723114207816,
          39.91819815641487,
          null,
          40,
          0,
          145.5,
          140.3723114207816,
          39.91819815641487
         ],
         "yaxis": "y"
        },
        {
         "hovertemplate": "Mk=Morgan<br>year=%{x}<br>Enedc (g/km) mean=%{y}<extra></extra>",
         "legendgroup": "Morgan",
         "marker": {
          "color": "#EF553B",
          "symbol": "circle"
         },
         "mode": "markers",
         "name": "Morgan",
         "showlegend": true,
         "type": "scattergl",
         "x": [
          2015,
          2016,
          2017,
          2018,
          2019,
          2020,
          2021
         ],
         "xaxis": "x",
         "y": [
          199.7669172932331,
          200.1895424836601,
          197.45049504950492,
          194.2844243792325,
          156,
          156,
          156
         ],
         "yaxis": "y"
        },
        {
         "hovertemplate": "Mk=Nissan<br>year=%{x}<br>Enedc (g/km) mean=%{y}<extra></extra>",
         "legendgroup": "Nissan",
         "marker": {
          "color": "#00cc96",
          "symbol": "circle"
         },
         "mode": "markers",
         "name": "Nissan",
         "showlegend": true,
         "type": "scattergl",
         "x": [
          2015,
          2015,
          2015,
          2015,
          2016,
          2016,
          2016,
          2016,
          2016,
          2017,
          2017,
          2017,
          2017,
          2018,
          2018,
          2018,
          2018,
          2019,
          2019,
          2019,
          2019,
          2019,
          2020,
          2020,
          2020,
          2020,
          2020,
          2021,
          2021,
          2021,
          2021,
          2021
         ],
         "xaxis": "x",
         "y": [
          120.81128029165774,
          0,
          103.46153846153848,
          132.77395915161037,
          119.00320898515844,
          0,
          111.69565217391305,
          169,
          132.7177795031056,
          114.03359258042136,
          0,
          119.4,
          124.89714576709062,
          113.7461424270302,
          0,
          130.2653271509531,
          128.35760578883162,
          117.96,
          0,
          null,
          121.72829012002904,
          null,
          117.96,
          0,
          null,
          121.72829012002904,
          null,
          117.96,
          0,
          null,
          121.72829012002904,
          null
         ],
         "yaxis": "y"
        },
        {
         "hovertemplate": "Mk=Opel<br>year=%{x}<br>Enedc (g/km) mean=%{y}<extra></extra>",
         "legendgroup": "Opel",
         "marker": {
          "color": "#ab63fa",
          "symbol": "circle"
         },
         "mode": "markers",
         "name": "Opel",
         "showlegend": true,
         "type": "scattergl",
         "x": [
          2015,
          2015,
          2015,
          2015,
          2015,
          2016,
          2016,
          2016,
          2016,
          2016,
          2017,
          2017,
          2017,
          2017,
          2017,
          2018,
          2018,
          2018,
          2018,
          2018,
          2019,
          2019,
          2019,
          2019,
          2019,
          2019,
          2019,
          2020,
          2020,
          2020,
          2020,
          2020,
          2020,
          2020,
          2021,
          2021,
          2021,
          2021,
          2021,
          2021,
          2021
         ],
         "xaxis": "x",
         "y": [
          125.00292632965105,
          124.32919954904172,
          133.02941176470588,
          138.8989109373956,
          27,
          118.16188092729188,
          128.02312775330395,
          135.13675213675214,
          129.8161685169371,
          27,
          114.3738676262948,
          0,
          135.40236974517123,
          133.63095238095238,
          123.45954460332185,
          119.45624637849112,
          0,
          127.52559726962455,
          120.44335458558116,
          126.8506843949701,
          104.3173076923077,
          null,
          0,
          null,
          null,
          104.16234586242756,
          34.610101683613934,
          104.3173076923077,
          null,
          0,
          null,
          null,
          104.16234586242756,
          34.610101683613934,
          104.3173076923077,
          null,
          0,
          null,
          null,
          104.16234586242756,
          34.610101683613934
         ],
         "yaxis": "y"
        },
        {
         "hovertemplate": "Mk=Pagani<br>year=%{x}<br>Enedc (g/km) mean=%{y}<extra></extra>",
         "legendgroup": "Pagani",
         "marker": {
          "color": "#FFA15A",
          "symbol": "circle"
         },
         "mode": "markers",
         "name": "Pagani",
         "showlegend": true,
         "type": "scattergl",
         "x": [
          2015,
          2016,
          2017,
          2019,
          2020,
          2021
         ],
         "xaxis": "x",
         "y": [
          349,
          343,
          343,
          null,
          null,
          null
         ],
         "yaxis": "y"
        },
        {
         "hovertemplate": "Mk=Peugeot<br>year=%{x}<br>Enedc (g/km) mean=%{y}<extra></extra>",
         "legendgroup": "Peugeot",
         "marker": {
          "color": "#19d3f3",
          "symbol": "circle"
         },
         "mode": "markers",
         "name": "Peugeot",
         "showlegend": true,
         "type": "scattergl",
         "x": [
          2015,
          2015,
          2015,
          2015,
          2015,
          2016,
          2016,
          2016,
          2016,
          2016,
          2017,
          2017,
          2017,
          2017,
          2017,
          2018,
          2018,
          2018,
          2018,
          2019,
          2019,
          2019,
          2019,
          2019,
          2019,
          2019,
          2020,
          2020,
          2020,
          2020,
          2020,
          2020,
          2020,
          2021,
          2021,
          2021,
          2021,
          2021,
          2021,
          2021
         ],
         "xaxis": "x",
         "y": [
          115.14981496955951,
          101,
          0,
          124.71428571428572,
          114.68972246313965,
          107.91284628585436,
          109,
          0,
          117.02631578947368,
          110.73318129988596,
          99.94916946669484,
          107.25,
          0,
          106.63636363636364,
          107.99437833180764,
          104.93911851178584,
          0,
          112.57168458781362,
          111.34610435049122,
          105.27675288758743,
          null,
          0,
          127,
          null,
          104.85560441843556,
          35.02253049064333,
          105.27675288758743,
          null,
          0,
          127,
          null,
          104.85560441843556,
          35.02253049064333,
          105.27675288758743,
          null,
          0,
          127,
          null,
          104.85560441843556,
          35.02253049064333
         ],
         "yaxis": "y"
        },
        {
         "hovertemplate": "Mk=Polestar<br>year=%{x}<br>Enedc (g/km) mean=%{y}<extra></extra>",
         "legendgroup": "Polestar",
         "marker": {
          "color": "#FF6692",
          "symbol": "circle"
         },
         "mode": "markers",
         "name": "Polestar",
         "showlegend": true,
         "type": "scattergl",
         "x": [
          2019,
          2019,
          2020,
          2020,
          2021,
          2021
         ],
         "xaxis": "x",
         "y": [
          0,
          26.37735849056604,
          0,
          26.37735849056604,
          0,
          26.37735849056604
         ],
         "yaxis": "y"
        },
        {
         "hovertemplate": "Mk=Porsche<br>year=%{x}<br>Enedc (g/km) mean=%{y}<extra></extra>",
         "legendgroup": "Porsche",
         "marker": {
          "color": "#B6E880",
          "symbol": "circle"
         },
         "mode": "markers",
         "name": "Porsche",
         "showlegend": true,
         "type": "scattergl",
         "x": [
          2015,
          2015,
          2015,
          2016,
          2016,
          2016,
          2017,
          2017,
          2017,
          2017,
          2018,
          2018,
          2018,
          2018,
          2019,
          2019,
          2019,
          2019,
          2019,
          2020,
          2020,
          2020,
          2020,
          2020,
          2021,
          2021,
          2021,
          2021,
          2021
         ],
         "xaxis": "x",
         "y": [
          171.3486312399356,
          215.2879438158408,
          76.65727699530517,
          172.2668288726683,
          204.21078066914495,
          76.88023952095809,
          171.1431487624394,
          167,
          190.4595953823294,
          65.06946061311602,
          167.0029875067898,
          170.66666666666666,
          201.8106907230376,
          63.74852033748898,
          169,
          0,
          null,
          180.93605523866708,
          50.2078032230704,
          169,
          0,
          null,
          180.93605523866708,
          50.2078032230704,
          169,
          0,
          null,
          180.93605523866708,
          50.2078032230704
         ],
         "yaxis": "y"
        },
        {
         "hovertemplate": "Mk=Renault<br>year=%{x}<br>Enedc (g/km) mean=%{y}<extra></extra>",
         "legendgroup": "Renault",
         "marker": {
          "color": "#FF97FF",
          "symbol": "circle"
         },
         "mode": "markers",
         "name": "Renault",
         "showlegend": true,
         "type": "scattergl",
         "x": [
          2015,
          2015,
          2015,
          2015,
          2016,
          2016,
          2016,
          2016,
          2017,
          2017,
          2017,
          2017,
          2017,
          2017,
          2018,
          2018,
          2018,
          2018,
          2019,
          2019,
          2019,
          2019,
          2019,
          2019,
          2019,
          2020,
          2020,
          2020,
          2020,
          2020,
          2020,
          2020,
          2021,
          2021,
          2021,
          2021,
          2021,
          2021,
          2021
         ],
         "xaxis": "x",
         "y": [
          113.58401218119528,
          0,
          127.19354838709675,
          123.98412503076544,
          110.297379174299,
          0,
          128.72392638036808,
          120.73621460506706,
          100.17669486476828,
          94,
          113.5,
          0,
          117.6842105263158,
          117.21041187260296,
          103.65106599195322,
          0,
          111.55694587863694,
          119.31975752733348,
          114.01650008871016,
          0,
          118.87007874015748,
          109.45524296675192,
          118,
          117.05252792122012,
          31.718329878590463,
          114.01650008871016,
          0,
          118.87007874015748,
          109.45524296675192,
          118,
          117.05252792122012,
          31.718329878590463,
          114.01650008871016,
          0,
          118.87007874015748,
          109.45524296675192,
          118,
          117.05252792122012,
          31.718329878590463
         ],
         "yaxis": "y"
        },
        {
         "hovertemplate": "Mk=Rolls Royce<br>year=%{x}<br>Enedc (g/km) mean=%{y}<extra></extra>",
         "legendgroup": "Rolls Royce",
         "marker": {
          "color": "#FECB52",
          "symbol": "circle"
         },
         "mode": "markers",
         "name": "Rolls Royce",
         "showlegend": true,
         "type": "scattergl",
         "x": [
          2015,
          2016,
          2017,
          2018,
          2019,
          2020,
          2021
         ],
         "xaxis": "x",
         "y": [
          334.25925925925924,
          333.2162162162162,
          329.39130434782606,
          326.4048,
          345.6666666666667,
          345.6666666666667,
          345.6666666666667
         ],
         "yaxis": "y"
        },
        {
         "hovertemplate": "Mk=Rover<br>year=%{x}<br>Enedc (g/km) mean=%{y}<extra></extra>",
         "legendgroup": "Rover",
         "marker": {
          "color": "#636efa",
          "symbol": "circle"
         },
         "mode": "markers",
         "name": "Rover",
         "showlegend": true,
         "type": "scattergl",
         "x": [
          2015,
          2015,
          2016,
          2017,
          2017,
          2018,
          2019,
          2019,
          2020,
          2020,
          2021,
          2021
         ],
         "xaxis": "x",
         "y": [
          160.58333333333334,
          null,
          null,
          169.55555555555554,
          299,
          103.36746987951808,
          159,
          null,
          159,
          null,
          159,
          null
         ],
         "yaxis": "y"
        },
        {
         "hovertemplate": "Mk=Saab<br>year=%{x}<br>Enedc (g/km) mean=%{y}<extra></extra>",
         "legendgroup": "Saab",
         "marker": {
          "color": "#EF553B",
          "symbol": "circle"
         },
         "mode": "markers",
         "name": "Saab",
         "showlegend": true,
         "type": "scattergl",
         "x": [
          2015,
          2015,
          2016,
          2017
         ],
         "xaxis": "x",
         "y": [
          179,
          203,
          169,
          166.5
         ],
         "yaxis": "y"
        },
        {
         "hovertemplate": "Mk=Scania<br>year=%{x}<br>Enedc (g/km) mean=%{y}<extra></extra>",
         "legendgroup": "Scania",
         "marker": {
          "color": "#00cc96",
          "symbol": "circle"
         },
         "mode": "markers",
         "name": "Scania",
         "showlegend": true,
         "type": "scattergl",
         "x": [
          2015,
          2018
         ],
         "xaxis": "x",
         "y": [
          190,
          171.33333333333334
         ],
         "yaxis": "y"
        },
        {
         "hovertemplate": "Mk=Seat<br>year=%{x}<br>Enedc (g/km) mean=%{y}<extra></extra>",
         "legendgroup": "Seat",
         "marker": {
          "color": "#ab63fa",
          "symbol": "circle"
         },
         "mode": "markers",
         "name": "Seat",
         "showlegend": true,
         "type": "scattergl",
         "x": [
          2015,
          2015,
          2015,
          2015,
          2016,
          2016,
          2016,
          2016,
          2017,
          2017,
          2017,
          2018,
          2018,
          2018,
          2018,
          2019,
          2019,
          2019,
          2019,
          2019,
          2019,
          2019,
          2019,
          2020,
          2020,
          2020,
          2020,
          2020,
          2020,
          2020,
          2020,
          2021,
          2021,
          2021,
          2021,
          2021,
          2021,
          2021,
          2021
         ],
         "xaxis": "x",
         "y": [
          120.06496062992126,
          174,
          113.71223021582732,
          122.48293145489028,
          120.54746711811434,
          119.97368421052632,
          117.9624060150376,
          121.01666666666668,
          117.20656784709976,
          97.46629213483146,
          115.36147697849826,
          117.3646077238474,
          105.66666666666669,
          119.67805198461106,
          117.4493110385782,
          110.86699360974885,
          32,
          0,
          null,
          93.71563483735572,
          null,
          113.37143946679046,
          34.48478001631833,
          110.86699360974885,
          32,
          0,
          null,
          93.71563483735572,
          null,
          113.37143946679046,
          34.48478001631833,
          110.86699360974885,
          32,
          0,
          null,
          93.71563483735572,
          null,
          113.37143946679046,
          34.48478001631833
         ],
         "yaxis": "y"
        },
        {
         "hovertemplate": "Mk=Skoda<br>year=%{x}<br>Enedc (g/km) mean=%{y}<extra></extra>",
         "legendgroup": "Skoda",
         "marker": {
          "color": "#FFA15A",
          "symbol": "circle"
         },
         "mode": "markers",
         "name": "Skoda",
         "showlegend": true,
         "type": "scattergl",
         "x": [
          2015,
          2015,
          2015,
          2015,
          2016,
          2016,
          2016,
          2016,
          2017,
          2017,
          2017,
          2017,
          2018,
          2018,
          2018,
          2019,
          2019,
          2019,
          2019,
          2019,
          2019,
          2019,
          2019,
          2020,
          2020,
          2020,
          2020,
          2020,
          2020,
          2020,
          2020,
          2021,
          2021,
          2021,
          2021,
          2021,
          2021,
          2021,
          2021
         ],
         "xaxis": "x",
         "y": [
          115.64370889643708,
          126.2,
          95.77828054298642,
          123.73972051874937,
          112.17558276936298,
          108.64541832669325,
          100.54811715481172,
          119.3284712708518,
          115.56190421056694,
          101.00239520958084,
          98.72308178086516,
          113.71977646303688,
          121.10207038852025,
          98.505859375,
          115.66684058556946,
          116.69073825503357,
          0,
          123,
          99.36363636363636,
          null,
          null,
          112.20225569080532,
          31.65515943937541,
          116.69073825503357,
          0,
          123,
          99.36363636363636,
          null,
          null,
          112.20225569080532,
          31.65515943937541,
          116.69073825503357,
          0,
          123,
          99.36363636363636,
          null,
          null,
          112.20225569080532,
          31.65515943937541
         ],
         "yaxis": "y"
        },
        {
         "hovertemplate": "Mk=Skywell<br>year=%{x}<br>Enedc (g/km) mean=%{y}<extra></extra>",
         "legendgroup": "Skywell",
         "marker": {
          "color": "#19d3f3",
          "symbol": "circle"
         },
         "mode": "markers",
         "name": "Skywell",
         "showlegend": true,
         "type": "scattergl",
         "x": [
          2019,
          2020,
          2021
         ],
         "xaxis": "x",
         "y": [
          0,
          0,
          0
         ],
         "yaxis": "y"
        },
        {
         "hovertemplate": "Mk=Smart<br>year=%{x}<br>Enedc (g/km) mean=%{y}<extra></extra>",
         "legendgroup": "Smart",
         "marker": {
          "color": "#FF6692",
          "symbol": "circle"
         },
         "mode": "markers",
         "name": "Smart",
         "showlegend": true,
         "type": "scattergl",
         "x": [
          2015,
          2015,
          2015,
          2016,
          2016,
          2016,
          2017,
          2017,
          2017,
          2018,
          2018,
          2018,
          2018,
          2019,
          2019,
          2020,
          2020,
          2021,
          2021
         ],
         "xaxis": "x",
         "y": [
          88.5,
          0,
          97.52410575427685,
          93.28571428571428,
          0,
          97.25731537389689,
          113.14285714285714,
          0,
          96.96964196294442,
          88.4,
          0,
          94,
          102.94057148286264,
          0,
          94,
          0,
          94,
          0,
          94
         ],
         "yaxis": "y"
        },
        {
         "hovertemplate": "Mk=SsangYong<br>year=%{x}<br>Enedc (g/km) mean=%{y}<extra></extra>",
         "legendgroup": "SsangYong",
         "marker": {
          "color": "#B6E880",
          "symbol": "circle"
         },
         "mode": "markers",
         "name": "SsangYong",
         "showlegend": true,
         "type": "scattergl",
         "x": [
          2015,
          2015,
          2016,
          2016,
          2016,
          2017,
          2017,
          2017,
          2018,
          2018,
          2018,
          2018,
          2019,
          2019,
          2019,
          2019,
          2019,
          2020,
          2020,
          2020,
          2020,
          2020,
          2021,
          2021,
          2021,
          2021,
          2021
         ],
         "xaxis": "x",
         "y": [
          178.1824034334764,
          169.32558139534885,
          163.60476190476192,
          170.65,
          166.895,
          147.456589958159,
          168.8,
          161.57154088050314,
          163.99528301886792,
          166.11864406779662,
          173.41666666666666,
          163.92951807228917,
          156.65042979942697,
          0,
          165.58823529411765,
          null,
          164.16843345111897,
          156.65042979942697,
          0,
          165.58823529411765,
          null,
          164.16843345111897,
          156.65042979942697,
          0,
          165.58823529411765,
          null,
          164.16843345111897
         ],
         "yaxis": "y"
        },
        {
         "hovertemplate": "Mk=Subaru<br>year=%{x}<br>Enedc (g/km) mean=%{y}<extra></extra>",
         "legendgroup": "Subaru",
         "marker": {
          "color": "#FF97FF",
          "symbol": "circle"
         },
         "mode": "markers",
         "name": "Subaru",
         "showlegend": true,
         "type": "scattergl",
         "x": [
          2015,
          2015,
          2015,
          2015,
          2016,
          2016,
          2016,
          2016,
          2017,
          2017,
          2017,
          2018,
          2018,
          2018,
          2018,
          2019,
          2019,
          2019,
          2019,
          2019,
          2020,
          2020,
          2020,
          2020,
          2020,
          2021,
          2021,
          2021,
          2021,
          2021
         ],
         "xaxis": "x",
         "y": [
          154.23421588594704,
          145.83636363636364,
          136.5,
          166.48498331479422,
          152.94285714285715,
          155.5121951219512,
          137,
          166.67875647668393,
          166.36886854153042,
          153.7560975609756,
          161.351324828263,
          154.6064245810056,
          154.0185185185185,
          135,
          161.63506944444444,
          null,
          181.7887323943662,
          null,
          159.89928057553956,
          null,
          null,
          181.7887323943662,
          null,
          159.89928057553956,
          null,
          null,
          181.7887323943662,
          null,
          159.89928057553956,
          null
         ],
         "yaxis": "y"
        },
        {
         "hovertemplate": "Mk=Suzuki<br>year=%{x}<br>Enedc (g/km) mean=%{y}<extra></extra>",
         "legendgroup": "Suzuki",
         "marker": {
          "color": "#FECB52",
          "symbol": "circle"
         },
         "mode": "markers",
         "name": "Suzuki",
         "showlegend": true,
         "type": "scattergl",
         "x": [
          2015,
          2015,
          2015,
          2015,
          2016,
          2016,
          2016,
          2016,
          2017,
          2017,
          2017,
          2017,
          2018,
          2018,
          2018,
          2018,
          2018,
          2019,
          2019,
          2019,
          2019,
          2019,
          2020,
          2020,
          2020,
          2020,
          2020,
          2021,
          2021,
          2021,
          2021,
          2021
         ],
         "xaxis": "x",
         "y": [
          112.68848758465012,
          136.5,
          99,
          128.22415865384616,
          112.7720207253886,
          127.5,
          103.66666666666669,
          121.03924297244642,
          111.30707465277776,
          113,
          103.66666666666669,
          111.60338187660996,
          110.80422329551836,
          127.36363636363636,
          102.03896103896103,
          114.4784030920478,
          94.61904761904762,
          null,
          null,
          114,
          108.92594699124103,
          41.29395973154362,
          null,
          null,
          114,
          108.92594699124103,
          41.29395973154362,
          null,
          null,
          114,
          108.92594699124103,
          41.29395973154362
         ],
         "yaxis": "y"
        },
        {
         "hovertemplate": "Mk=Tesla<br>year=%{x}<br>Enedc (g/km) mean=%{y}<extra></extra>",
         "legendgroup": "Tesla",
         "marker": {
          "color": "#636efa",
          "symbol": "circle"
         },
         "mode": "markers",
         "name": "Tesla",
         "showlegend": true,
         "type": "scattergl",
         "x": [
          2015,
          2016,
          2017,
          2018,
          2019,
          2020,
          2021
         ],
         "xaxis": "x",
         "y": [
          0,
          0,
          0,
          0,
          0,
          0,
          0
         ],
         "yaxis": "y"
        },
        {
         "hovertemplate": "Mk=Toyota<br>year=%{x}<br>Enedc (g/km) mean=%{y}<extra></extra>",
         "legendgroup": "Toyota",
         "marker": {
          "color": "#EF553B",
          "symbol": "circle"
         },
         "mode": "markers",
         "name": "Toyota",
         "showlegend": true,
         "type": "scattergl",
         "x": [
          2015,
          2015,
          2015,
          2015,
          2015,
          2015,
          2016,
          2016,
          2016,
          2016,
          2017,
          2017,
          2017,
          2017,
          2017,
          2018,
          2018,
          2018,
          2018,
          2019,
          2019,
          2019,
          2019,
          2019,
          2019,
          2019,
          2020,
          2020,
          2020,
          2020,
          2020,
          2020,
          2020,
          2021,
          2021,
          2021,
          2021,
          2021,
          2021,
          2021
         ],
         "xaxis": "x",
         "y": [
          131.76378600823045,
          0,
          158.66666666666666,
          null,
          119.617577509196,
          61.76470588235294,
          125.25715214564369,
          134.1981776765376,
          114.84093822096898,
          77.0625,
          118.06765600516177,
          94.61764705882354,
          null,
          102.19581777111802,
          23.888010540184453,
          138.7333972594265,
          0,
          99.10367772179522,
          null,
          151.59054813093164,
          0,
          106.3734939759036,
          106,
          null,
          90.50056466723132,
          27.57792504570384,
          151.59054813093164,
          0,
          106.3734939759036,
          106,
          null,
          90.50056466723132,
          27.57792504570384,
          151.59054813093164,
          0,
          106.3734939759036,
          106,
          null,
          90.50056466723132,
          27.57792504570384
         ],
         "yaxis": "y"
        },
        {
         "hovertemplate": "Mk=Tripod<br>year=%{x}<br>Enedc (g/km) mean=%{y}<extra></extra>",
         "legendgroup": "Tripod",
         "marker": {
          "color": "#00cc96",
          "symbol": "circle"
         },
         "mode": "markers",
         "name": "Tripod",
         "showlegend": true,
         "type": "scattergl",
         "x": [
          2017,
          2018,
          2019,
          2019,
          2020,
          2020,
          2021,
          2021
         ],
         "xaxis": "x",
         "y": [
          132,
          109,
          null,
          null,
          null,
          null,
          null,
          null
         ],
         "yaxis": "y"
        },
        {
         "hovertemplate": "Mk=UAZ<br>year=%{x}<br>Enedc (g/km) mean=%{y}<extra></extra>",
         "legendgroup": "UAZ",
         "marker": {
          "color": "#ab63fa",
          "symbol": "circle"
         },
         "mode": "markers",
         "name": "UAZ",
         "showlegend": true,
         "type": "scattergl",
         "x": [
          2018,
          2019,
          2020,
          2021
         ],
         "xaxis": "x",
         "y": [
          199,
          null,
          null,
          null
         ],
         "yaxis": "y"
        },
        {
         "hovertemplate": "Mk=Volkswagen<br>year=%{x}<br>Enedc (g/km) mean=%{y}<extra></extra>",
         "legendgroup": "Volkswagen",
         "marker": {
          "color": "#FFA15A",
          "symbol": "circle"
         },
         "mode": "markers",
         "name": "Volkswagen",
         "showlegend": true,
         "type": "scattergl",
         "x": [
          2015,
          2015,
          2015,
          2015,
          2015,
          2015,
          2015,
          2015,
          2016,
          2016,
          2016,
          2016,
          2016,
          2016,
          2016,
          2016,
          2016,
          2017,
          2017,
          2017,
          2017,
          2017,
          2017,
          2017,
          2017,
          2018,
          2018,
          2018,
          2018,
          2018,
          2018,
          2018,
          2018,
          2019,
          2019,
          2019,
          2019,
          2019,
          2019,
          2019,
          2019,
          2019,
          2020,
          2020,
          2020,
          2020,
          2020,
          2020,
          2020,
          2020,
          2020,
          2021,
          2021,
          2021,
          2021,
          2021,
          2021,
          2021,
          2021,
          2021
         ],
         "xaxis": "x",
         "y": [
          133.3860831340724,
          21,
          122.6969696969697,
          0,
          159.78571428571428,
          109.289592760181,
          126.82670843939692,
          37.89502762430939,
          169.2,
          129.91214824982842,
          21,
          119.1917808219178,
          0,
          117.13333333333334,
          104.46655518394648,
          126.79225538499124,
          37.8592132505176,
          121.65639953419436,
          21,
          121.09079118028536,
          0.2091283202394313,
          124.72727272727272,
          121.2624914442163,
          116.97282541477465,
          38.33766233766234,
          127.52915179382624,
          21,
          116.9596018735363,
          0,
          119.8,
          96.03739922364883,
          118.7282990063337,
          38.70459796672828,
          124.98527138090977,
          38,
          0,
          127,
          97.5625,
          null,
          null,
          114.9927498435218,
          32.469179782801135,
          124.98527138090977,
          38,
          0,
          127,
          97.5625,
          null,
          null,
          114.9927498435218,
          32.469179782801135,
          124.98527138090977,
          38,
          0,
          127,
          97.5625,
          null,
          null,
          114.9927498435218,
          32.469179782801135
         ],
         "yaxis": "y"
        },
        {
         "hovertemplate": "Mk=Volvo<br>year=%{x}<br>Enedc (g/km) mean=%{y}<extra></extra>",
         "legendgroup": "Volvo",
         "marker": {
          "color": "#19d3f3",
          "symbol": "circle"
         },
         "mode": "markers",
         "name": "Volvo",
         "showlegend": true,
         "type": "scattergl",
         "x": [
          2015,
          2015,
          2015,
          2015,
          2015,
          2015,
          2016,
          2016,
          2016,
          2016,
          2016,
          2016,
          2017,
          2017,
          2017,
          2017,
          2017,
          2017,
          2018,
          2018,
          2018,
          2018,
          2018,
          2018,
          2019,
          2019,
          2019,
          2019,
          2019,
          2019,
          2020,
          2020,
          2020,
          2020,
          2020,
          2020,
          2021,
          2021,
          2021,
          2021,
          2021,
          2021
         ],
         "xaxis": "x",
         "y": [
          121.29982021850368,
          48.06410256410256,
          163.88888888888889,
          138.33333333333334,
          149.21523915461623,
          49.892857142857146,
          118.53190025795357,
          48,
          161.33333333333334,
          115.8,
          143.79515418502203,
          48.980582524271846,
          119.30026632348472,
          48,
          111,
          110,
          142.3871382636656,
          48.77814460217893,
          131.9324185083021,
          47.9987460815047,
          0,
          112.20833333333331,
          149.49062316629502,
          53.37135442412259,
          137.242288426048,
          144.0701754385965,
          0,
          null,
          145.51606701455643,
          41.07779225756995,
          137.242288426048,
          144.0701754385965,
          0,
          null,
          145.51606701455643,
          41.07779225756995,
          137.242288426048,
          144.0701754385965,
          0,
          null,
          145.51606701455643,
          41.07779225756995
         ],
         "yaxis": "y"
        },
        {
         "hovertemplate": "Mk=ZD<br>year=%{x}<br>Enedc (g/km) mean=%{y}<extra></extra>",
         "legendgroup": "ZD",
         "marker": {
          "color": "#FF6692",
          "symbol": "circle"
         },
         "mode": "markers",
         "name": "ZD",
         "showlegend": true,
         "type": "scattergl",
         "x": [
          2019,
          2020,
          2021
         ],
         "xaxis": "x",
         "y": [
          0,
          0,
          0
         ],
         "yaxis": "y"
        },
        {
         "hovertemplate": "Mk=Škoda<br>year=%{x}<br>Enedc (g/km) mean=%{y}<extra></extra>",
         "legendgroup": "Škoda",
         "marker": {
          "color": "#B6E880",
          "symbol": "circle"
         },
         "mode": "markers",
         "name": "Škoda",
         "showlegend": true,
         "type": "scattergl",
         "x": [
          2015,
          2015,
          2019,
          2019,
          2019,
          2019,
          2019,
          2019,
          2019,
          2020,
          2020,
          2020,
          2020,
          2020,
          2020,
          2020,
          2021,
          2021,
          2021,
          2021,
          2021,
          2021,
          2021
         ],
         "xaxis": "x",
         "y": [
          128,
          156,
          119.14649681528662,
          0,
          113.45,
          102.03448275862068,
          null,
          120.78502326268372,
          29.38636363636364,
          119.14649681528662,
          0,
          113.45,
          102.03448275862068,
          null,
          120.78502326268372,
          29.38636363636364,
          119.14649681528662,
          0,
          113.45,
          102.03448275862068,
          null,
          120.78502326268372,
          29.38636363636364
         ],
         "yaxis": "y"
        }
       ],
       "layout": {
        "height": 800,
        "legend": {
         "title": {
          "text": "Mk"
         },
         "tracegroupgap": 0
        },
        "margin": {
         "t": 60
        },
        "template": {
         "data": {
          "bar": [
           {
            "error_x": {
             "color": "#2a3f5f"
            },
            "error_y": {
             "color": "#2a3f5f"
            },
            "marker": {
             "line": {
              "color": "#E5ECF6",
              "width": 0.5
             },
             "pattern": {
              "fillmode": "overlay",
              "size": 10,
              "solidity": 0.2
             }
            },
            "type": "bar"
           }
          ],
          "barpolar": [
           {
            "marker": {
             "line": {
              "color": "#E5ECF6",
              "width": 0.5
             },
             "pattern": {
              "fillmode": "overlay",
              "size": 10,
              "solidity": 0.2
             }
            },
            "type": "barpolar"
           }
          ],
          "carpet": [
           {
            "aaxis": {
             "endlinecolor": "#2a3f5f",
             "gridcolor": "white",
             "linecolor": "white",
             "minorgridcolor": "white",
             "startlinecolor": "#2a3f5f"
            },
            "baxis": {
             "endlinecolor": "#2a3f5f",
             "gridcolor": "white",
             "linecolor": "white",
             "minorgridcolor": "white",
             "startlinecolor": "#2a3f5f"
            },
            "type": "carpet"
           }
          ],
          "choropleth": [
           {
            "colorbar": {
             "outlinewidth": 0,
             "ticks": ""
            },
            "type": "choropleth"
           }
          ],
          "contour": [
           {
            "colorbar": {
             "outlinewidth": 0,
             "ticks": ""
            },
            "colorscale": [
             [
              0,
              "#0d0887"
             ],
             [
              0.1111111111111111,
              "#46039f"
             ],
             [
              0.2222222222222222,
              "#7201a8"
             ],
             [
              0.3333333333333333,
              "#9c179e"
             ],
             [
              0.4444444444444444,
              "#bd3786"
             ],
             [
              0.5555555555555556,
              "#d8576b"
             ],
             [
              0.6666666666666666,
              "#ed7953"
             ],
             [
              0.7777777777777778,
              "#fb9f3a"
             ],
             [
              0.8888888888888888,
              "#fdca26"
             ],
             [
              1,
              "#f0f921"
             ]
            ],
            "type": "contour"
           }
          ],
          "contourcarpet": [
           {
            "colorbar": {
             "outlinewidth": 0,
             "ticks": ""
            },
            "type": "contourcarpet"
           }
          ],
          "heatmap": [
           {
            "colorbar": {
             "outlinewidth": 0,
             "ticks": ""
            },
            "colorscale": [
             [
              0,
              "#0d0887"
             ],
             [
              0.1111111111111111,
              "#46039f"
             ],
             [
              0.2222222222222222,
              "#7201a8"
             ],
             [
              0.3333333333333333,
              "#9c179e"
             ],
             [
              0.4444444444444444,
              "#bd3786"
             ],
             [
              0.5555555555555556,
              "#d8576b"
             ],
             [
              0.6666666666666666,
              "#ed7953"
             ],
             [
              0.7777777777777778,
              "#fb9f3a"
             ],
             [
              0.8888888888888888,
              "#fdca26"
             ],
             [
              1,
              "#f0f921"
             ]
            ],
            "type": "heatmap"
           }
          ],
          "heatmapgl": [
           {
            "colorbar": {
             "outlinewidth": 0,
             "ticks": ""
            },
            "colorscale": [
             [
              0,
              "#0d0887"
             ],
             [
              0.1111111111111111,
              "#46039f"
             ],
             [
              0.2222222222222222,
              "#7201a8"
             ],
             [
              0.3333333333333333,
              "#9c179e"
             ],
             [
              0.4444444444444444,
              "#bd3786"
             ],
             [
              0.5555555555555556,
              "#d8576b"
             ],
             [
              0.6666666666666666,
              "#ed7953"
             ],
             [
              0.7777777777777778,
              "#fb9f3a"
             ],
             [
              0.8888888888888888,
              "#fdca26"
             ],
             [
              1,
              "#f0f921"
             ]
            ],
            "type": "heatmapgl"
           }
          ],
          "histogram": [
           {
            "marker": {
             "pattern": {
              "fillmode": "overlay",
              "size": 10,
              "solidity": 0.2
             }
            },
            "type": "histogram"
           }
          ],
          "histogram2d": [
           {
            "colorbar": {
             "outlinewidth": 0,
             "ticks": ""
            },
            "colorscale": [
             [
              0,
              "#0d0887"
             ],
             [
              0.1111111111111111,
              "#46039f"
             ],
             [
              0.2222222222222222,
              "#7201a8"
             ],
             [
              0.3333333333333333,
              "#9c179e"
             ],
             [
              0.4444444444444444,
              "#bd3786"
             ],
             [
              0.5555555555555556,
              "#d8576b"
             ],
             [
              0.6666666666666666,
              "#ed7953"
             ],
             [
              0.7777777777777778,
              "#fb9f3a"
             ],
             [
              0.8888888888888888,
              "#fdca26"
             ],
             [
              1,
              "#f0f921"
             ]
            ],
            "type": "histogram2d"
           }
          ],
          "histogram2dcontour": [
           {
            "colorbar": {
             "outlinewidth": 0,
             "ticks": ""
            },
            "colorscale": [
             [
              0,
              "#0d0887"
             ],
             [
              0.1111111111111111,
              "#46039f"
             ],
             [
              0.2222222222222222,
              "#7201a8"
             ],
             [
              0.3333333333333333,
              "#9c179e"
             ],
             [
              0.4444444444444444,
              "#bd3786"
             ],
             [
              0.5555555555555556,
              "#d8576b"
             ],
             [
              0.6666666666666666,
              "#ed7953"
             ],
             [
              0.7777777777777778,
              "#fb9f3a"
             ],
             [
              0.8888888888888888,
              "#fdca26"
             ],
             [
              1,
              "#f0f921"
             ]
            ],
            "type": "histogram2dcontour"
           }
          ],
          "mesh3d": [
           {
            "colorbar": {
             "outlinewidth": 0,
             "ticks": ""
            },
            "type": "mesh3d"
           }
          ],
          "parcoords": [
           {
            "line": {
             "colorbar": {
              "outlinewidth": 0,
              "ticks": ""
             }
            },
            "type": "parcoords"
           }
          ],
          "pie": [
           {
            "automargin": true,
            "type": "pie"
           }
          ],
          "scatter": [
           {
            "fillpattern": {
             "fillmode": "overlay",
             "size": 10,
             "solidity": 0.2
            },
            "type": "scatter"
           }
          ],
          "scatter3d": [
           {
            "line": {
             "colorbar": {
              "outlinewidth": 0,
              "ticks": ""
             }
            },
            "marker": {
             "colorbar": {
              "outlinewidth": 0,
              "ticks": ""
             }
            },
            "type": "scatter3d"
           }
          ],
          "scattercarpet": [
           {
            "marker": {
             "colorbar": {
              "outlinewidth": 0,
              "ticks": ""
             }
            },
            "type": "scattercarpet"
           }
          ],
          "scattergeo": [
           {
            "marker": {
             "colorbar": {
              "outlinewidth": 0,
              "ticks": ""
             }
            },
            "type": "scattergeo"
           }
          ],
          "scattergl": [
           {
            "marker": {
             "colorbar": {
              "outlinewidth": 0,
              "ticks": ""
             }
            },
            "type": "scattergl"
           }
          ],
          "scattermapbox": [
           {
            "marker": {
             "colorbar": {
              "outlinewidth": 0,
              "ticks": ""
             }
            },
            "type": "scattermapbox"
           }
          ],
          "scatterpolar": [
           {
            "marker": {
             "colorbar": {
              "outlinewidth": 0,
              "ticks": ""
             }
            },
            "type": "scatterpolar"
           }
          ],
          "scatterpolargl": [
           {
            "marker": {
             "colorbar": {
              "outlinewidth": 0,
              "ticks": ""
             }
            },
            "type": "scatterpolargl"
           }
          ],
          "scatterternary": [
           {
            "marker": {
             "colorbar": {
              "outlinewidth": 0,
              "ticks": ""
             }
            },
            "type": "scatterternary"
           }
          ],
          "surface": [
           {
            "colorbar": {
             "outlinewidth": 0,
             "ticks": ""
            },
            "colorscale": [
             [
              0,
              "#0d0887"
             ],
             [
              0.1111111111111111,
              "#46039f"
             ],
             [
              0.2222222222222222,
              "#7201a8"
             ],
             [
              0.3333333333333333,
              "#9c179e"
             ],
             [
              0.4444444444444444,
              "#bd3786"
             ],
             [
              0.5555555555555556,
              "#d8576b"
             ],
             [
              0.6666666666666666,
              "#ed7953"
             ],
             [
              0.7777777777777778,
              "#fb9f3a"
             ],
             [
              0.8888888888888888,
              "#fdca26"
             ],
             [
              1,
              "#f0f921"
             ]
            ],
            "type": "surface"
           }
          ],
          "table": [
           {
            "cells": {
             "fill": {
              "color": "#EBF0F8"
             },
             "line": {
              "color": "white"
             }
            },
            "header": {
             "fill": {
              "color": "#C8D4E3"
             },
             "line": {
              "color": "white"
             }
            },
            "type": "table"
           }
          ]
         },
         "layout": {
          "annotationdefaults": {
           "arrowcolor": "#2a3f5f",
           "arrowhead": 0,
           "arrowwidth": 1
          },
          "autotypenumbers": "strict",
          "coloraxis": {
           "colorbar": {
            "outlinewidth": 0,
            "ticks": ""
           }
          },
          "colorscale": {
           "diverging": [
            [
             0,
             "#8e0152"
            ],
            [
             0.1,
             "#c51b7d"
            ],
            [
             0.2,
             "#de77ae"
            ],
            [
             0.3,
             "#f1b6da"
            ],
            [
             0.4,
             "#fde0ef"
            ],
            [
             0.5,
             "#f7f7f7"
            ],
            [
             0.6,
             "#e6f5d0"
            ],
            [
             0.7,
             "#b8e186"
            ],
            [
             0.8,
             "#7fbc41"
            ],
            [
             0.9,
             "#4d9221"
            ],
            [
             1,
             "#276419"
            ]
           ],
           "sequential": [
            [
             0,
             "#0d0887"
            ],
            [
             0.1111111111111111,
             "#46039f"
            ],
            [
             0.2222222222222222,
             "#7201a8"
            ],
            [
             0.3333333333333333,
             "#9c179e"
            ],
            [
             0.4444444444444444,
             "#bd3786"
            ],
            [
             0.5555555555555556,
             "#d8576b"
            ],
            [
             0.6666666666666666,
             "#ed7953"
            ],
            [
             0.7777777777777778,
             "#fb9f3a"
            ],
            [
             0.8888888888888888,
             "#fdca26"
            ],
            [
             1,
             "#f0f921"
            ]
           ],
           "sequentialminus": [
            [
             0,
             "#0d0887"
            ],
            [
             0.1111111111111111,
             "#46039f"
            ],
            [
             0.2222222222222222,
             "#7201a8"
            ],
            [
             0.3333333333333333,
             "#9c179e"
            ],
            [
             0.4444444444444444,
             "#bd3786"
            ],
            [
             0.5555555555555556,
             "#d8576b"
            ],
            [
             0.6666666666666666,
             "#ed7953"
            ],
            [
             0.7777777777777778,
             "#fb9f3a"
            ],
            [
             0.8888888888888888,
             "#fdca26"
            ],
            [
             1,
             "#f0f921"
            ]
           ]
          },
          "colorway": [
           "#636efa",
           "#EF553B",
           "#00cc96",
           "#ab63fa",
           "#FFA15A",
           "#19d3f3",
           "#FF6692",
           "#B6E880",
           "#FF97FF",
           "#FECB52"
          ],
          "font": {
           "color": "#2a3f5f"
          },
          "geo": {
           "bgcolor": "white",
           "lakecolor": "white",
           "landcolor": "#E5ECF6",
           "showlakes": true,
           "showland": true,
           "subunitcolor": "white"
          },
          "hoverlabel": {
           "align": "left"
          },
          "hovermode": "closest",
          "mapbox": {
           "style": "light"
          },
          "paper_bgcolor": "white",
          "plot_bgcolor": "#E5ECF6",
          "polar": {
           "angularaxis": {
            "gridcolor": "white",
            "linecolor": "white",
            "ticks": ""
           },
           "bgcolor": "#E5ECF6",
           "radialaxis": {
            "gridcolor": "white",
            "linecolor": "white",
            "ticks": ""
           }
          },
          "scene": {
           "xaxis": {
            "backgroundcolor": "#E5ECF6",
            "gridcolor": "white",
            "gridwidth": 2,
            "linecolor": "white",
            "showbackground": true,
            "ticks": "",
            "zerolinecolor": "white"
           },
           "yaxis": {
            "backgroundcolor": "#E5ECF6",
            "gridcolor": "white",
            "gridwidth": 2,
            "linecolor": "white",
            "showbackground": true,
            "ticks": "",
            "zerolinecolor": "white"
           },
           "zaxis": {
            "backgroundcolor": "#E5ECF6",
            "gridcolor": "white",
            "gridwidth": 2,
            "linecolor": "white",
            "showbackground": true,
            "ticks": "",
            "zerolinecolor": "white"
           }
          },
          "shapedefaults": {
           "line": {
            "color": "#2a3f5f"
           }
          },
          "ternary": {
           "aaxis": {
            "gridcolor": "white",
            "linecolor": "white",
            "ticks": ""
           },
           "baxis": {
            "gridcolor": "white",
            "linecolor": "white",
            "ticks": ""
           },
           "bgcolor": "#E5ECF6",
           "caxis": {
            "gridcolor": "white",
            "linecolor": "white",
            "ticks": ""
           }
          },
          "title": {
           "x": 0.05
          },
          "xaxis": {
           "automargin": true,
           "gridcolor": "white",
           "linecolor": "white",
           "ticks": "",
           "title": {
            "standoff": 15
           },
           "zerolinecolor": "white",
           "zerolinewidth": 2
          },
          "yaxis": {
           "automargin": true,
           "gridcolor": "white",
           "linecolor": "white",
           "ticks": "",
           "title": {
            "standoff": 15
           },
           "zerolinecolor": "white",
           "zerolinewidth": 2
          }
         }
        },
        "width": 1000,
        "xaxis": {
         "anchor": "y",
         "domain": [
          0,
          1
         ],
         "title": {
          "text": "year"
         }
        },
        "yaxis": {
         "anchor": "x",
         "domain": [
          0,
          1
         ],
         "title": {
          "text": "Enedc (g/km) mean"
         }
        }
       }
      }
     },
     "metadata": {},
     "output_type": "display_data"
    }
   ],
   "source": [
    "fig = px.scatter(car_emission, x='year', y= 'Enedc (g/km) mean', color='Mk')\n",
    "fig.update_layout(width= 1000, height=800)\n",
    "fig.show()"
   ]
  },
  {
   "cell_type": "code",
   "execution_count": 6,
   "metadata": {},
   "outputs": [
    {
     "data": {
      "application/vnd.plotly.v1+json": {
       "config": {
        "plotlyServerURL": "https://plot.ly"
       },
       "data": [
        {
         "hovertemplate": "Mk=Aiways<br>year=%{x}<br>Enedc (g/km) mean=%{y}<extra></extra>",
         "legendgroup": "Aiways",
         "marker": {
          "color": "#636efa",
          "symbol": "circle"
         },
         "mode": "markers",
         "name": "Aiways",
         "orientation": "v",
         "showlegend": true,
         "type": "scatter",
         "x": [
          2019,
          2020,
          2021
         ],
         "xaxis": "x",
         "y": [
          0,
          0,
          0
         ],
         "yaxis": "y"
        },
        {
         "hovertemplate": "Mk=Alfa Romeo<br>year=%{x}<br>Enedc (g/km) mean=%{y}<extra></extra>",
         "legendgroup": "Alfa Romeo",
         "marker": {
          "color": "#EF553B",
          "symbol": "circle"
         },
         "mode": "markers",
         "name": "Alfa Romeo",
         "orientation": "v",
         "showlegend": true,
         "type": "scatter",
         "x": [
          2015,
          2015,
          2015,
          2016,
          2016,
          2016,
          2017,
          2017,
          2017,
          2018,
          2018,
          2018,
          2019,
          2019,
          2020,
          2020,
          2021,
          2021
         ],
         "xaxis": "x",
         "y": [
          106.15023923444976,
          131.91304347826087,
          132.45917740945364,
          105.90448343079922,
          131.35714285714286,
          134.27784891165172,
          111.37896084498026,
          131.3170731707317,
          136.79885181975737,
          116.68955698852692,
          132.53354090008492,
          146.641618287373,
          145.07934943321834,
          170.84838160136286,
          145.07934943321834,
          170.84838160136286,
          145.07934943321834,
          170.84838160136286
         ],
         "yaxis": "y"
        },
        {
         "hovertemplate": "Mk=Alpina<br>year=%{x}<br>Enedc (g/km) mean=%{y}<extra></extra>",
         "legendgroup": "Alpina",
         "marker": {
          "color": "#00cc96",
          "symbol": "circle"
         },
         "mode": "markers",
         "name": "Alpina",
         "orientation": "v",
         "showlegend": true,
         "type": "scatter",
         "x": [
          2015,
          2015,
          2016,
          2016,
          2017,
          2017,
          2018,
          2018,
          2019,
          2019,
          2020,
          2020,
          2021,
          2021
         ],
         "xaxis": "x",
         "y": [
          156.16326530612244,
          199.26315789473685,
          153.27118644067798,
          200.7941176470588,
          152.80392156862746,
          210.52,
          164.45077720207254,
          223.16414141414143,
          null,
          null,
          null,
          null,
          null,
          null
         ],
         "yaxis": "y"
        },
        {
         "hovertemplate": "Mk=CUPRA<br>year=%{x}<br>Enedc (g/km) mean=%{y}<extra></extra>",
         "legendgroup": "CUPRA",
         "marker": {
          "color": "#636efa",
          "symbol": "circle"
         },
         "mode": "markers",
         "name": "CUPRA",
         "orientation": "v",
         "showlegend": true,
         "type": "scatter",
         "x": [
          2021,
          2021
         ],
         "xaxis": "x2",
         "y": [
          137.3877411254423,
          37.95716087982009
         ],
         "yaxis": "y2"
        },
        {
         "hovertemplate": "Mk=Cadillac<br>year=%{x}<br>Enedc (g/km) mean=%{y}<extra></extra>",
         "legendgroup": "Cadillac",
         "marker": {
          "color": "#EF553B",
          "symbol": "circle"
         },
         "mode": "markers",
         "name": "Cadillac",
         "orientation": "v",
         "showlegend": true,
         "type": "scatter",
         "x": [
          2015,
          2016,
          2017,
          2018,
          2019,
          2019,
          2020,
          2020,
          2021,
          2021
         ],
         "xaxis": "x2",
         "y": [
          228.29508196721312,
          240.68085106382975,
          251.72,
          254.2341857335128,
          161,
          202,
          161,
          202,
          161,
          202
         ],
         "yaxis": "y2"
        },
        {
         "hovertemplate": "Mk=Caterham<br>year=%{x}<br>Enedc (g/km) mean=%{y}<extra></extra>",
         "legendgroup": "Caterham",
         "marker": {
          "color": "#00cc96",
          "symbol": "circle"
         },
         "mode": "markers",
         "name": "Caterham",
         "orientation": "v",
         "showlegend": true,
         "type": "scatter",
         "x": [
          2015,
          2016,
          2017,
          2018,
          2019,
          2020,
          2021
         ],
         "xaxis": "x2",
         "y": [
          157.45945945945945,
          154.79166666666666,
          144.93684210526317,
          142.26470588235293,
          null,
          null,
          null
         ],
         "yaxis": "y2"
        },
        {
         "hovertemplate": "Mk=Dacia<br>year=%{x}<br>Enedc (g/km) mean=%{y}<extra></extra>",
         "legendgroup": "Dacia",
         "marker": {
          "color": "#636efa",
          "symbol": "circle"
         },
         "mode": "markers",
         "name": "Dacia",
         "orientation": "v",
         "showlegend": true,
         "type": "scatter",
         "x": [
          2020,
          2020,
          2020,
          2021,
          2021,
          2021,
          2021,
          2021
         ],
         "xaxis": "x3",
         "y": [
          111.998134618374,
          130.75,
          117.60235131396958,
          115.20444040937603,
          0,
          111.998134618374,
          130.75,
          117.60235131396958
         ],
         "yaxis": "y3"
        },
        {
         "hovertemplate": "Mk=Daihatsu<br>year=%{x}<br>Enedc (g/km) mean=%{y}<extra></extra>",
         "legendgroup": "Daihatsu",
         "marker": {
          "color": "#EF553B",
          "symbol": "circle"
         },
         "mode": "markers",
         "name": "Daihatsu",
         "orientation": "v",
         "showlegend": true,
         "type": "scatter",
         "x": [
          2015,
          2016,
          2017,
          2018
         ],
         "xaxis": "x3",
         "y": [
          159,
          181,
          161.5,
          176
         ],
         "yaxis": "y3"
        },
        {
         "hovertemplate": "Mk=Dallara<br>year=%{x}<br>Enedc (g/km) mean=%{y}<extra></extra>",
         "legendgroup": "Dallara",
         "marker": {
          "color": "#00cc96",
          "symbol": "circle"
         },
         "mode": "markers",
         "name": "Dallara",
         "orientation": "v",
         "showlegend": true,
         "type": "scatter",
         "x": [
          2018,
          2019,
          2020,
          2021
         ],
         "xaxis": "x3",
         "y": [
          220.66666666666663,
          null,
          null,
          null
         ],
         "yaxis": "y3"
        },
        {
         "hovertemplate": "Mk=Hyundai<br>year=%{x}<br>Enedc (g/km) mean=%{y}<extra></extra>",
         "legendgroup": "Hyundai",
         "marker": {
          "color": "#636efa",
          "symbol": "circle"
         },
         "mode": "markers",
         "name": "Hyundai",
         "orientation": "v",
         "showlegend": true,
         "type": "scatter",
         "x": [
          2019,
          2019,
          2019,
          2019,
          2019,
          2020,
          2020,
          2020,
          2020,
          2020,
          2020,
          2021,
          2021,
          2021,
          2021,
          2021,
          2021
         ],
         "xaxis": "x4",
         "y": [
          127,
          0,
          132,
          118.91750152862048,
          32.90696686491079,
          128.94182509505703,
          127,
          0,
          132,
          118.91750152862048,
          32.90696686491079,
          128.94182509505703,
          127,
          0,
          132,
          118.91750152862048,
          32.90696686491079
         ],
         "yaxis": "y4"
        },
        {
         "hovertemplate": "Mk=IVECO<br>year=%{x}<br>Enedc (g/km) mean=%{y}<extra></extra>",
         "legendgroup": "IVECO",
         "marker": {
          "color": "#EF553B",
          "symbol": "circle"
         },
         "mode": "markers",
         "name": "IVECO",
         "orientation": "v",
         "showlegend": true,
         "type": "scatter",
         "x": [
          2015,
          2015,
          2016,
          2017,
          2017,
          2018
         ],
         "xaxis": "x4",
         "y": [
          222.75,
          370,
          219.3684210526316,
          214.33333333333331,
          null,
          209
         ],
         "yaxis": "y4"
        },
        {
         "hovertemplate": "Mk=Infiniti<br>year=%{x}<br>Enedc (g/km) mean=%{y}<extra></extra>",
         "legendgroup": "Infiniti",
         "marker": {
          "color": "#00cc96",
          "symbol": "circle"
         },
         "mode": "markers",
         "name": "Infiniti",
         "orientation": "v",
         "showlegend": true,
         "type": "scatter",
         "x": [
          2015,
          2015,
          2015,
          2016,
          2016,
          2017,
          2017,
          2017,
          2018,
          2018,
          2019,
          2020,
          2021
         ],
         "xaxis": "x4",
         "y": [
          147.86522911051213,
          190.33877551020407,
          151.75,
          129.7920634920635,
          174.32686084142395,
          124.76846011131724,
          163.11330049261085,
          154.33333333333334,
          120.50932568149211,
          186.22079824240203,
          null,
          null,
          null
         ],
         "yaxis": "y4"
        },
        {
         "hovertemplate": "Mk=Lancia<br>year=%{x}<br>Enedc (g/km) mean=%{y}<extra></extra>",
         "legendgroup": "Lancia",
         "marker": {
          "color": "#636efa",
          "symbol": "circle"
         },
         "mode": "markers",
         "name": "Lancia",
         "orientation": "v",
         "showlegend": true,
         "type": "scatter",
         "x": [
          2020,
          2020,
          2020,
          2021,
          2021,
          2021,
          2021
         ],
         "xaxis": "x5",
         "y": [
          null,
          null,
          null,
          null,
          null,
          null,
          null
         ],
         "yaxis": "y5"
        },
        {
         "hovertemplate": "Mk=Lexus<br>year=%{x}<br>Enedc (g/km) mean=%{y}<extra></extra>",
         "legendgroup": "Lexus",
         "marker": {
          "color": "#EF553B",
          "symbol": "circle"
         },
         "mode": "markers",
         "name": "Lexus",
         "orientation": "v",
         "showlegend": true,
         "type": "scatter",
         "x": [
          2015,
          2015,
          2015,
          2016,
          2016,
          2017,
          2017,
          2018,
          2019,
          2019,
          2019,
          2019,
          2020,
          2020,
          2020,
          2020,
          2021,
          2021,
          2021,
          2021
         ],
         "xaxis": "x5",
         "y": [
          116.75,
          130.1832202344232,
          118.16666666666669,
          130.29885931558934,
          null,
          125.11798478541697,
          119.6,
          121.96312337884794,
          null,
          0,
          114.18757080433728,
          103,
          null,
          0,
          114.18757080433728,
          103,
          null,
          0,
          114.18757080433728,
          103
         ],
         "yaxis": "y5"
        },
        {
         "hovertemplate": "Mk=Lotus<br>year=%{x}<br>Enedc (g/km) mean=%{y}<extra></extra>",
         "legendgroup": "Lotus",
         "marker": {
          "color": "#00cc96",
          "symbol": "circle"
         },
         "mode": "markers",
         "name": "Lotus",
         "orientation": "v",
         "showlegend": true,
         "type": "scatter",
         "x": [
          2015,
          2016,
          2017,
          2018,
          2018,
          2019,
          2020,
          2021
         ],
         "xaxis": "x5",
         "y": [
          204.9333333333333,
          206.396,
          203.6818181818182,
          240,
          207.55014749262537,
          null,
          null,
          null
         ],
         "yaxis": "y5"
        },
        {
         "hovertemplate": "Mk=Mitsubishi<br>year=%{x}<br>Enedc (g/km) mean=%{y}<extra></extra>",
         "legendgroup": "Mitsubishi",
         "marker": {
          "color": "#636efa",
          "symbol": "circle"
         },
         "mode": "markers",
         "name": "Mitsubishi",
         "orientation": "v",
         "showlegend": true,
         "type": "scatter",
         "x": [
          2020,
          2020,
          2020,
          2020,
          2020,
          2021,
          2021,
          2021,
          2021,
          2021,
          2021
         ],
         "xaxis": "x6",
         "y": [
          40,
          0,
          145.5,
          140.3723114207816,
          39.91819815641487,
          null,
          40,
          0,
          145.5,
          140.3723114207816,
          39.91819815641487
         ],
         "yaxis": "y6"
        },
        {
         "hovertemplate": "Mk=Morgan<br>year=%{x}<br>Enedc (g/km) mean=%{y}<extra></extra>",
         "legendgroup": "Morgan",
         "marker": {
          "color": "#EF553B",
          "symbol": "circle"
         },
         "mode": "markers",
         "name": "Morgan",
         "orientation": "v",
         "showlegend": true,
         "type": "scatter",
         "x": [
          2015,
          2016,
          2017,
          2018,
          2019,
          2020,
          2021
         ],
         "xaxis": "x6",
         "y": [
          199.7669172932331,
          200.1895424836601,
          197.45049504950492,
          194.2844243792325,
          156,
          156,
          156
         ],
         "yaxis": "y6"
        },
        {
         "hovertemplate": "Mk=Nissan<br>year=%{x}<br>Enedc (g/km) mean=%{y}<extra></extra>",
         "legendgroup": "Nissan",
         "marker": {
          "color": "#00cc96",
          "symbol": "circle"
         },
         "mode": "markers",
         "name": "Nissan",
         "orientation": "v",
         "showlegend": true,
         "type": "scatter",
         "x": [
          2015,
          2015,
          2015,
          2015,
          2016,
          2016,
          2016,
          2016,
          2016,
          2017,
          2017,
          2017,
          2017,
          2018,
          2018,
          2018,
          2018,
          2019,
          2019,
          2019,
          2019,
          2019,
          2020,
          2020,
          2020,
          2020,
          2020,
          2021,
          2021,
          2021,
          2021,
          2021
         ],
         "xaxis": "x6",
         "y": [
          120.81128029165774,
          0,
          103.46153846153848,
          132.77395915161037,
          119.00320898515844,
          0,
          111.69565217391305,
          169,
          132.7177795031056,
          114.03359258042136,
          0,
          119.4,
          124.89714576709062,
          113.7461424270302,
          0,
          130.2653271509531,
          128.35760578883162,
          117.96,
          0,
          null,
          121.72829012002904,
          null,
          117.96,
          0,
          null,
          121.72829012002904,
          null,
          117.96,
          0,
          null,
          121.72829012002904,
          null
         ],
         "yaxis": "y6"
        },
        {
         "hovertemplate": "Mk=Renault<br>year=%{x}<br>Enedc (g/km) mean=%{y}<extra></extra>",
         "legendgroup": "Renault",
         "marker": {
          "color": "#636efa",
          "symbol": "circle"
         },
         "mode": "markers",
         "name": "Renault",
         "orientation": "v",
         "showlegend": true,
         "type": "scatter",
         "x": [
          2021,
          2021,
          2021,
          2021,
          2021,
          2021,
          2021
         ],
         "xaxis": "x7",
         "y": [
          114.01650008871016,
          0,
          118.87007874015748,
          109.45524296675192,
          118,
          117.05252792122012,
          31.718329878590463
         ],
         "yaxis": "y7"
        },
        {
         "hovertemplate": "Mk=Rolls Royce<br>year=%{x}<br>Enedc (g/km) mean=%{y}<extra></extra>",
         "legendgroup": "Rolls Royce",
         "marker": {
          "color": "#EF553B",
          "symbol": "circle"
         },
         "mode": "markers",
         "name": "Rolls Royce",
         "orientation": "v",
         "showlegend": true,
         "type": "scatter",
         "x": [
          2015,
          2016,
          2017,
          2018,
          2019,
          2020,
          2021
         ],
         "xaxis": "x7",
         "y": [
          334.25925925925924,
          333.2162162162162,
          329.39130434782606,
          326.4048,
          345.6666666666667,
          345.6666666666667,
          345.6666666666667
         ],
         "yaxis": "y7"
        },
        {
         "hovertemplate": "Mk=Rover<br>year=%{x}<br>Enedc (g/km) mean=%{y}<extra></extra>",
         "legendgroup": "Rover",
         "marker": {
          "color": "#00cc96",
          "symbol": "circle"
         },
         "mode": "markers",
         "name": "Rover",
         "orientation": "v",
         "showlegend": true,
         "type": "scatter",
         "x": [
          2015,
          2015,
          2016,
          2017,
          2017,
          2018,
          2019,
          2019,
          2020,
          2020,
          2021,
          2021
         ],
         "xaxis": "x7",
         "y": [
          160.58333333333334,
          null,
          null,
          169.55555555555554,
          299,
          103.36746987951808,
          159,
          null,
          159,
          null,
          159,
          null
         ],
         "yaxis": "y7"
        },
        {
         "hovertemplate": "Mk=Suzuki<br>year=%{x}<br>Enedc (g/km) mean=%{y}<extra></extra>",
         "legendgroup": "Suzuki",
         "marker": {
          "color": "#636efa",
          "symbol": "circle"
         },
         "mode": "markers",
         "name": "Suzuki",
         "orientation": "v",
         "showlegend": true,
         "type": "scatter",
         "x": [
          2018,
          2018,
          2019,
          2019,
          2019,
          2019,
          2019,
          2020,
          2020,
          2020,
          2020,
          2020,
          2021,
          2021,
          2021,
          2021,
          2021
         ],
         "xaxis": "x8",
         "y": [
          114.4784030920478,
          94.61904761904762,
          null,
          null,
          114,
          108.92594699124103,
          41.29395973154362,
          null,
          null,
          114,
          108.92594699124103,
          41.29395973154362,
          null,
          null,
          114,
          108.92594699124103,
          41.29395973154362
         ],
         "yaxis": "y8"
        },
        {
         "hovertemplate": "Mk=Tesla<br>year=%{x}<br>Enedc (g/km) mean=%{y}<extra></extra>",
         "legendgroup": "Tesla",
         "marker": {
          "color": "#EF553B",
          "symbol": "circle"
         },
         "mode": "markers",
         "name": "Tesla",
         "orientation": "v",
         "showlegend": true,
         "type": "scatter",
         "x": [
          2015,
          2016,
          2017,
          2018,
          2019,
          2020,
          2021
         ],
         "xaxis": "x8",
         "y": [
          0,
          0,
          0,
          0,
          0,
          0,
          0
         ],
         "yaxis": "y8"
        },
        {
         "hovertemplate": "Mk=Toyota<br>year=%{x}<br>Enedc (g/km) mean=%{y}<extra></extra>",
         "legendgroup": "Toyota",
         "marker": {
          "color": "#00cc96",
          "symbol": "circle"
         },
         "mode": "markers",
         "name": "Toyota",
         "orientation": "v",
         "showlegend": true,
         "type": "scatter",
         "x": [
          2015,
          2015,
          2015,
          2015,
          2015,
          2015,
          2016,
          2016,
          2016,
          2016,
          2017,
          2017,
          2017,
          2017,
          2017,
          2018,
          2018,
          2018,
          2018,
          2019,
          2019,
          2019,
          2019,
          2019,
          2019,
          2019,
          2020,
          2020,
          2020,
          2020,
          2020,
          2020,
          2020,
          2021,
          2021,
          2021,
          2021,
          2021,
          2021,
          2021
         ],
         "xaxis": "x8",
         "y": [
          131.76378600823045,
          0,
          158.66666666666666,
          null,
          119.617577509196,
          61.76470588235294,
          125.25715214564369,
          134.1981776765376,
          114.84093822096898,
          77.0625,
          118.06765600516177,
          94.61764705882354,
          null,
          102.19581777111802,
          23.888010540184453,
          138.7333972594265,
          0,
          99.10367772179522,
          null,
          151.59054813093164,
          0,
          106.3734939759036,
          106,
          null,
          90.50056466723132,
          27.57792504570384,
          151.59054813093164,
          0,
          106.3734939759036,
          106,
          null,
          90.50056466723132,
          27.57792504570384,
          151.59054813093164,
          0,
          106.3734939759036,
          106,
          null,
          90.50056466723132,
          27.57792504570384
         ],
         "yaxis": "y8"
        }
       ],
       "layout": {
        "height": 1000,
        "showlegend": true,
        "template": {
         "data": {
          "bar": [
           {
            "error_x": {
             "color": "#2a3f5f"
            },
            "error_y": {
             "color": "#2a3f5f"
            },
            "marker": {
             "line": {
              "color": "#E5ECF6",
              "width": 0.5
             },
             "pattern": {
              "fillmode": "overlay",
              "size": 10,
              "solidity": 0.2
             }
            },
            "type": "bar"
           }
          ],
          "barpolar": [
           {
            "marker": {
             "line": {
              "color": "#E5ECF6",
              "width": 0.5
             },
             "pattern": {
              "fillmode": "overlay",
              "size": 10,
              "solidity": 0.2
             }
            },
            "type": "barpolar"
           }
          ],
          "carpet": [
           {
            "aaxis": {
             "endlinecolor": "#2a3f5f",
             "gridcolor": "white",
             "linecolor": "white",
             "minorgridcolor": "white",
             "startlinecolor": "#2a3f5f"
            },
            "baxis": {
             "endlinecolor": "#2a3f5f",
             "gridcolor": "white",
             "linecolor": "white",
             "minorgridcolor": "white",
             "startlinecolor": "#2a3f5f"
            },
            "type": "carpet"
           }
          ],
          "choropleth": [
           {
            "colorbar": {
             "outlinewidth": 0,
             "ticks": ""
            },
            "type": "choropleth"
           }
          ],
          "contour": [
           {
            "colorbar": {
             "outlinewidth": 0,
             "ticks": ""
            },
            "colorscale": [
             [
              0,
              "#0d0887"
             ],
             [
              0.1111111111111111,
              "#46039f"
             ],
             [
              0.2222222222222222,
              "#7201a8"
             ],
             [
              0.3333333333333333,
              "#9c179e"
             ],
             [
              0.4444444444444444,
              "#bd3786"
             ],
             [
              0.5555555555555556,
              "#d8576b"
             ],
             [
              0.6666666666666666,
              "#ed7953"
             ],
             [
              0.7777777777777778,
              "#fb9f3a"
             ],
             [
              0.8888888888888888,
              "#fdca26"
             ],
             [
              1,
              "#f0f921"
             ]
            ],
            "type": "contour"
           }
          ],
          "contourcarpet": [
           {
            "colorbar": {
             "outlinewidth": 0,
             "ticks": ""
            },
            "type": "contourcarpet"
           }
          ],
          "heatmap": [
           {
            "colorbar": {
             "outlinewidth": 0,
             "ticks": ""
            },
            "colorscale": [
             [
              0,
              "#0d0887"
             ],
             [
              0.1111111111111111,
              "#46039f"
             ],
             [
              0.2222222222222222,
              "#7201a8"
             ],
             [
              0.3333333333333333,
              "#9c179e"
             ],
             [
              0.4444444444444444,
              "#bd3786"
             ],
             [
              0.5555555555555556,
              "#d8576b"
             ],
             [
              0.6666666666666666,
              "#ed7953"
             ],
             [
              0.7777777777777778,
              "#fb9f3a"
             ],
             [
              0.8888888888888888,
              "#fdca26"
             ],
             [
              1,
              "#f0f921"
             ]
            ],
            "type": "heatmap"
           }
          ],
          "heatmapgl": [
           {
            "colorbar": {
             "outlinewidth": 0,
             "ticks": ""
            },
            "colorscale": [
             [
              0,
              "#0d0887"
             ],
             [
              0.1111111111111111,
              "#46039f"
             ],
             [
              0.2222222222222222,
              "#7201a8"
             ],
             [
              0.3333333333333333,
              "#9c179e"
             ],
             [
              0.4444444444444444,
              "#bd3786"
             ],
             [
              0.5555555555555556,
              "#d8576b"
             ],
             [
              0.6666666666666666,
              "#ed7953"
             ],
             [
              0.7777777777777778,
              "#fb9f3a"
             ],
             [
              0.8888888888888888,
              "#fdca26"
             ],
             [
              1,
              "#f0f921"
             ]
            ],
            "type": "heatmapgl"
           }
          ],
          "histogram": [
           {
            "marker": {
             "pattern": {
              "fillmode": "overlay",
              "size": 10,
              "solidity": 0.2
             }
            },
            "type": "histogram"
           }
          ],
          "histogram2d": [
           {
            "colorbar": {
             "outlinewidth": 0,
             "ticks": ""
            },
            "colorscale": [
             [
              0,
              "#0d0887"
             ],
             [
              0.1111111111111111,
              "#46039f"
             ],
             [
              0.2222222222222222,
              "#7201a8"
             ],
             [
              0.3333333333333333,
              "#9c179e"
             ],
             [
              0.4444444444444444,
              "#bd3786"
             ],
             [
              0.5555555555555556,
              "#d8576b"
             ],
             [
              0.6666666666666666,
              "#ed7953"
             ],
             [
              0.7777777777777778,
              "#fb9f3a"
             ],
             [
              0.8888888888888888,
              "#fdca26"
             ],
             [
              1,
              "#f0f921"
             ]
            ],
            "type": "histogram2d"
           }
          ],
          "histogram2dcontour": [
           {
            "colorbar": {
             "outlinewidth": 0,
             "ticks": ""
            },
            "colorscale": [
             [
              0,
              "#0d0887"
             ],
             [
              0.1111111111111111,
              "#46039f"
             ],
             [
              0.2222222222222222,
              "#7201a8"
             ],
             [
              0.3333333333333333,
              "#9c179e"
             ],
             [
              0.4444444444444444,
              "#bd3786"
             ],
             [
              0.5555555555555556,
              "#d8576b"
             ],
             [
              0.6666666666666666,
              "#ed7953"
             ],
             [
              0.7777777777777778,
              "#fb9f3a"
             ],
             [
              0.8888888888888888,
              "#fdca26"
             ],
             [
              1,
              "#f0f921"
             ]
            ],
            "type": "histogram2dcontour"
           }
          ],
          "mesh3d": [
           {
            "colorbar": {
             "outlinewidth": 0,
             "ticks": ""
            },
            "type": "mesh3d"
           }
          ],
          "parcoords": [
           {
            "line": {
             "colorbar": {
              "outlinewidth": 0,
              "ticks": ""
             }
            },
            "type": "parcoords"
           }
          ],
          "pie": [
           {
            "automargin": true,
            "type": "pie"
           }
          ],
          "scatter": [
           {
            "fillpattern": {
             "fillmode": "overlay",
             "size": 10,
             "solidity": 0.2
            },
            "type": "scatter"
           }
          ],
          "scatter3d": [
           {
            "line": {
             "colorbar": {
              "outlinewidth": 0,
              "ticks": ""
             }
            },
            "marker": {
             "colorbar": {
              "outlinewidth": 0,
              "ticks": ""
             }
            },
            "type": "scatter3d"
           }
          ],
          "scattercarpet": [
           {
            "marker": {
             "colorbar": {
              "outlinewidth": 0,
              "ticks": ""
             }
            },
            "type": "scattercarpet"
           }
          ],
          "scattergeo": [
           {
            "marker": {
             "colorbar": {
              "outlinewidth": 0,
              "ticks": ""
             }
            },
            "type": "scattergeo"
           }
          ],
          "scattergl": [
           {
            "marker": {
             "colorbar": {
              "outlinewidth": 0,
              "ticks": ""
             }
            },
            "type": "scattergl"
           }
          ],
          "scattermapbox": [
           {
            "marker": {
             "colorbar": {
              "outlinewidth": 0,
              "ticks": ""
             }
            },
            "type": "scattermapbox"
           }
          ],
          "scatterpolar": [
           {
            "marker": {
             "colorbar": {
              "outlinewidth": 0,
              "ticks": ""
             }
            },
            "type": "scatterpolar"
           }
          ],
          "scatterpolargl": [
           {
            "marker": {
             "colorbar": {
              "outlinewidth": 0,
              "ticks": ""
             }
            },
            "type": "scatterpolargl"
           }
          ],
          "scatterternary": [
           {
            "marker": {
             "colorbar": {
              "outlinewidth": 0,
              "ticks": ""
             }
            },
            "type": "scatterternary"
           }
          ],
          "surface": [
           {
            "colorbar": {
             "outlinewidth": 0,
             "ticks": ""
            },
            "colorscale": [
             [
              0,
              "#0d0887"
             ],
             [
              0.1111111111111111,
              "#46039f"
             ],
             [
              0.2222222222222222,
              "#7201a8"
             ],
             [
              0.3333333333333333,
              "#9c179e"
             ],
             [
              0.4444444444444444,
              "#bd3786"
             ],
             [
              0.5555555555555556,
              "#d8576b"
             ],
             [
              0.6666666666666666,
              "#ed7953"
             ],
             [
              0.7777777777777778,
              "#fb9f3a"
             ],
             [
              0.8888888888888888,
              "#fdca26"
             ],
             [
              1,
              "#f0f921"
             ]
            ],
            "type": "surface"
           }
          ],
          "table": [
           {
            "cells": {
             "fill": {
              "color": "#EBF0F8"
             },
             "line": {
              "color": "white"
             }
            },
            "header": {
             "fill": {
              "color": "#C8D4E3"
             },
             "line": {
              "color": "white"
             }
            },
            "type": "table"
           }
          ]
         },
         "layout": {
          "annotationdefaults": {
           "arrowcolor": "#2a3f5f",
           "arrowhead": 0,
           "arrowwidth": 1
          },
          "autotypenumbers": "strict",
          "coloraxis": {
           "colorbar": {
            "outlinewidth": 0,
            "ticks": ""
           }
          },
          "colorscale": {
           "diverging": [
            [
             0,
             "#8e0152"
            ],
            [
             0.1,
             "#c51b7d"
            ],
            [
             0.2,
             "#de77ae"
            ],
            [
             0.3,
             "#f1b6da"
            ],
            [
             0.4,
             "#fde0ef"
            ],
            [
             0.5,
             "#f7f7f7"
            ],
            [
             0.6,
             "#e6f5d0"
            ],
            [
             0.7,
             "#b8e186"
            ],
            [
             0.8,
             "#7fbc41"
            ],
            [
             0.9,
             "#4d9221"
            ],
            [
             1,
             "#276419"
            ]
           ],
           "sequential": [
            [
             0,
             "#0d0887"
            ],
            [
             0.1111111111111111,
             "#46039f"
            ],
            [
             0.2222222222222222,
             "#7201a8"
            ],
            [
             0.3333333333333333,
             "#9c179e"
            ],
            [
             0.4444444444444444,
             "#bd3786"
            ],
            [
             0.5555555555555556,
             "#d8576b"
            ],
            [
             0.6666666666666666,
             "#ed7953"
            ],
            [
             0.7777777777777778,
             "#fb9f3a"
            ],
            [
             0.8888888888888888,
             "#fdca26"
            ],
            [
             1,
             "#f0f921"
            ]
           ],
           "sequentialminus": [
            [
             0,
             "#0d0887"
            ],
            [
             0.1111111111111111,
             "#46039f"
            ],
            [
             0.2222222222222222,
             "#7201a8"
            ],
            [
             0.3333333333333333,
             "#9c179e"
            ],
            [
             0.4444444444444444,
             "#bd3786"
            ],
            [
             0.5555555555555556,
             "#d8576b"
            ],
            [
             0.6666666666666666,
             "#ed7953"
            ],
            [
             0.7777777777777778,
             "#fb9f3a"
            ],
            [
             0.8888888888888888,
             "#fdca26"
            ],
            [
             1,
             "#f0f921"
            ]
           ]
          },
          "colorway": [
           "#636efa",
           "#EF553B",
           "#00cc96",
           "#ab63fa",
           "#FFA15A",
           "#19d3f3",
           "#FF6692",
           "#B6E880",
           "#FF97FF",
           "#FECB52"
          ],
          "font": {
           "color": "#2a3f5f"
          },
          "geo": {
           "bgcolor": "white",
           "lakecolor": "white",
           "landcolor": "#E5ECF6",
           "showlakes": true,
           "showland": true,
           "subunitcolor": "white"
          },
          "hoverlabel": {
           "align": "left"
          },
          "hovermode": "closest",
          "mapbox": {
           "style": "light"
          },
          "paper_bgcolor": "white",
          "plot_bgcolor": "#E5ECF6",
          "polar": {
           "angularaxis": {
            "gridcolor": "white",
            "linecolor": "white",
            "ticks": ""
           },
           "bgcolor": "#E5ECF6",
           "radialaxis": {
            "gridcolor": "white",
            "linecolor": "white",
            "ticks": ""
           }
          },
          "scene": {
           "xaxis": {
            "backgroundcolor": "#E5ECF6",
            "gridcolor": "white",
            "gridwidth": 2,
            "linecolor": "white",
            "showbackground": true,
            "ticks": "",
            "zerolinecolor": "white"
           },
           "yaxis": {
            "backgroundcolor": "#E5ECF6",
            "gridcolor": "white",
            "gridwidth": 2,
            "linecolor": "white",
            "showbackground": true,
            "ticks": "",
            "zerolinecolor": "white"
           },
           "zaxis": {
            "backgroundcolor": "#E5ECF6",
            "gridcolor": "white",
            "gridwidth": 2,
            "linecolor": "white",
            "showbackground": true,
            "ticks": "",
            "zerolinecolor": "white"
           }
          },
          "shapedefaults": {
           "line": {
            "color": "#2a3f5f"
           }
          },
          "ternary": {
           "aaxis": {
            "gridcolor": "white",
            "linecolor": "white",
            "ticks": ""
           },
           "baxis": {
            "gridcolor": "white",
            "linecolor": "white",
            "ticks": ""
           },
           "bgcolor": "#E5ECF6",
           "caxis": {
            "gridcolor": "white",
            "linecolor": "white",
            "ticks": ""
           }
          },
          "title": {
           "x": 0.05
          },
          "xaxis": {
           "automargin": true,
           "gridcolor": "white",
           "linecolor": "white",
           "ticks": "",
           "title": {
            "standoff": 15
           },
           "zerolinecolor": "white",
           "zerolinewidth": 2
          },
          "yaxis": {
           "automargin": true,
           "gridcolor": "white",
           "linecolor": "white",
           "ticks": "",
           "title": {
            "standoff": 15
           },
           "zerolinecolor": "white",
           "zerolinewidth": 2
          }
         }
        },
        "width": 1000,
        "xaxis": {
         "anchor": "y",
         "domain": [
          0,
          0.2888888888888889
         ]
        },
        "xaxis2": {
         "anchor": "y2",
         "domain": [
          0.35555555555555557,
          0.6444444444444445
         ]
        },
        "xaxis3": {
         "anchor": "y3",
         "domain": [
          0.7111111111111111,
          1
         ]
        },
        "xaxis4": {
         "anchor": "y4",
         "domain": [
          0,
          0.2888888888888889
         ]
        },
        "xaxis5": {
         "anchor": "y5",
         "domain": [
          0.35555555555555557,
          0.6444444444444445
         ]
        },
        "xaxis6": {
         "anchor": "y6",
         "domain": [
          0.7111111111111111,
          1
         ]
        },
        "xaxis7": {
         "anchor": "y7",
         "domain": [
          0,
          0.2888888888888889
         ]
        },
        "xaxis8": {
         "anchor": "y8",
         "domain": [
          0.35555555555555557,
          0.6444444444444445
         ]
        },
        "xaxis9": {
         "anchor": "y9",
         "domain": [
          0.7111111111111111,
          1
         ]
        },
        "yaxis": {
         "anchor": "x",
         "domain": [
          0.7333333333333333,
          1
         ]
        },
        "yaxis2": {
         "anchor": "x2",
         "domain": [
          0.7333333333333333,
          1
         ]
        },
        "yaxis3": {
         "anchor": "x3",
         "domain": [
          0.7333333333333333,
          1
         ]
        },
        "yaxis4": {
         "anchor": "x4",
         "domain": [
          0.36666666666666664,
          0.6333333333333333
         ]
        },
        "yaxis5": {
         "anchor": "x5",
         "domain": [
          0.36666666666666664,
          0.6333333333333333
         ]
        },
        "yaxis6": {
         "anchor": "x6",
         "domain": [
          0.36666666666666664,
          0.6333333333333333
         ]
        },
        "yaxis7": {
         "anchor": "x7",
         "domain": [
          0,
          0.26666666666666666
         ]
        },
        "yaxis8": {
         "anchor": "x8",
         "domain": [
          0,
          0.26666666666666666
         ]
        },
        "yaxis9": {
         "anchor": "x9",
         "domain": [
          0,
          0.26666666666666666
         ]
        }
       }
      }
     },
     "metadata": {},
     "output_type": "display_data"
    }
   ],
   "source": [
    "\n",
    "\n",
    "df_split = np.array_split(car_emission, 8)\n",
    "\n",
    "plot1 = px.scatter(df_split[0], x='year', y='Enedc (g/km) mean', color='Mk')\n",
    "plot2 = px.scatter(df_split[1], x='year', y='Enedc (g/km) mean', color='Mk')\n",
    "plot3 = px.scatter(df_split[2], x='year', y='Enedc (g/km) mean', color='Mk')\n",
    "plot4 = px.scatter(df_split[3], x='year', y='Enedc (g/km) mean', color='Mk')\n",
    "plot5 = px.scatter(df_split[4], x='year', y='Enedc (g/km) mean', color='Mk')\n",
    "plot6 = px.scatter(df_split[5], x='year', y='Enedc (g/km) mean', color='Mk')\n",
    "plot7 = px.scatter(df_split[6], x='year', y='Enedc (g/km) mean', color='Mk')\n",
    "plot8 = px.scatter(df_split[7], x='year', y='Enedc (g/km) mean', color='Mk')\n",
    "\n",
    "\n",
    "\n",
    "#print(plot1['data'][0],plot1['data'][1],plot1['data'][2], end='\\n')\n",
    "\n",
    "fig = make_subplots(rows=3, cols=3, specs=[[{\"type\": \"scatter\"}, {\"type\": \"scatter\"}, {\"type\": \"scatter\"}],\n",
    "                                           [{\"type\": \"scatter\"}, {\"type\": \"scatter\"}, {\"type\": \"scatter\"}],\n",
    "                                           [{\"type\": \"scatter\"}, {\"type\": \"scatter\"}, {\"type\": \"scatter\"}]])\n",
    "\n",
    "fig.append_trace(plot1['data'][0], row=1, col=1)\n",
    "fig.append_trace(plot1['data'][1], row=1, col=1)\n",
    "fig.append_trace(plot1['data'][2], row=1, col=1)\n",
    "\n",
    "fig.append_trace(plot2['data'][0], row=1, col=2)\n",
    "fig.append_trace(plot2['data'][1], row=1, col=2)\n",
    "fig.append_trace(plot2['data'][2], row=1, col=2)\n",
    "\n",
    "fig.append_trace(plot3['data'][0], row=1, col=3)\n",
    "fig.append_trace(plot3['data'][1], row=1, col=3)\n",
    "fig.append_trace(plot3['data'][2], row=1, col=3)\n",
    "\n",
    "fig.append_trace(plot4['data'][0], row=2, col=1)\n",
    "fig.append_trace(plot4['data'][1], row=2, col=1)\n",
    "fig.append_trace(plot4['data'][2], row=2, col=1)\n",
    "\n",
    "fig.append_trace(plot5['data'][0], row=2, col=2)\n",
    "fig.append_trace(plot5['data'][1], row=2, col=2)\n",
    "fig.append_trace(plot5['data'][2], row=2, col=2)\n",
    "\n",
    "fig.append_trace(plot6['data'][0], row=2, col=3)\n",
    "fig.append_trace(plot6['data'][1], row=2, col=3)\n",
    "fig.append_trace(plot6['data'][2], row=2, col=3)\n",
    "\n",
    "fig.append_trace(plot7['data'][0], row=3, col=1)\n",
    "fig.append_trace(plot7['data'][1], row=3, col=1)\n",
    "fig.append_trace(plot7['data'][2], row=3, col=1)\n",
    "\n",
    "fig.append_trace(plot8['data'][0], row=3, col=2)\n",
    "fig.append_trace(plot8['data'][1], row=3, col=2)\n",
    "fig.append_trace(plot8['data'][2], row=3, col=2)\n",
    "\n",
    "fig.update_layout(showlegend=True, height=1000, width=1000)\n",
    "fig.show()\n",
    "\n",
    "\n",
    "\n",
    "\n",
    "\n",
    "\n"
   ]
  },
  {
   "cell_type": "code",
   "execution_count": null,
   "metadata": {},
   "outputs": [],
   "source": []
  },
  {
   "attachments": {},
   "cell_type": "markdown",
   "metadata": {},
   "source": [
    "\n",
    "## Reflectie\n"
   ]
  },
  {
   "attachments": {},
   "cell_type": "markdown",
   "metadata": {},
   "source": [
    "\n",
    "## Werk Distributie\n"
   ]
  },
  {
   "attachments": {},
   "cell_type": "markdown",
   "metadata": {},
   "source": [
    "\n",
    "## Links\n",
    "\n",
    "Originele dataset: https://www.eea.europa.eu/data-and-maps/data/co2-cars-emission-22\n",
    "\n",
    "GitHub repository: https://github.com/FuYoshi/data_story_project\n",
    "\n",
    "Verwerkte dataset: https://www.kaggle.com/datasets/yoshifu/co2-emission-from-cars-2015-2021\n"
   ]
  },
  {
   "cell_type": "code",
   "execution_count": null,
   "metadata": {},
   "outputs": [],
   "source": []
  }
 ],
 "metadata": {
  "celltoolbar": "Tags",
  "kernelspec": {
   "display_name": "base",
   "language": "python",
   "name": "python3"
  },
  "language_info": {
   "codemirror_mode": {
    "name": "ipython",
    "version": 3
   },
   "file_extension": ".py",
   "mimetype": "text/x-python",
   "name": "python",
   "nbconvert_exporter": "python",
   "pygments_lexer": "ipython3",
   "version": "3.8.8"
  },
  "vscode": {
   "interpreter": {
    "hash": "e1bec64cc1af469e210f32c2a621cb7cf3dfe6c431501043a354d97cc9e522d3"
   }
  },
  "widgets": {
   "application/vnd.jupyter.widget-state+json": {
    "state": {},
    "version_major": 2,
    "version_minor": 0
   }
  }
 },
 "nbformat": 4,
 "nbformat_minor": 4
}
