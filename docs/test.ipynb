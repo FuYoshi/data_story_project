{
 "cells": [
  {
   "attachments": {},
   "cell_type": "markdown",
   "metadata": {},
   "source": [
    "# Data Preprocessing\n",
    "\n",
    "Student namen: Laiba Shamsul, Popke Snoek, Yoshi Fu, Pepeyn Velthuijse\n",
    "\n",
    "Team nummer: G4\n",
    "\n",
    "The following code is used to preprocess the datasets into files that are used for the data story. The kernel might die due to\n",
    "the dataset being very large.\n",
    "\n",
    "Note that it requires the dataset to be downloaded and inserted into the same folder as this notebook. You may find visualizations that did not make it into the actual data story. The dataset is too big to put on git, git lfs or for pandas.read_csv() to read using a share link on google drive/onedrive.\n",
    "\n",
    "The entire cleaned dataset can be downloaded from: https://drive.google.com/file/d/1sTGPzVfk017Y8n2KPgsIxP9eXdl02YgH/view\n",
    "\n",
    "If you want to see the code that made the cleaned dataset, then look at the 'clean.py' file in the github repository. https://github.com/FuYoshi/data_story_project\n"
   ]
  },
  {
   "cell_type": "code",
   "execution_count": null,
   "metadata": {},
   "outputs": [],
   "source": [
    "# Import packages\n",
    "import pandas as pd\n"
   ]
  },
  {
   "cell_type": "code",
   "execution_count": null,
   "metadata": {
    "tags": []
   },
   "outputs": [],
   "source": [
    "# Read the big dataset in chunks.\n",
    "chunk_size = 1000000\n",
    "dtypes = {\"Country\": str, \"Mk\": str, \"Cn\": str, \"m (kg)\": float, \"Enedc (g/km)\": float, \"Ewltp (g/km)\": float, \"W (mm)\": float, \"Ft\": str, \"Ernedc (g/km)\": float, \"Erwltp (g/km)\": float, \"year\": int}\n",
    "chunk_container = pd.read_csv(\"CO2_data.csv\", dtype=dtypes, chunksize=chunk_size)\n",
    "\n",
    "# Split the dataset by year.\n",
    "# This ensures that the kernel does not die due to memory shortage and some plots only require data of 2021.\n",
    "co2_2015 = pd.DataFrame()\n",
    "co2_2016 = pd.DataFrame()\n",
    "co2_2017 = pd.DataFrame()\n",
    "co2_2018 = pd.DataFrame()\n",
    "co2_2019 = pd.DataFrame()\n",
    "co2_2020 = pd.DataFrame()\n",
    "co2_2021 = pd.DataFrame()\n",
    "for chunk in chunk_container:\n",
    "    co2_2015 = pd.concat([co2_2015, chunk[chunk[\"year\"] == 2015]], ignore_index=True)\n",
    "    co2_2016 = pd.concat([co2_2016, chunk[chunk[\"year\"] == 2016]], ignore_index=True)\n",
    "    co2_2017 = pd.concat([co2_2017, chunk[chunk[\"year\"] == 2017]], ignore_index=True)\n",
    "    co2_2018 = pd.concat([co2_2018, chunk[chunk[\"year\"] == 2018]], ignore_index=True)\n",
    "    co2_2019 = pd.concat([co2_2019, chunk[chunk[\"year\"] == 2019]], ignore_index=True)\n",
    "    co2_2020 = pd.concat([co2_2020, chunk[chunk[\"year\"] == 2020]], ignore_index=True)\n",
    "    co2_2021 = pd.concat([co2_2021, chunk[chunk[\"year\"] == 2021]], ignore_index=True)\n",
    "co2_2021.head()\n"
   ]
  },
  {
   "cell_type": "code",
   "execution_count": null,
   "metadata": {},
   "outputs": [],
   "source": [
    "# Set to true to convert data to csv. False otherwise.\n",
    "to_csv = True"
   ]
  },
  {
   "cell_type": "code",
   "execution_count": null,
   "metadata": {
    "tags": []
   },
   "outputs": [],
   "source": [
    "# Compute data for bar graph with average CO2 emission per country\n",
    "country_emission = pd.DataFrame()\n",
    "for df in [co2_2015, co2_2016, co2_2017, co2_2018, co2_2019, co2_2020, co2_2021]:\n",
    "    # Get subset of columns.\n",
    "    df = df[[\"Country\", \"year\", \"Ewltp (g/km)\", \"Erwltp (g/km)\"]]\n",
    "    # Group by country and year and compute mean and std.\n",
    "    df = df.groupby([\"Country\", \"year\"]).agg({\"Ewltp (g/km)\": ['mean', 'sum'], \"Erwltp (g/km)\": 'mean'}).reset_index()\n",
    "    df.columns = df.columns.map(' '.join).str.strip()\n",
    "    country_emission = pd.concat([country_emission, df], ignore_index=True)\n",
    "\n",
    "if to_csv:\n",
    "    country_emission.to_csv(\"country_emission.csv\")\n",
    "\n",
    "country_emission.head()\n"
   ]
  },
  {
   "cell_type": "code",
   "execution_count": null,
   "metadata": {
    "tags": []
   },
   "outputs": [],
   "source": [
    "# Lijst om de resultaten in op te slaan\n",
    "counts_results = []\n",
    "\n",
    "def classify_electric(x: str):\n",
    "    if \"-electric\" in x:\n",
    "        return \"Semi-Elektrisch\"\n",
    "    elif \"electric\" in x:\n",
    "        return \"Elektrisch\"\n",
    "    else:\n",
    "        return \"Anders\"\n",
    "\n",
    "# Itereer over elke chunk\n",
    "for chunk in pd.read_csv(\"CO2_data.csv\", chunksize=1000000):\n",
    "    # Classificeer elektrische en hybride auto's als 'Elektrisch', en alle anderen als 'Anders'\n",
    "    chunk['Ft'] = chunk['Ft'].apply(classify_electric)\n",
    "    # chunk['Ft'] = chunk['Ft'].apply(lambda x: 'Elektrisch' if 'electric' in x or 'hybrid' in x else 'Anders')\n",
    "\n",
    "    # Doe de berekeningen\n",
    "    count_result = chunk.groupby(['year', 'Ft'], group_keys=False).size().reset_index(name='counts')\n",
    "    # Voeg het resultaat toe aan de lijst\n",
    "    counts_results.append(count_result)\n"
   ]
  },
  {
   "cell_type": "code",
   "execution_count": null,
   "metadata": {
    "tags": []
   },
   "outputs": [],
   "source": [
    "# Concateneer alle resultaten in een dataframe\n",
    "df_counts = pd.concat(counts_results)\n",
    "\n",
    "# Splits bij jaar en brandstoftype\n",
    "df_counts = df_counts.groupby([\"year\", \"Ft\"]).agg({\"counts\": 'sum'}).reset_index()\n",
    "\n",
    "# Bereken totale emissie per jaar.\n",
    "df_counts[\"sum\"] = df_counts.groupby(\"year\")[\"counts\"].transform('sum')\n",
    "\n",
    "# Bereken de percentages\n",
    "df_counts[\"percent\"] = 100 * df_counts[\"counts\"] / df_counts[\"sum\"]\n",
    "\n",
    "if to_csv:\n",
    "    df_counts.to_csv(\"fuel_type_distribution.csv\")\n",
    "\n",
    "df_counts.head()"
   ]
  },
  {
   "cell_type": "code",
   "execution_count": null,
   "metadata": {
    "tags": []
   },
   "outputs": [],
   "source": [
    "# Compute total emission for each fuel type.\n",
    "total_emission_per_ft = co2_2021.groupby('Ft').agg({\"Ewltp (g/km)\": ['sum', 'size']})\n",
    "total_emission_per_ft.columns = total_emission_per_ft.columns.map(' '.join).str.strip()\n",
    "total_emission_per_ft = total_emission_per_ft.rename(columns={\n",
    "    \"Ewltp (g/km) sum\": \"Ewltp (g/km)\",\n",
    "    \"Ewltp (g/km) size\": \"n\",\n",
    "})\n",
    "total_emission_per_ft = total_emission_per_ft.sort_values(by=\"Ewltp (g/km)\", ascending=False).reset_index()\n",
    "\n",
    "if to_csv:\n",
    "    total_emission_per_ft.to_csv(\"total_emission_per_ft.csv\")\n",
    "\n",
    "total_emission_per_ft.head()\n"
   ]
  },
  {
   "cell_type": "code",
   "execution_count": null,
   "metadata": {
    "tags": []
   },
   "outputs": [],
   "source": [
    "# Get a random sample of cars in 2021. Get their emission and mass.\n",
    "# We take a random sample because there is so much data that the site becomes slow otherwise.\n",
    "car_emission_mass = co2_2021.sample(n=100000, replace=False)\n",
    "car_emission_mass = car_emission_mass[[\"Ft\", \"Ewltp (g/km)\", \"m (kg)\"]]\n",
    "\n",
    "if to_csv:\n",
    "    car_emission_mass.to_csv(\"car_emission_mass.csv\")\n",
    "\n",
    "car_emission_mass.head()\n"
   ]
  },
  {
   "cell_type": "code",
   "execution_count": null,
   "metadata": {},
   "outputs": [],
   "source": [
    "# Get the emission per car brand\n",
    "bycarbrand_2015 = co2_2015[['Mk','Cn', 'Ewltp (g/km)', 'year', 'Ft']]\n",
    "bycarbrand_2016 = co2_2016[['Mk','Cn', 'Ewltp (g/km)', 'year', 'Ft']]\n",
    "bycarbrand_2017 = co2_2017[['Mk','Cn', 'Ewltp (g/km)', 'year', 'Ft']]\n",
    "bycarbrand_2018 = co2_2018[['Mk','Cn', 'Ewltp (g/km)', 'year', 'Ft']]\n",
    "bycarbrand_2019 = co2_2019[['Mk','Cn', 'Ewltp (g/km)', 'year', 'Ft']]\n",
    "bycarbrand_2020 = co2_2020[['Mk','Cn', 'Ewltp (g/km)', 'year', 'Ft']]\n",
    "bycarbrand_2021 = co2_2021[['Mk','Cn', 'Ewltp (g/km)', 'year', 'Ft']]\n",
    "\n",
    "frames = [bycarbrand_2015, bycarbrand_2016, bycarbrand_2017, bycarbrand_2018, bycarbrand_2019, bycarbrand_2020, bycarbrand_2021]\n",
    "result = pd.concat(frames)\n",
    "\n",
    "# Compute data for bar graph with average CO2 emission per country\n",
    "car_emission = pd.DataFrame()\n",
    "for df in [result]:\n",
    "    # Group by country and year and compute mean and std.\n",
    "    df = df.groupby([\"Mk\", \"year\", \"Ft\"]).agg({\"Ewltp (g/km)\": ['mean']}).reset_index()\n",
    "    # Change mutliindex to single index.\n",
    "    df.columns = df.columns.map(' '.join).str.strip()\n",
    "    car_emission = pd.concat([car_emission, df], ignore_index=True)\n",
    "\n",
    "if to_csv:\n",
    "    car_emission.to_csv(\"car_emission.csv\")\n",
    "\n",
    "car_emission.head()"
   ]
  },
  {
   "cell_type": "code",
   "execution_count": null,
   "metadata": {},
   "outputs": [],
   "source": []
  }
 ],
 "metadata": {
  "kernelspec": {
   "display_name": "Python 3 (ipykernel)",
   "language": "python",
   "name": "python3"
  },
  "language_info": {
   "codemirror_mode": {
    "name": "ipython",
    "version": 3
   },
   "file_extension": ".py",
   "mimetype": "text/x-python",
   "name": "python",
   "nbconvert_exporter": "python",
   "pygments_lexer": "ipython3",
   "version": "3.10.10"
  },
  "widgets": {
   "application/vnd.jupyter.widget-state+json": {
    "state": {},
    "version_major": 2,
    "version_minor": 0
   }
  }
 },
 "nbformat": 4,
 "nbformat_minor": 4
}
